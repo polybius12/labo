{
 "cells": [
  {
   "cell_type": "code",
   "execution_count": 1,
   "id": "0371cdf5-1dc1-4c99-ba3f-27c078867307",
   "metadata": {
    "tags": []
   },
   "outputs": [],
   "source": [
    "import pandas as pd"
   ]
  },
  {
   "cell_type": "code",
   "execution_count": 2,
   "id": "a8672206-ff69-47c9-814f-4b895410de9e",
   "metadata": {
    "tags": []
   },
   "outputs": [],
   "source": [
    "df = pd.read_csv('../../buckets/b1/exp/TS5410/dataset_training.csv.gz')"
   ]
  },
  {
   "cell_type": "code",
   "execution_count": 3,
   "id": "d80bbcda-0924-44b4-a7d9-9b6f2c03e7f3",
   "metadata": {
    "tags": []
   },
   "outputs": [],
   "source": [
    "df['clase_ternaria'].replace({'CONTINUA':0, 'BAJA+2':1, 'BAJA+1':1}, inplace=True)"
   ]
  },
  {
   "cell_type": "code",
   "execution_count": 4,
   "id": "14e8fd4d-1e85-44fb-92e3-7c461dac3464",
   "metadata": {
    "tags": []
   },
   "outputs": [],
   "source": [
    "import pandas as pd\n",
    "from imblearn.under_sampling import RandomUnderSampler\n",
    "\n",
    "def undersample_majority(df, target_column):\n",
    "    rus = RandomUnderSampler(random_state=42)\n",
    "    X_undersampled, y_undersampled = rus.fit_resample(df.drop(target_column, axis=1), df[target_column])\n",
    "    df_undersampled = pd.DataFrame(X_undersampled, columns=df.columns.drop(target_column))\n",
    "    df_undersampled[target_column] = y_undersampled\n",
    "    return df_undersampled\n",
    "\n",
    "def rolling_window_df(df, window_size=0.3, step_size=0.10, max_datasets=6):\n",
    "    num_cols = len(df.columns)\n",
    "    window_cols = int(num_cols * window_size)\n",
    "    step_cols = int(num_cols * step_size)\n",
    "    \n",
    "    result = []\n",
    "    \n",
    "    for start_col in range(0, num_cols, step_cols):\n",
    "        if max_datasets and len(result) >= max_datasets:\n",
    "            break\n",
    "            \n",
    "        end_col = start_col + window_cols\n",
    "        if end_col > num_cols:\n",
    "            break\n",
    "            \n",
    "        result.append(df.iloc[:, start_col:end_col])        \n",
    "    return result"
   ]
  },
  {
   "cell_type": "code",
   "execution_count": 5,
   "id": "d8d3be56-7341-4a1e-83f4-6e14fa2aea2b",
   "metadata": {
    "tags": []
   },
   "outputs": [
    {
     "name": "stderr",
     "output_type": "stream",
     "text": [
      "/tmp/ipykernel_7826/3421876007.py:8: PerformanceWarning: DataFrame is highly fragmented.  This is usually the result of calling `frame.insert` many times, which has poor performance.  Consider joining all columns at once using pd.concat(axis=1) instead. To get a de-fragmented frame, use `newframe = frame.copy()`\n",
      "  df_undersampled[target_column] = y_undersampled\n"
     ]
    }
   ],
   "source": [
    "df_undersampled = undersample_majority(df, 'clase_ternaria')\n",
    "\n",
    "train_data = df_undersampled[df_undersampled['fold_test'] !=1]\n",
    "test_data = df_undersampled[df_undersampled['fold_test'] ==1]"
   ]
  },
  {
   "cell_type": "code",
   "execution_count": null,
   "id": "7f1b47a1-f7e9-45bd-901c-45f998bbf375",
   "metadata": {
    "tags": []
   },
   "outputs": [],
   "source": [
    "# train_data = df[df['fold_test'] !=1]\n",
    "# test_data = df[df['fold_test'] ==1]"
   ]
  },
  {
   "cell_type": "code",
   "execution_count": 6,
   "id": "e42b25db-deae-425b-8c1c-680abf8a3793",
   "metadata": {
    "tags": []
   },
   "outputs": [],
   "source": [
    "X = train_data.drop(columns='clase_ternaria')\n",
    "y = train_data['clase_ternaria']"
   ]
  },
  {
   "cell_type": "code",
   "execution_count": 7,
   "id": "d29abdf2-1621-4bcc-b6f7-aa66ba5f674e",
   "metadata": {
    "tags": []
   },
   "outputs": [
    {
     "data": {
      "text/html": [
       "<style type='text/css'>\n",
       ".datatable table.frame { margin-bottom: 0; }\n",
       ".datatable table.frame thead { border-bottom: none; }\n",
       ".datatable table.frame tr.coltypes td {  color: #FFFFFF;  line-height: 6px;  padding: 0 0.5em;}\n",
       ".datatable .bool    { background: #DDDD99; }\n",
       ".datatable .object  { background: #565656; }\n",
       ".datatable .int     { background: #5D9E5D; }\n",
       ".datatable .float   { background: #4040CC; }\n",
       ".datatable .str     { background: #CC4040; }\n",
       ".datatable .time    { background: #40CC40; }\n",
       ".datatable .row_index {  background: var(--jp-border-color3);  border-right: 1px solid var(--jp-border-color0);  color: var(--jp-ui-font-color3);  font-size: 9px;}\n",
       ".datatable .frame tbody td { text-align: left; }\n",
       ".datatable .frame tr.coltypes .row_index {  background: var(--jp-border-color0);}\n",
       ".datatable th:nth-child(2) { padding-left: 12px; }\n",
       ".datatable .hellipsis {  color: var(--jp-cell-editor-border-color);}\n",
       ".datatable .vellipsis {  background: var(--jp-layout-color0);  color: var(--jp-cell-editor-border-color);}\n",
       ".datatable .na {  color: var(--jp-cell-editor-border-color);  font-size: 80%;}\n",
       ".datatable .sp {  opacity: 0.25;}\n",
       ".datatable .footer { font-size: 9px; }\n",
       ".datatable .frame_dimensions {  background: var(--jp-border-color3);  border-top: 1px solid var(--jp-border-color0);  color: var(--jp-ui-font-color3);  display: inline-block;  opacity: 0.6;  padding: 1px 10px 1px 5px;}\n",
       "</style>\n"
      ],
      "text/plain": [
       "<IPython.core.display.HTML object>"
      ]
     },
     "metadata": {},
     "output_type": "display_data"
    }
   ],
   "source": [
    "import numpy as np\n",
    "import pandas as pd\n",
    "from sklearn.ensemble import RandomForestClassifier, ExtraTreesClassifier\n",
    "from lightgbm import LGBMClassifier\n",
    "from sklearn.impute import SimpleImputer\n",
    "\n",
    "imputer = SimpleImputer(strategy='median')\n",
    "X_imputed = imputer.fit_transform(X)\n",
    "X_imputed = pd.DataFrame(X_imputed, columns=X.columns)\n",
    "\n",
    "rf_model = RandomForestClassifier()\n",
    "lgbm_model = LGBMClassifier()\n",
    "et_model = ExtraTreesClassifier()\n",
    "\n",
    "#rf_model.fit(X_imputed, y)\n",
    "lgbm_model.fit(X_imputed, y)\n",
    "et_model.fit(X_imputed, y)\n",
    "\n",
    "#importances_rf = rf_model.feature_importances_\n",
    "importances_lgbm = lgbm_model.feature_importances_\n",
    "importances_et = et_model.feature_importances_"
   ]
  },
  {
   "cell_type": "code",
   "execution_count": null,
   "id": "390b3f4d-5420-43d3-9b27-2e1de8cc41ce",
   "metadata": {
    "tags": []
   },
   "outputs": [],
   "source": [
    "importances_mean = (importances_rf + importances_lgbm + importances_et) / 3"
   ]
  },
  {
   "cell_type": "code",
   "execution_count": 10,
   "id": "8c208e44-aab0-45b9-ae23-aff5f2e7231b",
   "metadata": {
    "tags": []
   },
   "outputs": [],
   "source": [
    "feature_importances_df = pd.DataFrame({'feature': X_imputed.columns, 'importance': importances_lgbm})\n",
    "feature_importances_df.sort_values('importance', ascending=False, inplace=True)"
   ]
  },
  {
   "cell_type": "code",
   "execution_count": 25,
   "id": "b6bc3358-3b7b-45e8-835d-4443a9c9b77b",
   "metadata": {
    "tags": []
   },
   "outputs": [],
   "source": [
    "X.columns = feature_importances_df['feature'].values"
   ]
  },
  {
   "cell_type": "code",
   "execution_count": 100,
   "id": "df40e579-3717-4c24-93af-3f49b0ff4755",
   "metadata": {
    "tags": []
   },
   "outputs": [],
   "source": [
    "## datasets\n",
    "dataset_1 = X.iloc[:,:int(X.shape[1]*0.3)]\n",
    "dataset_2 = X.iloc[:,int(X.shape[1]*0.6):]\n",
    "dataset_3 = X[random_values]\n",
    "dataset_4 = dataset_rolling[1]\n",
    "dataset_5 = dataset_rolling[2]\n",
    "dataset_6 = dataset_rolling[3]\n",
    "dataset_7 = dataset_rolling[4]\n",
    "dataset_8 = dataset_rolling[5]\n",
    "dataset_9 = pd.concat([X.iloc[:,:int(X.shape[1]*0.15)],X.iloc[:,int(X.shape[1]*0.85):]])\n",
    "dataset_10 = X[list(set(X.columns) - set(dataset_9.columns))]"
   ]
  },
  {
   "cell_type": "markdown",
   "id": "10433c59-d613-46f2-b162-ab1e614ec957",
   "metadata": {},
   "source": [
    "# experiments"
   ]
  },
  {
   "cell_type": "code",
   "execution_count": 101,
   "id": "bed98127-4ede-4371-b648-93a31fce0f6e",
   "metadata": {
    "tags": []
   },
   "outputs": [],
   "source": [
    "import time\n",
    "import lightgbm as lgb\n",
    "import optuna\n",
    "import pandas as pd\n",
    "import numpy as np\n",
    "from sklearn.model_selection import StratifiedKFold, cross_val_score\n",
    "from sklearn.ensemble import ExtraTreesClassifier\n",
    "from sklearn.metrics import f1_score, matthews_corrcoef, roc_auc_score\n",
    "from sklearn.metrics import make_scorer"
   ]
  },
  {
   "cell_type": "code",
   "execution_count": 102,
   "id": "0d7f8744-8d97-4bf2-8fdb-f45837e8d804",
   "metadata": {
    "tags": []
   },
   "outputs": [],
   "source": [
    "def custom_metric(y_true, y_pred):\n",
    "    # Replace with your own metric calculation\n",
    "    return np.mean(y_true == y_pred)\n"
   ]
  },
  {
   "cell_type": "code",
   "execution_count": null,
   "id": "2fe14553-acbe-4557-bfb6-6a7c7ffa934f",
   "metadata": {
    "tags": []
   },
   "outputs": [],
   "source": [
    "def lgb_objective(trial):\n",
    "    params = {\n",
    "        'boosting_type': 'gbdt',\n",
    "        'objective': 'binary',\n",
    "        'metric': 'custom',\n",
    "        'first_metric_only': True,\n",
    "        'boost_from_average': True,\n",
    "        'feature_pre_filter': False,\n",
    "        'force_row_wise': True,\n",
    "        'verbosity': -100,\n",
    "        'max_depth': -1,\n",
    "        'min_gain_to_split': 0.0,\n",
    "        'min_sum_hessian_in_leaf': 0.001,\n",
    "        'lambda_l1': 0.0,\n",
    "        'lambda_l2': 0.0,\n",
    "        'max_bin': 31,\n",
    "        'num_iterations': 9999,\n",
    "        'bagging_fraction': 1.0,\n",
    "        'pos_bagging_fraction': 1.0,\n",
    "        'neg_bagging_fraction': 1.0,\n",
    "        'is_unbalance': False,\n",
    "        'scale_pos_weight': 1.0,\n",
    "        'drop_rate': 0.1,\n",
    "        'max_drop': 50,\n",
    "        'skip_drop': 0.5,\n",
    "        'extra_trees': True,\n",
    "        'learning_rate': trial.suggest_uniform('learning_rate', 0.01, 0.3),\n",
    "        'feature_fraction': trial.suggest_uniform('feature_fraction', 0.01, 1.0),\n",
    "        'num_leaves': trial.suggest_int('num_leaves', 4, 1024),\n",
    "        'min_data_in_leaf': trial.suggest_int('min_data_in_leaf', 1, 50000),\n",
    "    }\n",
    "\n",
    "    scores = cross_val_score(lgb.LGBMClassifier(**params), X, y, cv=5, scoring='roc_auc')\n",
    "    return scores.mean()\n",
    "\n",
    "def etc_objective(trial):\n",
    "    params = {\n",
    "        'n_estimators': trial.suggest_int('n_estimators', 50, 500),\n",
    "        'max_depth': trial.suggest_int('max_depth', 2, 32),\n",
    "        'min_samples_split': trial.suggest_int('min_samples_split', 2, 15),\n",
    "        'min_samples_leaf': trial.suggest_int('min_samples_leaf', 1, 15),\n",
    "        'max_features': trial.suggest_uniform('max_features', 0.1, 1.0),\n",
    "    }\n",
    "\n",
    "    scores = cross_val_score(ExtraTreesClassifier(**params), X, y, cv=5, scoring='roc_auc')\n",
    "    return scores.mean()"
   ]
  },
  {
   "cell_type": "code",
   "execution_count": 104,
   "id": "7a51d820-cbea-4ff1-989b-52227f08fd89",
   "metadata": {
    "tags": []
   },
   "outputs": [],
   "source": [
    "seeds = [0, 1, 2, 3, 4]"
   ]
  },
  {
   "cell_type": "code",
   "execution_count": 107,
   "id": "6974a58c-4a4d-4a3c-9310-1280cdaa79bb",
   "metadata": {
    "tags": []
   },
   "outputs": [],
   "source": [
    "def experiments(X, y):\n",
    "    results_df = pd.DataFrame(columns=['seed', 'model', 'training_time', 'f1_score', 'mcc', 'auc', 'custom_metric'])\n",
    "\n",
    "    for seed in seeds:    \n",
    "        np.random.seed(seed)\n",
    "\n",
    "        start_time = time.time()\n",
    "        lgb_study = optuna.create_study(direction='maximize')\n",
    "        lgb_study.optimize(lgb_objective, n_trials=50)\n",
    "        lgb_model = lgb.LGBMClassifier(**lgb_study.best_params)\n",
    "        lgb_model.fit(X, y)\n",
    "        training_time = time.time() - start_time\n",
    "\n",
    "        # Compute metrics\n",
    "        y_pred = lgb_model.predict(X)\n",
    "        results_df = results_df.append({\n",
    "            'seed': seed,\n",
    "            'model': 'LightGBM',\n",
    "            'training_time': training_time,\n",
    "            'f1_score': f1_score(y, y_pred),\n",
    "            'mcc': matthews_corrcoef(y, y_pred),\n",
    "            'auc': roc_auc_score(y, lgb_model.predict_proba(X)[:, 1]),\n",
    "            'custom_metric': custom_metric(y, y_pred)\n",
    "        }, ignore_index=True)\n",
    "\n",
    "        # Train and optimize Extremely Randomized Trees model\n",
    "        start_time = time.time()\n",
    "        etc_study = optuna.create_study(direction='maximize')\n",
    "        etc_study.optimize(etc_objective, n_trials=50)\n",
    "        etc_model = ExtraTreesClassifier(**etc_study.best_params)\n",
    "        etc_model.fit(X, y)\n",
    "        training_time = time.time() - start_time\n",
    "\n",
    "        # Compute metrics\n",
    "        y_pred = etc_model.predict(X)\n",
    "        results_df = results_df.append({\n",
    "            'seed': seed,\n",
    "            'model': 'ExtraTrees',\n",
    "            'training_time': training_time,\n",
    "            'f1_score': f1_score(y, y_pred),\n",
    "            'mcc': matthews_corrcoef(y, y_pred),\n",
    "            'auc': roc_auc_score(y, etc_model.predict_proba(X)[:, 1]),\n",
    "            'custom_metric': custom_metric(y, y_pred)\n",
    "        }, ignore_index=True)\n",
    "\n",
    "        # Train Extremely Randomized Trees model with default parameters\n",
    "        start_time = time.time()\n",
    "        etc_model_default = ExtraTreesClassifier(random_state=seed)\n",
    "        etc_model_default.fit(X, y)\n",
    "        training_time = time.time() - start_time\n",
    "\n",
    "        # Compute metrics\n",
    "        y_pred = etc_model_default.predict(X)\n",
    "        results_df = results_df.append({\n",
    "            'seed': seed,\n",
    "            'model': 'ExtraTreesDefault',\n",
    "            'training_time': training_time,\n",
    "            'f1_score': f1_score(y, y_pred),\n",
    "            'mcc': matthews_corrcoef(y, y_pred),\n",
    "            'auc': roc_auc_score(y, etc_model_default.predict_proba(X)[:, 1]),\n",
    "            'custom_metric': custom_metric(y, y_pred)\n",
    "        }, ignore_index=True)\n",
    "\n",
    "    return results_df"
   ]
  },
  {
   "cell_type": "code",
   "execution_count": null,
   "id": "66797866-6c8a-4044-9fe4-390d97473ecf",
   "metadata": {
    "tags": []
   },
   "outputs": [
    {
     "name": "stderr",
     "output_type": "stream",
     "text": [
      "\u001b[32m[I 2023-05-19 13:45:31,169]\u001b[0m A new study created in memory with name: no-name-4ae75666-3c01-49ea-93eb-b5997d2f4652\u001b[0m\n",
      "/tmp/ipykernel_7826/1620813270.py:7: FutureWarning: suggest_loguniform has been deprecated in v3.0.0. This feature will be removed in v6.0.0. See https://github.com/optuna/optuna/releases/tag/v3.0.0. Use :func:`~optuna.trial.Trial.suggest_float` instead.\n",
      "  'lambda_l1': trial.suggest_loguniform('lambda_l1', 1e-8, 10.0),\n",
      "/tmp/ipykernel_7826/1620813270.py:8: FutureWarning: suggest_loguniform has been deprecated in v3.0.0. This feature will be removed in v6.0.0. See https://github.com/optuna/optuna/releases/tag/v3.0.0. Use :func:`~optuna.trial.Trial.suggest_float` instead.\n",
      "  'lambda_l2': trial.suggest_loguniform('lambda_l2', 1e-8, 10.0),\n",
      "/tmp/ipykernel_7826/1620813270.py:10: FutureWarning: suggest_uniform has been deprecated in v3.0.0. This feature will be removed in v6.0.0. See https://github.com/optuna/optuna/releases/tag/v3.0.0. Use :func:`~optuna.trial.Trial.suggest_float` instead.\n",
      "  'feature_fraction': trial.suggest_uniform('feature_fraction', 0.4, 1.0),\n",
      "/tmp/ipykernel_7826/1620813270.py:11: FutureWarning: suggest_uniform has been deprecated in v3.0.0. This feature will be removed in v6.0.0. See https://github.com/optuna/optuna/releases/tag/v3.0.0. Use :func:`~optuna.trial.Trial.suggest_float` instead.\n",
      "  'bagging_fraction': trial.suggest_uniform('bagging_fraction', 0.4, 1.0),\n"
     ]
    },
    {
     "name": "stdout",
     "output_type": "stream",
     "text": [
      "[LightGBM] [Warning] bagging_fraction is set=0.9646990168267559, subsample=1.0 will be ignored. Current value: bagging_fraction=0.9646990168267559\n",
      "[LightGBM] [Warning] lambda_l2 is set=0.00012840869774737097, reg_lambda=0.0 will be ignored. Current value: lambda_l2=0.00012840869774737097\n",
      "[LightGBM] [Warning] lambda_l1 is set=8.130494584029792, reg_alpha=0.0 will be ignored. Current value: lambda_l1=8.130494584029792\n",
      "[LightGBM] [Warning] bagging_freq is set=3, subsample_freq=0 will be ignored. Current value: bagging_freq=3\n",
      "[LightGBM] [Warning] feature_fraction is set=0.44685446179702293, colsample_bytree=1.0 will be ignored. Current value: feature_fraction=0.44685446179702293\n",
      "[LightGBM] [Warning] bagging_fraction is set=0.9646990168267559, subsample=1.0 will be ignored. Current value: bagging_fraction=0.9646990168267559\n",
      "[LightGBM] [Warning] lambda_l2 is set=0.00012840869774737097, reg_lambda=0.0 will be ignored. Current value: lambda_l2=0.00012840869774737097\n",
      "[LightGBM] [Warning] lambda_l1 is set=8.130494584029792, reg_alpha=0.0 will be ignored. Current value: lambda_l1=8.130494584029792\n",
      "[LightGBM] [Warning] bagging_freq is set=3, subsample_freq=0 will be ignored. Current value: bagging_freq=3\n",
      "[LightGBM] [Warning] feature_fraction is set=0.44685446179702293, colsample_bytree=1.0 will be ignored. Current value: feature_fraction=0.44685446179702293\n",
      "[LightGBM] [Warning] bagging_fraction is set=0.9646990168267559, subsample=1.0 will be ignored. Current value: bagging_fraction=0.9646990168267559\n",
      "[LightGBM] [Warning] lambda_l2 is set=0.00012840869774737097, reg_lambda=0.0 will be ignored. Current value: lambda_l2=0.00012840869774737097\n",
      "[LightGBM] [Warning] lambda_l1 is set=8.130494584029792, reg_alpha=0.0 will be ignored. Current value: lambda_l1=8.130494584029792\n",
      "[LightGBM] [Warning] bagging_freq is set=3, subsample_freq=0 will be ignored. Current value: bagging_freq=3\n",
      "[LightGBM] [Warning] feature_fraction is set=0.44685446179702293, colsample_bytree=1.0 will be ignored. Current value: feature_fraction=0.44685446179702293\n",
      "[LightGBM] [Warning] bagging_fraction is set=0.9646990168267559, subsample=1.0 will be ignored. Current value: bagging_fraction=0.9646990168267559\n",
      "[LightGBM] [Warning] lambda_l2 is set=0.00012840869774737097, reg_lambda=0.0 will be ignored. Current value: lambda_l2=0.00012840869774737097\n",
      "[LightGBM] [Warning] lambda_l1 is set=8.130494584029792, reg_alpha=0.0 will be ignored. Current value: lambda_l1=8.130494584029792\n",
      "[LightGBM] [Warning] bagging_freq is set=3, subsample_freq=0 will be ignored. Current value: bagging_freq=3\n",
      "[LightGBM] [Warning] feature_fraction is set=0.44685446179702293, colsample_bytree=1.0 will be ignored. Current value: feature_fraction=0.44685446179702293\n"
     ]
    },
    {
     "name": "stderr",
     "output_type": "stream",
     "text": [
      "\u001b[32m[I 2023-05-19 13:45:44,083]\u001b[0m Trial 0 finished with value: 0.837015578773633 and parameters: {'lambda_l1': 8.130494584029792, 'lambda_l2': 0.00012840869774737097, 'num_leaves': 20, 'feature_fraction': 0.44685446179702293, 'bagging_fraction': 0.9646990168267559, 'bagging_freq': 3, 'min_child_samples': 40}. Best is trial 0 with value: 0.837015578773633.\u001b[0m\n",
      "/tmp/ipykernel_7826/1620813270.py:7: FutureWarning: suggest_loguniform has been deprecated in v3.0.0. This feature will be removed in v6.0.0. See https://github.com/optuna/optuna/releases/tag/v3.0.0. Use :func:`~optuna.trial.Trial.suggest_float` instead.\n",
      "  'lambda_l1': trial.suggest_loguniform('lambda_l1', 1e-8, 10.0),\n",
      "/tmp/ipykernel_7826/1620813270.py:8: FutureWarning: suggest_loguniform has been deprecated in v3.0.0. This feature will be removed in v6.0.0. See https://github.com/optuna/optuna/releases/tag/v3.0.0. Use :func:`~optuna.trial.Trial.suggest_float` instead.\n",
      "  'lambda_l2': trial.suggest_loguniform('lambda_l2', 1e-8, 10.0),\n",
      "/tmp/ipykernel_7826/1620813270.py:10: FutureWarning: suggest_uniform has been deprecated in v3.0.0. This feature will be removed in v6.0.0. See https://github.com/optuna/optuna/releases/tag/v3.0.0. Use :func:`~optuna.trial.Trial.suggest_float` instead.\n",
      "  'feature_fraction': trial.suggest_uniform('feature_fraction', 0.4, 1.0),\n",
      "/tmp/ipykernel_7826/1620813270.py:11: FutureWarning: suggest_uniform has been deprecated in v3.0.0. This feature will be removed in v6.0.0. See https://github.com/optuna/optuna/releases/tag/v3.0.0. Use :func:`~optuna.trial.Trial.suggest_float` instead.\n",
      "  'bagging_fraction': trial.suggest_uniform('bagging_fraction', 0.4, 1.0),\n"
     ]
    },
    {
     "name": "stdout",
     "output_type": "stream",
     "text": [
      "[LightGBM] [Warning] bagging_fraction is set=0.4466508459700563, subsample=1.0 will be ignored. Current value: bagging_fraction=0.4466508459700563\n",
      "[LightGBM] [Warning] lambda_l2 is set=2.018559578612217e-06, reg_lambda=0.0 will be ignored. Current value: lambda_l2=2.018559578612217e-06\n",
      "[LightGBM] [Warning] lambda_l1 is set=0.00042994168530016545, reg_alpha=0.0 will be ignored. Current value: lambda_l1=0.00042994168530016545\n",
      "[LightGBM] [Warning] bagging_freq is set=3, subsample_freq=0 will be ignored. Current value: bagging_freq=3\n",
      "[LightGBM] [Warning] feature_fraction is set=0.8684065690253492, colsample_bytree=1.0 will be ignored. Current value: feature_fraction=0.8684065690253492\n",
      "[LightGBM] [Warning] bagging_fraction is set=0.4466508459700563, subsample=1.0 will be ignored. Current value: bagging_fraction=0.4466508459700563\n",
      "[LightGBM] [Warning] lambda_l2 is set=2.018559578612217e-06, reg_lambda=0.0 will be ignored. Current value: lambda_l2=2.018559578612217e-06\n",
      "[LightGBM] [Warning] lambda_l1 is set=0.00042994168530016545, reg_alpha=0.0 will be ignored. Current value: lambda_l1=0.00042994168530016545\n",
      "[LightGBM] [Warning] bagging_freq is set=3, subsample_freq=0 will be ignored. Current value: bagging_freq=3\n",
      "[LightGBM] [Warning] feature_fraction is set=0.8684065690253492, colsample_bytree=1.0 will be ignored. Current value: feature_fraction=0.8684065690253492\n",
      "[LightGBM] [Warning] bagging_fraction is set=0.4466508459700563, subsample=1.0 will be ignored. Current value: bagging_fraction=0.4466508459700563\n",
      "[LightGBM] [Warning] lambda_l2 is set=2.018559578612217e-06, reg_lambda=0.0 will be ignored. Current value: lambda_l2=2.018559578612217e-06\n",
      "[LightGBM] [Warning] lambda_l1 is set=0.00042994168530016545, reg_alpha=0.0 will be ignored. Current value: lambda_l1=0.00042994168530016545\n",
      "[LightGBM] [Warning] bagging_freq is set=3, subsample_freq=0 will be ignored. Current value: bagging_freq=3\n",
      "[LightGBM] [Warning] feature_fraction is set=0.8684065690253492, colsample_bytree=1.0 will be ignored. Current value: feature_fraction=0.8684065690253492\n",
      "[LightGBM] [Warning] bagging_fraction is set=0.4466508459700563, subsample=1.0 will be ignored. Current value: bagging_fraction=0.4466508459700563\n",
      "[LightGBM] [Warning] lambda_l2 is set=2.018559578612217e-06, reg_lambda=0.0 will be ignored. Current value: lambda_l2=2.018559578612217e-06\n",
      "[LightGBM] [Warning] lambda_l1 is set=0.00042994168530016545, reg_alpha=0.0 will be ignored. Current value: lambda_l1=0.00042994168530016545\n",
      "[LightGBM] [Warning] bagging_freq is set=3, subsample_freq=0 will be ignored. Current value: bagging_freq=3\n",
      "[LightGBM] [Warning] feature_fraction is set=0.8684065690253492, colsample_bytree=1.0 will be ignored. Current value: feature_fraction=0.8684065690253492\n",
      "[LightGBM] [Warning] bagging_fraction is set=0.4466508459700563, subsample=1.0 will be ignored. Current value: bagging_fraction=0.4466508459700563\n",
      "[LightGBM] [Warning] lambda_l2 is set=2.018559578612217e-06, reg_lambda=0.0 will be ignored. Current value: lambda_l2=2.018559578612217e-06\n",
      "[LightGBM] [Warning] lambda_l1 is set=0.00042994168530016545, reg_alpha=0.0 will be ignored. Current value: lambda_l1=0.00042994168530016545\n",
      "[LightGBM] [Warning] bagging_freq is set=3, subsample_freq=0 will be ignored. Current value: bagging_freq=3\n",
      "[LightGBM] [Warning] feature_fraction is set=0.8684065690253492, colsample_bytree=1.0 will be ignored. Current value: feature_fraction=0.8684065690253492\n"
     ]
    },
    {
     "name": "stderr",
     "output_type": "stream",
     "text": [
      "\u001b[32m[I 2023-05-19 13:46:13,266]\u001b[0m Trial 1 finished with value: 0.8449213956450817 and parameters: {'lambda_l1': 0.00042994168530016545, 'lambda_l2': 2.018559578612217e-06, 'num_leaves': 160, 'feature_fraction': 0.8684065690253492, 'bagging_fraction': 0.4466508459700563, 'bagging_freq': 3, 'min_child_samples': 79}. Best is trial 1 with value: 0.8449213956450817.\u001b[0m\n",
      "/tmp/ipykernel_7826/1620813270.py:7: FutureWarning: suggest_loguniform has been deprecated in v3.0.0. This feature will be removed in v6.0.0. See https://github.com/optuna/optuna/releases/tag/v3.0.0. Use :func:`~optuna.trial.Trial.suggest_float` instead.\n",
      "  'lambda_l1': trial.suggest_loguniform('lambda_l1', 1e-8, 10.0),\n",
      "/tmp/ipykernel_7826/1620813270.py:8: FutureWarning: suggest_loguniform has been deprecated in v3.0.0. This feature will be removed in v6.0.0. See https://github.com/optuna/optuna/releases/tag/v3.0.0. Use :func:`~optuna.trial.Trial.suggest_float` instead.\n",
      "  'lambda_l2': trial.suggest_loguniform('lambda_l2', 1e-8, 10.0),\n",
      "/tmp/ipykernel_7826/1620813270.py:10: FutureWarning: suggest_uniform has been deprecated in v3.0.0. This feature will be removed in v6.0.0. See https://github.com/optuna/optuna/releases/tag/v3.0.0. Use :func:`~optuna.trial.Trial.suggest_float` instead.\n",
      "  'feature_fraction': trial.suggest_uniform('feature_fraction', 0.4, 1.0),\n",
      "/tmp/ipykernel_7826/1620813270.py:11: FutureWarning: suggest_uniform has been deprecated in v3.0.0. This feature will be removed in v6.0.0. See https://github.com/optuna/optuna/releases/tag/v3.0.0. Use :func:`~optuna.trial.Trial.suggest_float` instead.\n",
      "  'bagging_fraction': trial.suggest_uniform('bagging_fraction', 0.4, 1.0),\n"
     ]
    },
    {
     "name": "stdout",
     "output_type": "stream",
     "text": [
      "[LightGBM] [Warning] bagging_fraction is set=0.6973374544557829, subsample=1.0 will be ignored. Current value: bagging_fraction=0.6973374544557829\n",
      "[LightGBM] [Warning] lambda_l2 is set=0.12120758403564824, reg_lambda=0.0 will be ignored. Current value: lambda_l2=0.12120758403564824\n",
      "[LightGBM] [Warning] lambda_l1 is set=1.1842293057475537e-06, reg_alpha=0.0 will be ignored. Current value: lambda_l1=1.1842293057475537e-06\n",
      "[LightGBM] [Warning] bagging_freq is set=6, subsample_freq=0 will be ignored. Current value: bagging_freq=6\n",
      "[LightGBM] [Warning] feature_fraction is set=0.8055161041151906, colsample_bytree=1.0 will be ignored. Current value: feature_fraction=0.8055161041151906\n",
      "[LightGBM] [Warning] bagging_fraction is set=0.6973374544557829, subsample=1.0 will be ignored. Current value: bagging_fraction=0.6973374544557829\n",
      "[LightGBM] [Warning] lambda_l2 is set=0.12120758403564824, reg_lambda=0.0 will be ignored. Current value: lambda_l2=0.12120758403564824\n",
      "[LightGBM] [Warning] lambda_l1 is set=1.1842293057475537e-06, reg_alpha=0.0 will be ignored. Current value: lambda_l1=1.1842293057475537e-06\n",
      "[LightGBM] [Warning] bagging_freq is set=6, subsample_freq=0 will be ignored. Current value: bagging_freq=6\n",
      "[LightGBM] [Warning] feature_fraction is set=0.8055161041151906, colsample_bytree=1.0 will be ignored. Current value: feature_fraction=0.8055161041151906\n",
      "[LightGBM] [Warning] bagging_fraction is set=0.6973374544557829, subsample=1.0 will be ignored. Current value: bagging_fraction=0.6973374544557829\n",
      "[LightGBM] [Warning] lambda_l2 is set=0.12120758403564824, reg_lambda=0.0 will be ignored. Current value: lambda_l2=0.12120758403564824\n",
      "[LightGBM] [Warning] lambda_l1 is set=1.1842293057475537e-06, reg_alpha=0.0 will be ignored. Current value: lambda_l1=1.1842293057475537e-06\n",
      "[LightGBM] [Warning] bagging_freq is set=6, subsample_freq=0 will be ignored. Current value: bagging_freq=6\n",
      "[LightGBM] [Warning] feature_fraction is set=0.8055161041151906, colsample_bytree=1.0 will be ignored. Current value: feature_fraction=0.8055161041151906\n",
      "[LightGBM] [Warning] bagging_fraction is set=0.6973374544557829, subsample=1.0 will be ignored. Current value: bagging_fraction=0.6973374544557829\n",
      "[LightGBM] [Warning] lambda_l2 is set=0.12120758403564824, reg_lambda=0.0 will be ignored. Current value: lambda_l2=0.12120758403564824\n",
      "[LightGBM] [Warning] lambda_l1 is set=1.1842293057475537e-06, reg_alpha=0.0 will be ignored. Current value: lambda_l1=1.1842293057475537e-06\n",
      "[LightGBM] [Warning] bagging_freq is set=6, subsample_freq=0 will be ignored. Current value: bagging_freq=6\n",
      "[LightGBM] [Warning] feature_fraction is set=0.8055161041151906, colsample_bytree=1.0 will be ignored. Current value: feature_fraction=0.8055161041151906\n",
      "[LightGBM] [Warning] bagging_fraction is set=0.6973374544557829, subsample=1.0 will be ignored. Current value: bagging_fraction=0.6973374544557829\n",
      "[LightGBM] [Warning] lambda_l2 is set=0.12120758403564824, reg_lambda=0.0 will be ignored. Current value: lambda_l2=0.12120758403564824\n",
      "[LightGBM] [Warning] lambda_l1 is set=1.1842293057475537e-06, reg_alpha=0.0 will be ignored. Current value: lambda_l1=1.1842293057475537e-06\n",
      "[LightGBM] [Warning] bagging_freq is set=6, subsample_freq=0 will be ignored. Current value: bagging_freq=6\n",
      "[LightGBM] [Warning] feature_fraction is set=0.8055161041151906, colsample_bytree=1.0 will be ignored. Current value: feature_fraction=0.8055161041151906\n"
     ]
    },
    {
     "name": "stderr",
     "output_type": "stream",
     "text": [
      "\u001b[32m[I 2023-05-19 13:46:51,544]\u001b[0m Trial 2 finished with value: 0.8345574080516946 and parameters: {'lambda_l1': 1.1842293057475537e-06, 'lambda_l2': 0.12120758403564824, 'num_leaves': 236, 'feature_fraction': 0.8055161041151906, 'bagging_fraction': 0.6973374544557829, 'bagging_freq': 6, 'min_child_samples': 72}. Best is trial 1 with value: 0.8449213956450817.\u001b[0m\n",
      "/tmp/ipykernel_7826/1620813270.py:7: FutureWarning: suggest_loguniform has been deprecated in v3.0.0. This feature will be removed in v6.0.0. See https://github.com/optuna/optuna/releases/tag/v3.0.0. Use :func:`~optuna.trial.Trial.suggest_float` instead.\n",
      "  'lambda_l1': trial.suggest_loguniform('lambda_l1', 1e-8, 10.0),\n",
      "/tmp/ipykernel_7826/1620813270.py:8: FutureWarning: suggest_loguniform has been deprecated in v3.0.0. This feature will be removed in v6.0.0. See https://github.com/optuna/optuna/releases/tag/v3.0.0. Use :func:`~optuna.trial.Trial.suggest_float` instead.\n",
      "  'lambda_l2': trial.suggest_loguniform('lambda_l2', 1e-8, 10.0),\n",
      "/tmp/ipykernel_7826/1620813270.py:10: FutureWarning: suggest_uniform has been deprecated in v3.0.0. This feature will be removed in v6.0.0. See https://github.com/optuna/optuna/releases/tag/v3.0.0. Use :func:`~optuna.trial.Trial.suggest_float` instead.\n",
      "  'feature_fraction': trial.suggest_uniform('feature_fraction', 0.4, 1.0),\n",
      "/tmp/ipykernel_7826/1620813270.py:11: FutureWarning: suggest_uniform has been deprecated in v3.0.0. This feature will be removed in v6.0.0. See https://github.com/optuna/optuna/releases/tag/v3.0.0. Use :func:`~optuna.trial.Trial.suggest_float` instead.\n",
      "  'bagging_fraction': trial.suggest_uniform('bagging_fraction', 0.4, 1.0),\n"
     ]
    },
    {
     "name": "stdout",
     "output_type": "stream",
     "text": [
      "[LightGBM] [Warning] bagging_fraction is set=0.8810524933406793, subsample=1.0 will be ignored. Current value: bagging_fraction=0.8810524933406793\n",
      "[LightGBM] [Warning] lambda_l2 is set=0.0003031203578432794, reg_lambda=0.0 will be ignored. Current value: lambda_l2=0.0003031203578432794\n",
      "[LightGBM] [Warning] lambda_l1 is set=0.0014611489766776238, reg_alpha=0.0 will be ignored. Current value: lambda_l1=0.0014611489766776238\n",
      "[LightGBM] [Warning] bagging_freq is set=1, subsample_freq=0 will be ignored. Current value: bagging_freq=1\n",
      "[LightGBM] [Warning] feature_fraction is set=0.9045130843753239, colsample_bytree=1.0 will be ignored. Current value: feature_fraction=0.9045130843753239\n",
      "[LightGBM] [Warning] bagging_fraction is set=0.8810524933406793, subsample=1.0 will be ignored. Current value: bagging_fraction=0.8810524933406793\n",
      "[LightGBM] [Warning] lambda_l2 is set=0.0003031203578432794, reg_lambda=0.0 will be ignored. Current value: lambda_l2=0.0003031203578432794\n",
      "[LightGBM] [Warning] lambda_l1 is set=0.0014611489766776238, reg_alpha=0.0 will be ignored. Current value: lambda_l1=0.0014611489766776238\n",
      "[LightGBM] [Warning] bagging_freq is set=1, subsample_freq=0 will be ignored. Current value: bagging_freq=1\n",
      "[LightGBM] [Warning] feature_fraction is set=0.9045130843753239, colsample_bytree=1.0 will be ignored. Current value: feature_fraction=0.9045130843753239\n",
      "[LightGBM] [Warning] bagging_fraction is set=0.8810524933406793, subsample=1.0 will be ignored. Current value: bagging_fraction=0.8810524933406793\n",
      "[LightGBM] [Warning] lambda_l2 is set=0.0003031203578432794, reg_lambda=0.0 will be ignored. Current value: lambda_l2=0.0003031203578432794\n",
      "[LightGBM] [Warning] lambda_l1 is set=0.0014611489766776238, reg_alpha=0.0 will be ignored. Current value: lambda_l1=0.0014611489766776238\n",
      "[LightGBM] [Warning] bagging_freq is set=1, subsample_freq=0 will be ignored. Current value: bagging_freq=1\n",
      "[LightGBM] [Warning] feature_fraction is set=0.9045130843753239, colsample_bytree=1.0 will be ignored. Current value: feature_fraction=0.9045130843753239\n",
      "[LightGBM] [Warning] bagging_fraction is set=0.8810524933406793, subsample=1.0 will be ignored. Current value: bagging_fraction=0.8810524933406793\n",
      "[LightGBM] [Warning] lambda_l2 is set=0.0003031203578432794, reg_lambda=0.0 will be ignored. Current value: lambda_l2=0.0003031203578432794\n",
      "[LightGBM] [Warning] lambda_l1 is set=0.0014611489766776238, reg_alpha=0.0 will be ignored. Current value: lambda_l1=0.0014611489766776238\n",
      "[LightGBM] [Warning] bagging_freq is set=1, subsample_freq=0 will be ignored. Current value: bagging_freq=1\n",
      "[LightGBM] [Warning] feature_fraction is set=0.9045130843753239, colsample_bytree=1.0 will be ignored. Current value: feature_fraction=0.9045130843753239\n",
      "[LightGBM] [Warning] bagging_fraction is set=0.8810524933406793, subsample=1.0 will be ignored. Current value: bagging_fraction=0.8810524933406793\n",
      "[LightGBM] [Warning] lambda_l2 is set=0.0003031203578432794, reg_lambda=0.0 will be ignored. Current value: lambda_l2=0.0003031203578432794\n",
      "[LightGBM] [Warning] lambda_l1 is set=0.0014611489766776238, reg_alpha=0.0 will be ignored. Current value: lambda_l1=0.0014611489766776238\n",
      "[LightGBM] [Warning] bagging_freq is set=1, subsample_freq=0 will be ignored. Current value: bagging_freq=1\n",
      "[LightGBM] [Warning] feature_fraction is set=0.9045130843753239, colsample_bytree=1.0 will be ignored. Current value: feature_fraction=0.9045130843753239\n"
     ]
    },
    {
     "name": "stderr",
     "output_type": "stream",
     "text": [
      "\u001b[32m[I 2023-05-19 13:48:18,044]\u001b[0m Trial 3 finished with value: 0.8266837326750153 and parameters: {'lambda_l1': 0.0014611489766776238, 'lambda_l2': 0.0003031203578432794, 'num_leaves': 214, 'feature_fraction': 0.9045130843753239, 'bagging_fraction': 0.8810524933406793, 'bagging_freq': 1, 'min_child_samples': 16}. Best is trial 1 with value: 0.8449213956450817.\u001b[0m\n",
      "/tmp/ipykernel_7826/1620813270.py:7: FutureWarning: suggest_loguniform has been deprecated in v3.0.0. This feature will be removed in v6.0.0. See https://github.com/optuna/optuna/releases/tag/v3.0.0. Use :func:`~optuna.trial.Trial.suggest_float` instead.\n",
      "  'lambda_l1': trial.suggest_loguniform('lambda_l1', 1e-8, 10.0),\n",
      "/tmp/ipykernel_7826/1620813270.py:8: FutureWarning: suggest_loguniform has been deprecated in v3.0.0. This feature will be removed in v6.0.0. See https://github.com/optuna/optuna/releases/tag/v3.0.0. Use :func:`~optuna.trial.Trial.suggest_float` instead.\n",
      "  'lambda_l2': trial.suggest_loguniform('lambda_l2', 1e-8, 10.0),\n",
      "/tmp/ipykernel_7826/1620813270.py:10: FutureWarning: suggest_uniform has been deprecated in v3.0.0. This feature will be removed in v6.0.0. See https://github.com/optuna/optuna/releases/tag/v3.0.0. Use :func:`~optuna.trial.Trial.suggest_float` instead.\n",
      "  'feature_fraction': trial.suggest_uniform('feature_fraction', 0.4, 1.0),\n",
      "/tmp/ipykernel_7826/1620813270.py:11: FutureWarning: suggest_uniform has been deprecated in v3.0.0. This feature will be removed in v6.0.0. See https://github.com/optuna/optuna/releases/tag/v3.0.0. Use :func:`~optuna.trial.Trial.suggest_float` instead.\n",
      "  'bagging_fraction': trial.suggest_uniform('bagging_fraction', 0.4, 1.0),\n"
     ]
    },
    {
     "name": "stdout",
     "output_type": "stream",
     "text": [
      "[LightGBM] [Warning] bagging_fraction is set=0.5439622105314873, subsample=1.0 will be ignored. Current value: bagging_fraction=0.5439622105314873\n",
      "[LightGBM] [Warning] lambda_l2 is set=2.7804772048350913e-06, reg_lambda=0.0 will be ignored. Current value: lambda_l2=2.7804772048350913e-06\n",
      "[LightGBM] [Warning] lambda_l1 is set=3.663684225200074e-06, reg_alpha=0.0 will be ignored. Current value: lambda_l1=3.663684225200074e-06\n",
      "[LightGBM] [Warning] bagging_freq is set=1, subsample_freq=0 will be ignored. Current value: bagging_freq=1\n",
      "[LightGBM] [Warning] feature_fraction is set=0.9005295030172201, colsample_bytree=1.0 will be ignored. Current value: feature_fraction=0.9005295030172201\n",
      "[LightGBM] [Warning] bagging_fraction is set=0.5439622105314873, subsample=1.0 will be ignored. Current value: bagging_fraction=0.5439622105314873\n",
      "[LightGBM] [Warning] lambda_l2 is set=2.7804772048350913e-06, reg_lambda=0.0 will be ignored. Current value: lambda_l2=2.7804772048350913e-06\n",
      "[LightGBM] [Warning] lambda_l1 is set=3.663684225200074e-06, reg_alpha=0.0 will be ignored. Current value: lambda_l1=3.663684225200074e-06\n",
      "[LightGBM] [Warning] bagging_freq is set=1, subsample_freq=0 will be ignored. Current value: bagging_freq=1\n",
      "[LightGBM] [Warning] feature_fraction is set=0.9005295030172201, colsample_bytree=1.0 will be ignored. Current value: feature_fraction=0.9005295030172201\n",
      "[LightGBM] [Warning] bagging_fraction is set=0.5439622105314873, subsample=1.0 will be ignored. Current value: bagging_fraction=0.5439622105314873\n",
      "[LightGBM] [Warning] lambda_l2 is set=2.7804772048350913e-06, reg_lambda=0.0 will be ignored. Current value: lambda_l2=2.7804772048350913e-06\n",
      "[LightGBM] [Warning] lambda_l1 is set=3.663684225200074e-06, reg_alpha=0.0 will be ignored. Current value: lambda_l1=3.663684225200074e-06\n",
      "[LightGBM] [Warning] bagging_freq is set=1, subsample_freq=0 will be ignored. Current value: bagging_freq=1\n",
      "[LightGBM] [Warning] feature_fraction is set=0.9005295030172201, colsample_bytree=1.0 will be ignored. Current value: feature_fraction=0.9005295030172201\n",
      "[LightGBM] [Warning] bagging_fraction is set=0.5439622105314873, subsample=1.0 will be ignored. Current value: bagging_fraction=0.5439622105314873\n",
      "[LightGBM] [Warning] lambda_l2 is set=2.7804772048350913e-06, reg_lambda=0.0 will be ignored. Current value: lambda_l2=2.7804772048350913e-06\n",
      "[LightGBM] [Warning] lambda_l1 is set=3.663684225200074e-06, reg_alpha=0.0 will be ignored. Current value: lambda_l1=3.663684225200074e-06\n",
      "[LightGBM] [Warning] bagging_freq is set=1, subsample_freq=0 will be ignored. Current value: bagging_freq=1\n",
      "[LightGBM] [Warning] feature_fraction is set=0.9005295030172201, colsample_bytree=1.0 will be ignored. Current value: feature_fraction=0.9005295030172201\n",
      "[LightGBM] [Warning] bagging_fraction is set=0.5439622105314873, subsample=1.0 will be ignored. Current value: bagging_fraction=0.5439622105314873\n",
      "[LightGBM] [Warning] lambda_l2 is set=2.7804772048350913e-06, reg_lambda=0.0 will be ignored. Current value: lambda_l2=2.7804772048350913e-06\n",
      "[LightGBM] [Warning] lambda_l1 is set=3.663684225200074e-06, reg_alpha=0.0 will be ignored. Current value: lambda_l1=3.663684225200074e-06\n",
      "[LightGBM] [Warning] bagging_freq is set=1, subsample_freq=0 will be ignored. Current value: bagging_freq=1\n",
      "[LightGBM] [Warning] feature_fraction is set=0.9005295030172201, colsample_bytree=1.0 will be ignored. Current value: feature_fraction=0.9005295030172201\n"
     ]
    },
    {
     "name": "stderr",
     "output_type": "stream",
     "text": [
      "\u001b[32m[I 2023-05-19 13:49:19,859]\u001b[0m Trial 4 finished with value: 0.8518034796730648 and parameters: {'lambda_l1': 3.663684225200074e-06, 'lambda_l2': 2.7804772048350913e-06, 'num_leaves': 150, 'feature_fraction': 0.9005295030172201, 'bagging_fraction': 0.5439622105314873, 'bagging_freq': 1, 'min_child_samples': 15}. Best is trial 4 with value: 0.8518034796730648.\u001b[0m\n",
      "/tmp/ipykernel_7826/1620813270.py:7: FutureWarning: suggest_loguniform has been deprecated in v3.0.0. This feature will be removed in v6.0.0. See https://github.com/optuna/optuna/releases/tag/v3.0.0. Use :func:`~optuna.trial.Trial.suggest_float` instead.\n",
      "  'lambda_l1': trial.suggest_loguniform('lambda_l1', 1e-8, 10.0),\n",
      "/tmp/ipykernel_7826/1620813270.py:8: FutureWarning: suggest_loguniform has been deprecated in v3.0.0. This feature will be removed in v6.0.0. See https://github.com/optuna/optuna/releases/tag/v3.0.0. Use :func:`~optuna.trial.Trial.suggest_float` instead.\n",
      "  'lambda_l2': trial.suggest_loguniform('lambda_l2', 1e-8, 10.0),\n",
      "/tmp/ipykernel_7826/1620813270.py:10: FutureWarning: suggest_uniform has been deprecated in v3.0.0. This feature will be removed in v6.0.0. See https://github.com/optuna/optuna/releases/tag/v3.0.0. Use :func:`~optuna.trial.Trial.suggest_float` instead.\n",
      "  'feature_fraction': trial.suggest_uniform('feature_fraction', 0.4, 1.0),\n",
      "/tmp/ipykernel_7826/1620813270.py:11: FutureWarning: suggest_uniform has been deprecated in v3.0.0. This feature will be removed in v6.0.0. See https://github.com/optuna/optuna/releases/tag/v3.0.0. Use :func:`~optuna.trial.Trial.suggest_float` instead.\n",
      "  'bagging_fraction': trial.suggest_uniform('bagging_fraction', 0.4, 1.0),\n"
     ]
    },
    {
     "name": "stdout",
     "output_type": "stream",
     "text": [
      "[LightGBM] [Warning] bagging_fraction is set=0.7784729085447559, subsample=1.0 will be ignored. Current value: bagging_fraction=0.7784729085447559\n",
      "[LightGBM] [Warning] lambda_l2 is set=4.480591492933593e-06, reg_lambda=0.0 will be ignored. Current value: lambda_l2=4.480591492933593e-06\n",
      "[LightGBM] [Warning] lambda_l1 is set=2.4442713928430295e-06, reg_alpha=0.0 will be ignored. Current value: lambda_l1=2.4442713928430295e-06\n",
      "[LightGBM] [Warning] bagging_freq is set=3, subsample_freq=0 will be ignored. Current value: bagging_freq=3\n",
      "[LightGBM] [Warning] feature_fraction is set=0.9345306889851862, colsample_bytree=1.0 will be ignored. Current value: feature_fraction=0.9345306889851862\n",
      "[LightGBM] [Warning] bagging_fraction is set=0.7784729085447559, subsample=1.0 will be ignored. Current value: bagging_fraction=0.7784729085447559\n",
      "[LightGBM] [Warning] lambda_l2 is set=4.480591492933593e-06, reg_lambda=0.0 will be ignored. Current value: lambda_l2=4.480591492933593e-06\n",
      "[LightGBM] [Warning] lambda_l1 is set=2.4442713928430295e-06, reg_alpha=0.0 will be ignored. Current value: lambda_l1=2.4442713928430295e-06\n",
      "[LightGBM] [Warning] bagging_freq is set=3, subsample_freq=0 will be ignored. Current value: bagging_freq=3\n",
      "[LightGBM] [Warning] feature_fraction is set=0.9345306889851862, colsample_bytree=1.0 will be ignored. Current value: feature_fraction=0.9345306889851862\n",
      "[LightGBM] [Warning] bagging_fraction is set=0.7784729085447559, subsample=1.0 will be ignored. Current value: bagging_fraction=0.7784729085447559\n",
      "[LightGBM] [Warning] lambda_l2 is set=4.480591492933593e-06, reg_lambda=0.0 will be ignored. Current value: lambda_l2=4.480591492933593e-06\n",
      "[LightGBM] [Warning] lambda_l1 is set=2.4442713928430295e-06, reg_alpha=0.0 will be ignored. Current value: lambda_l1=2.4442713928430295e-06\n",
      "[LightGBM] [Warning] bagging_freq is set=3, subsample_freq=0 will be ignored. Current value: bagging_freq=3\n",
      "[LightGBM] [Warning] feature_fraction is set=0.9345306889851862, colsample_bytree=1.0 will be ignored. Current value: feature_fraction=0.9345306889851862\n",
      "[LightGBM] [Warning] bagging_fraction is set=0.7784729085447559, subsample=1.0 will be ignored. Current value: bagging_fraction=0.7784729085447559\n",
      "[LightGBM] [Warning] lambda_l2 is set=4.480591492933593e-06, reg_lambda=0.0 will be ignored. Current value: lambda_l2=4.480591492933593e-06\n",
      "[LightGBM] [Warning] lambda_l1 is set=2.4442713928430295e-06, reg_alpha=0.0 will be ignored. Current value: lambda_l1=2.4442713928430295e-06\n",
      "[LightGBM] [Warning] bagging_freq is set=3, subsample_freq=0 will be ignored. Current value: bagging_freq=3\n",
      "[LightGBM] [Warning] feature_fraction is set=0.9345306889851862, colsample_bytree=1.0 will be ignored. Current value: feature_fraction=0.9345306889851862\n",
      "[LightGBM] [Warning] bagging_fraction is set=0.7784729085447559, subsample=1.0 will be ignored. Current value: bagging_fraction=0.7784729085447559\n",
      "[LightGBM] [Warning] lambda_l2 is set=4.480591492933593e-06, reg_lambda=0.0 will be ignored. Current value: lambda_l2=4.480591492933593e-06\n",
      "[LightGBM] [Warning] lambda_l1 is set=2.4442713928430295e-06, reg_alpha=0.0 will be ignored. Current value: lambda_l1=2.4442713928430295e-06\n",
      "[LightGBM] [Warning] bagging_freq is set=3, subsample_freq=0 will be ignored. Current value: bagging_freq=3\n",
      "[LightGBM] [Warning] feature_fraction is set=0.9345306889851862, colsample_bytree=1.0 will be ignored. Current value: feature_fraction=0.9345306889851862\n"
     ]
    },
    {
     "name": "stderr",
     "output_type": "stream",
     "text": [
      "\u001b[32m[I 2023-05-19 13:49:37,420]\u001b[0m Trial 5 finished with value: 0.8157583711378982 and parameters: {'lambda_l1': 2.4442713928430295e-06, 'lambda_l2': 4.480591492933593e-06, 'num_leaves': 21, 'feature_fraction': 0.9345306889851862, 'bagging_fraction': 0.7784729085447559, 'bagging_freq': 3, 'min_child_samples': 32}. Best is trial 4 with value: 0.8518034796730648.\u001b[0m\n",
      "/tmp/ipykernel_7826/1620813270.py:7: FutureWarning: suggest_loguniform has been deprecated in v3.0.0. This feature will be removed in v6.0.0. See https://github.com/optuna/optuna/releases/tag/v3.0.0. Use :func:`~optuna.trial.Trial.suggest_float` instead.\n",
      "  'lambda_l1': trial.suggest_loguniform('lambda_l1', 1e-8, 10.0),\n",
      "/tmp/ipykernel_7826/1620813270.py:8: FutureWarning: suggest_loguniform has been deprecated in v3.0.0. This feature will be removed in v6.0.0. See https://github.com/optuna/optuna/releases/tag/v3.0.0. Use :func:`~optuna.trial.Trial.suggest_float` instead.\n",
      "  'lambda_l2': trial.suggest_loguniform('lambda_l2', 1e-8, 10.0),\n",
      "/tmp/ipykernel_7826/1620813270.py:10: FutureWarning: suggest_uniform has been deprecated in v3.0.0. This feature will be removed in v6.0.0. See https://github.com/optuna/optuna/releases/tag/v3.0.0. Use :func:`~optuna.trial.Trial.suggest_float` instead.\n",
      "  'feature_fraction': trial.suggest_uniform('feature_fraction', 0.4, 1.0),\n",
      "/tmp/ipykernel_7826/1620813270.py:11: FutureWarning: suggest_uniform has been deprecated in v3.0.0. This feature will be removed in v6.0.0. See https://github.com/optuna/optuna/releases/tag/v3.0.0. Use :func:`~optuna.trial.Trial.suggest_float` instead.\n",
      "  'bagging_fraction': trial.suggest_uniform('bagging_fraction', 0.4, 1.0),\n"
     ]
    },
    {
     "name": "stdout",
     "output_type": "stream",
     "text": [
      "[LightGBM] [Warning] bagging_fraction is set=0.43891690997526206, subsample=1.0 will be ignored. Current value: bagging_fraction=0.43891690997526206\n",
      "[LightGBM] [Warning] lambda_l2 is set=0.019038574715506126, reg_lambda=0.0 will be ignored. Current value: lambda_l2=0.019038574715506126\n",
      "[LightGBM] [Warning] lambda_l1 is set=1.1844942681194566e-08, reg_alpha=0.0 will be ignored. Current value: lambda_l1=1.1844942681194566e-08\n",
      "[LightGBM] [Warning] bagging_freq is set=1, subsample_freq=0 will be ignored. Current value: bagging_freq=1\n",
      "[LightGBM] [Warning] feature_fraction is set=0.5670557015644967, colsample_bytree=1.0 will be ignored. Current value: feature_fraction=0.5670557015644967\n",
      "[LightGBM] [Warning] bagging_fraction is set=0.43891690997526206, subsample=1.0 will be ignored. Current value: bagging_fraction=0.43891690997526206\n",
      "[LightGBM] [Warning] lambda_l2 is set=0.019038574715506126, reg_lambda=0.0 will be ignored. Current value: lambda_l2=0.019038574715506126\n",
      "[LightGBM] [Warning] lambda_l1 is set=1.1844942681194566e-08, reg_alpha=0.0 will be ignored. Current value: lambda_l1=1.1844942681194566e-08\n",
      "[LightGBM] [Warning] bagging_freq is set=1, subsample_freq=0 will be ignored. Current value: bagging_freq=1\n",
      "[LightGBM] [Warning] feature_fraction is set=0.5670557015644967, colsample_bytree=1.0 will be ignored. Current value: feature_fraction=0.5670557015644967\n",
      "[LightGBM] [Warning] bagging_fraction is set=0.43891690997526206, subsample=1.0 will be ignored. Current value: bagging_fraction=0.43891690997526206\n",
      "[LightGBM] [Warning] lambda_l2 is set=0.019038574715506126, reg_lambda=0.0 will be ignored. Current value: lambda_l2=0.019038574715506126\n",
      "[LightGBM] [Warning] lambda_l1 is set=1.1844942681194566e-08, reg_alpha=0.0 will be ignored. Current value: lambda_l1=1.1844942681194566e-08\n",
      "[LightGBM] [Warning] bagging_freq is set=1, subsample_freq=0 will be ignored. Current value: bagging_freq=1\n",
      "[LightGBM] [Warning] feature_fraction is set=0.5670557015644967, colsample_bytree=1.0 will be ignored. Current value: feature_fraction=0.5670557015644967\n",
      "[LightGBM] [Warning] bagging_fraction is set=0.43891690997526206, subsample=1.0 will be ignored. Current value: bagging_fraction=0.43891690997526206\n",
      "[LightGBM] [Warning] lambda_l2 is set=0.019038574715506126, reg_lambda=0.0 will be ignored. Current value: lambda_l2=0.019038574715506126\n",
      "[LightGBM] [Warning] lambda_l1 is set=1.1844942681194566e-08, reg_alpha=0.0 will be ignored. Current value: lambda_l1=1.1844942681194566e-08\n",
      "[LightGBM] [Warning] bagging_freq is set=1, subsample_freq=0 will be ignored. Current value: bagging_freq=1\n",
      "[LightGBM] [Warning] feature_fraction is set=0.5670557015644967, colsample_bytree=1.0 will be ignored. Current value: feature_fraction=0.5670557015644967\n",
      "[LightGBM] [Warning] bagging_fraction is set=0.43891690997526206, subsample=1.0 will be ignored. Current value: bagging_fraction=0.43891690997526206\n",
      "[LightGBM] [Warning] lambda_l2 is set=0.019038574715506126, reg_lambda=0.0 will be ignored. Current value: lambda_l2=0.019038574715506126\n",
      "[LightGBM] [Warning] lambda_l1 is set=1.1844942681194566e-08, reg_alpha=0.0 will be ignored. Current value: lambda_l1=1.1844942681194566e-08\n",
      "[LightGBM] [Warning] bagging_freq is set=1, subsample_freq=0 will be ignored. Current value: bagging_freq=1\n",
      "[LightGBM] [Warning] feature_fraction is set=0.5670557015644967, colsample_bytree=1.0 will be ignored. Current value: feature_fraction=0.5670557015644967\n"
     ]
    },
    {
     "name": "stderr",
     "output_type": "stream",
     "text": [
      "\u001b[32m[I 2023-05-19 13:50:11,939]\u001b[0m Trial 6 finished with value: 0.8596182060142453 and parameters: {'lambda_l1': 1.1844942681194566e-08, 'lambda_l2': 0.019038574715506126, 'num_leaves': 220, 'feature_fraction': 0.5670557015644967, 'bagging_fraction': 0.43891690997526206, 'bagging_freq': 1, 'min_child_samples': 41}. Best is trial 6 with value: 0.8596182060142453.\u001b[0m\n",
      "/tmp/ipykernel_7826/1620813270.py:7: FutureWarning: suggest_loguniform has been deprecated in v3.0.0. This feature will be removed in v6.0.0. See https://github.com/optuna/optuna/releases/tag/v3.0.0. Use :func:`~optuna.trial.Trial.suggest_float` instead.\n",
      "  'lambda_l1': trial.suggest_loguniform('lambda_l1', 1e-8, 10.0),\n",
      "/tmp/ipykernel_7826/1620813270.py:8: FutureWarning: suggest_loguniform has been deprecated in v3.0.0. This feature will be removed in v6.0.0. See https://github.com/optuna/optuna/releases/tag/v3.0.0. Use :func:`~optuna.trial.Trial.suggest_float` instead.\n",
      "  'lambda_l2': trial.suggest_loguniform('lambda_l2', 1e-8, 10.0),\n",
      "/tmp/ipykernel_7826/1620813270.py:10: FutureWarning: suggest_uniform has been deprecated in v3.0.0. This feature will be removed in v6.0.0. See https://github.com/optuna/optuna/releases/tag/v3.0.0. Use :func:`~optuna.trial.Trial.suggest_float` instead.\n",
      "  'feature_fraction': trial.suggest_uniform('feature_fraction', 0.4, 1.0),\n",
      "/tmp/ipykernel_7826/1620813270.py:11: FutureWarning: suggest_uniform has been deprecated in v3.0.0. This feature will be removed in v6.0.0. See https://github.com/optuna/optuna/releases/tag/v3.0.0. Use :func:`~optuna.trial.Trial.suggest_float` instead.\n",
      "  'bagging_fraction': trial.suggest_uniform('bagging_fraction', 0.4, 1.0),\n"
     ]
    },
    {
     "name": "stdout",
     "output_type": "stream",
     "text": [
      "[LightGBM] [Warning] bagging_fraction is set=0.5001645695915331, subsample=1.0 will be ignored. Current value: bagging_fraction=0.5001645695915331\n",
      "[LightGBM] [Warning] lambda_l2 is set=0.573147404656244, reg_lambda=0.0 will be ignored. Current value: lambda_l2=0.573147404656244\n",
      "[LightGBM] [Warning] lambda_l1 is set=0.00022239225679499932, reg_alpha=0.0 will be ignored. Current value: lambda_l1=0.00022239225679499932\n",
      "[LightGBM] [Warning] bagging_freq is set=3, subsample_freq=0 will be ignored. Current value: bagging_freq=3\n",
      "[LightGBM] [Warning] feature_fraction is set=0.7667639028475179, colsample_bytree=1.0 will be ignored. Current value: feature_fraction=0.7667639028475179\n",
      "[LightGBM] [Warning] bagging_fraction is set=0.5001645695915331, subsample=1.0 will be ignored. Current value: bagging_fraction=0.5001645695915331\n",
      "[LightGBM] [Warning] lambda_l2 is set=0.573147404656244, reg_lambda=0.0 will be ignored. Current value: lambda_l2=0.573147404656244\n",
      "[LightGBM] [Warning] lambda_l1 is set=0.00022239225679499932, reg_alpha=0.0 will be ignored. Current value: lambda_l1=0.00022239225679499932\n",
      "[LightGBM] [Warning] bagging_freq is set=3, subsample_freq=0 will be ignored. Current value: bagging_freq=3\n",
      "[LightGBM] [Warning] feature_fraction is set=0.7667639028475179, colsample_bytree=1.0 will be ignored. Current value: feature_fraction=0.7667639028475179\n",
      "[LightGBM] [Warning] bagging_fraction is set=0.5001645695915331, subsample=1.0 will be ignored. Current value: bagging_fraction=0.5001645695915331\n",
      "[LightGBM] [Warning] lambda_l2 is set=0.573147404656244, reg_lambda=0.0 will be ignored. Current value: lambda_l2=0.573147404656244\n",
      "[LightGBM] [Warning] lambda_l1 is set=0.00022239225679499932, reg_alpha=0.0 will be ignored. Current value: lambda_l1=0.00022239225679499932\n",
      "[LightGBM] [Warning] bagging_freq is set=3, subsample_freq=0 will be ignored. Current value: bagging_freq=3\n",
      "[LightGBM] [Warning] feature_fraction is set=0.7667639028475179, colsample_bytree=1.0 will be ignored. Current value: feature_fraction=0.7667639028475179\n",
      "[LightGBM] [Warning] bagging_fraction is set=0.5001645695915331, subsample=1.0 will be ignored. Current value: bagging_fraction=0.5001645695915331\n",
      "[LightGBM] [Warning] lambda_l2 is set=0.573147404656244, reg_lambda=0.0 will be ignored. Current value: lambda_l2=0.573147404656244\n",
      "[LightGBM] [Warning] lambda_l1 is set=0.00022239225679499932, reg_alpha=0.0 will be ignored. Current value: lambda_l1=0.00022239225679499932\n",
      "[LightGBM] [Warning] bagging_freq is set=3, subsample_freq=0 will be ignored. Current value: bagging_freq=3\n",
      "[LightGBM] [Warning] feature_fraction is set=0.7667639028475179, colsample_bytree=1.0 will be ignored. Current value: feature_fraction=0.7667639028475179\n",
      "[LightGBM] [Warning] bagging_fraction is set=0.5001645695915331, subsample=1.0 will be ignored. Current value: bagging_fraction=0.5001645695915331\n",
      "[LightGBM] [Warning] lambda_l2 is set=0.573147404656244, reg_lambda=0.0 will be ignored. Current value: lambda_l2=0.573147404656244\n",
      "[LightGBM] [Warning] lambda_l1 is set=0.00022239225679499932, reg_alpha=0.0 will be ignored. Current value: lambda_l1=0.00022239225679499932\n",
      "[LightGBM] [Warning] bagging_freq is set=3, subsample_freq=0 will be ignored. Current value: bagging_freq=3\n",
      "[LightGBM] [Warning] feature_fraction is set=0.7667639028475179, colsample_bytree=1.0 will be ignored. Current value: feature_fraction=0.7667639028475179\n"
     ]
    },
    {
     "name": "stderr",
     "output_type": "stream",
     "text": [
      "\u001b[32m[I 2023-05-19 13:50:39,885]\u001b[0m Trial 7 finished with value: 0.8469525278504282 and parameters: {'lambda_l1': 0.00022239225679499932, 'lambda_l2': 0.573147404656244, 'num_leaves': 97, 'feature_fraction': 0.7667639028475179, 'bagging_fraction': 0.5001645695915331, 'bagging_freq': 3, 'min_child_samples': 62}. Best is trial 6 with value: 0.8596182060142453.\u001b[0m\n",
      "/tmp/ipykernel_7826/1620813270.py:7: FutureWarning: suggest_loguniform has been deprecated in v3.0.0. This feature will be removed in v6.0.0. See https://github.com/optuna/optuna/releases/tag/v3.0.0. Use :func:`~optuna.trial.Trial.suggest_float` instead.\n",
      "  'lambda_l1': trial.suggest_loguniform('lambda_l1', 1e-8, 10.0),\n",
      "/tmp/ipykernel_7826/1620813270.py:8: FutureWarning: suggest_loguniform has been deprecated in v3.0.0. This feature will be removed in v6.0.0. See https://github.com/optuna/optuna/releases/tag/v3.0.0. Use :func:`~optuna.trial.Trial.suggest_float` instead.\n",
      "  'lambda_l2': trial.suggest_loguniform('lambda_l2', 1e-8, 10.0),\n",
      "/tmp/ipykernel_7826/1620813270.py:10: FutureWarning: suggest_uniform has been deprecated in v3.0.0. This feature will be removed in v6.0.0. See https://github.com/optuna/optuna/releases/tag/v3.0.0. Use :func:`~optuna.trial.Trial.suggest_float` instead.\n",
      "  'feature_fraction': trial.suggest_uniform('feature_fraction', 0.4, 1.0),\n",
      "/tmp/ipykernel_7826/1620813270.py:11: FutureWarning: suggest_uniform has been deprecated in v3.0.0. This feature will be removed in v6.0.0. See https://github.com/optuna/optuna/releases/tag/v3.0.0. Use :func:`~optuna.trial.Trial.suggest_float` instead.\n",
      "  'bagging_fraction': trial.suggest_uniform('bagging_fraction', 0.4, 1.0),\n"
     ]
    },
    {
     "name": "stdout",
     "output_type": "stream",
     "text": [
      "[LightGBM] [Warning] bagging_fraction is set=0.8526132460817514, subsample=1.0 will be ignored. Current value: bagging_fraction=0.8526132460817514\n",
      "[LightGBM] [Warning] lambda_l2 is set=4.162951374814741, reg_lambda=0.0 will be ignored. Current value: lambda_l2=4.162951374814741\n",
      "[LightGBM] [Warning] lambda_l1 is set=1.5024513433804834e-05, reg_alpha=0.0 will be ignored. Current value: lambda_l1=1.5024513433804834e-05\n",
      "[LightGBM] [Warning] bagging_freq is set=3, subsample_freq=0 will be ignored. Current value: bagging_freq=3\n",
      "[LightGBM] [Warning] feature_fraction is set=0.7440264732541004, colsample_bytree=1.0 will be ignored. Current value: feature_fraction=0.7440264732541004\n",
      "[LightGBM] [Warning] bagging_fraction is set=0.8526132460817514, subsample=1.0 will be ignored. Current value: bagging_fraction=0.8526132460817514\n",
      "[LightGBM] [Warning] lambda_l2 is set=4.162951374814741, reg_lambda=0.0 will be ignored. Current value: lambda_l2=4.162951374814741\n",
      "[LightGBM] [Warning] lambda_l1 is set=1.5024513433804834e-05, reg_alpha=0.0 will be ignored. Current value: lambda_l1=1.5024513433804834e-05\n",
      "[LightGBM] [Warning] bagging_freq is set=3, subsample_freq=0 will be ignored. Current value: bagging_freq=3\n",
      "[LightGBM] [Warning] feature_fraction is set=0.7440264732541004, colsample_bytree=1.0 will be ignored. Current value: feature_fraction=0.7440264732541004\n",
      "[LightGBM] [Warning] bagging_fraction is set=0.8526132460817514, subsample=1.0 will be ignored. Current value: bagging_fraction=0.8526132460817514\n",
      "[LightGBM] [Warning] lambda_l2 is set=4.162951374814741, reg_lambda=0.0 will be ignored. Current value: lambda_l2=4.162951374814741\n",
      "[LightGBM] [Warning] lambda_l1 is set=1.5024513433804834e-05, reg_alpha=0.0 will be ignored. Current value: lambda_l1=1.5024513433804834e-05\n",
      "[LightGBM] [Warning] bagging_freq is set=3, subsample_freq=0 will be ignored. Current value: bagging_freq=3\n",
      "[LightGBM] [Warning] feature_fraction is set=0.7440264732541004, colsample_bytree=1.0 will be ignored. Current value: feature_fraction=0.7440264732541004\n",
      "[LightGBM] [Warning] bagging_fraction is set=0.8526132460817514, subsample=1.0 will be ignored. Current value: bagging_fraction=0.8526132460817514\n",
      "[LightGBM] [Warning] lambda_l2 is set=4.162951374814741, reg_lambda=0.0 will be ignored. Current value: lambda_l2=4.162951374814741\n",
      "[LightGBM] [Warning] lambda_l1 is set=1.5024513433804834e-05, reg_alpha=0.0 will be ignored. Current value: lambda_l1=1.5024513433804834e-05\n",
      "[LightGBM] [Warning] bagging_freq is set=3, subsample_freq=0 will be ignored. Current value: bagging_freq=3\n",
      "[LightGBM] [Warning] feature_fraction is set=0.7440264732541004, colsample_bytree=1.0 will be ignored. Current value: feature_fraction=0.7440264732541004\n",
      "[LightGBM] [Warning] bagging_fraction is set=0.8526132460817514, subsample=1.0 will be ignored. Current value: bagging_fraction=0.8526132460817514\n",
      "[LightGBM] [Warning] lambda_l2 is set=4.162951374814741, reg_lambda=0.0 will be ignored. Current value: lambda_l2=4.162951374814741\n",
      "[LightGBM] [Warning] lambda_l1 is set=1.5024513433804834e-05, reg_alpha=0.0 will be ignored. Current value: lambda_l1=1.5024513433804834e-05\n",
      "[LightGBM] [Warning] bagging_freq is set=3, subsample_freq=0 will be ignored. Current value: bagging_freq=3\n",
      "[LightGBM] [Warning] feature_fraction is set=0.7440264732541004, colsample_bytree=1.0 will be ignored. Current value: feature_fraction=0.7440264732541004\n"
     ]
    },
    {
     "name": "stderr",
     "output_type": "stream",
     "text": [
      "\u001b[32m[I 2023-05-19 13:51:04,396]\u001b[0m Trial 8 finished with value: 0.8200412617601118 and parameters: {'lambda_l1': 1.5024513433804834e-05, 'lambda_l2': 4.162951374814741, 'num_leaves': 45, 'feature_fraction': 0.7440264732541004, 'bagging_fraction': 0.8526132460817514, 'bagging_freq': 3, 'min_child_samples': 52}. Best is trial 6 with value: 0.8596182060142453.\u001b[0m\n",
      "/tmp/ipykernel_7826/1620813270.py:7: FutureWarning: suggest_loguniform has been deprecated in v3.0.0. This feature will be removed in v6.0.0. See https://github.com/optuna/optuna/releases/tag/v3.0.0. Use :func:`~optuna.trial.Trial.suggest_float` instead.\n",
      "  'lambda_l1': trial.suggest_loguniform('lambda_l1', 1e-8, 10.0),\n",
      "/tmp/ipykernel_7826/1620813270.py:8: FutureWarning: suggest_loguniform has been deprecated in v3.0.0. This feature will be removed in v6.0.0. See https://github.com/optuna/optuna/releases/tag/v3.0.0. Use :func:`~optuna.trial.Trial.suggest_float` instead.\n",
      "  'lambda_l2': trial.suggest_loguniform('lambda_l2', 1e-8, 10.0),\n",
      "/tmp/ipykernel_7826/1620813270.py:10: FutureWarning: suggest_uniform has been deprecated in v3.0.0. This feature will be removed in v6.0.0. See https://github.com/optuna/optuna/releases/tag/v3.0.0. Use :func:`~optuna.trial.Trial.suggest_float` instead.\n",
      "  'feature_fraction': trial.suggest_uniform('feature_fraction', 0.4, 1.0),\n",
      "/tmp/ipykernel_7826/1620813270.py:11: FutureWarning: suggest_uniform has been deprecated in v3.0.0. This feature will be removed in v6.0.0. See https://github.com/optuna/optuna/releases/tag/v3.0.0. Use :func:`~optuna.trial.Trial.suggest_float` instead.\n",
      "  'bagging_fraction': trial.suggest_uniform('bagging_fraction', 0.4, 1.0),\n"
     ]
    },
    {
     "name": "stdout",
     "output_type": "stream",
     "text": [
      "[LightGBM] [Warning] bagging_fraction is set=0.9394027122265676, subsample=1.0 will be ignored. Current value: bagging_fraction=0.9394027122265676\n",
      "[LightGBM] [Warning] lambda_l2 is set=1.8759114325984763e-05, reg_lambda=0.0 will be ignored. Current value: lambda_l2=1.8759114325984763e-05\n",
      "[LightGBM] [Warning] lambda_l1 is set=0.00022735566428538006, reg_alpha=0.0 will be ignored. Current value: lambda_l1=0.00022735566428538006\n",
      "[LightGBM] [Warning] bagging_freq is set=1, subsample_freq=0 will be ignored. Current value: bagging_freq=1\n",
      "[LightGBM] [Warning] feature_fraction is set=0.8136103234062515, colsample_bytree=1.0 will be ignored. Current value: feature_fraction=0.8136103234062515\n",
      "[LightGBM] [Warning] bagging_fraction is set=0.9394027122265676, subsample=1.0 will be ignored. Current value: bagging_fraction=0.9394027122265676\n",
      "[LightGBM] [Warning] lambda_l2 is set=1.8759114325984763e-05, reg_lambda=0.0 will be ignored. Current value: lambda_l2=1.8759114325984763e-05\n",
      "[LightGBM] [Warning] lambda_l1 is set=0.00022735566428538006, reg_alpha=0.0 will be ignored. Current value: lambda_l1=0.00022735566428538006\n",
      "[LightGBM] [Warning] bagging_freq is set=1, subsample_freq=0 will be ignored. Current value: bagging_freq=1\n",
      "[LightGBM] [Warning] feature_fraction is set=0.8136103234062515, colsample_bytree=1.0 will be ignored. Current value: feature_fraction=0.8136103234062515\n"
     ]
    }
   ],
   "source": [
    "results_experiment_1 = experiments(dataset_1, y)"
   ]
  },
  {
   "cell_type": "code",
   "execution_count": null,
   "id": "cc6f2559-d5d3-4c11-8f8e-39ecffde1dff",
   "metadata": {},
   "outputs": [],
   "source": []
  }
 ],
 "metadata": {
  "kernelspec": {
   "display_name": "Python 3 (ipykernel)",
   "language": "python",
   "name": "python3"
  },
  "language_info": {
   "codemirror_mode": {
    "name": "ipython",
    "version": 3
   },
   "file_extension": ".py",
   "mimetype": "text/x-python",
   "name": "python",
   "nbconvert_exporter": "python",
   "pygments_lexer": "ipython3",
   "version": "3.10.7"
  }
 },
 "nbformat": 4,
 "nbformat_minor": 5
}
