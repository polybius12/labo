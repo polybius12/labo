{
 "cells": [
  {
   "cell_type": "code",
   "execution_count": 1,
   "id": "916bbc6c",
   "metadata": {
    "tags": []
   },
   "outputs": [],
   "source": [
    "import pandas as pd"
   ]
  },
  {
   "cell_type": "code",
   "execution_count": 2,
   "id": "fc53bdb0",
   "metadata": {
    "tags": []
   },
   "outputs": [],
   "source": [
    "df = pd.read_csv('../../buckets/b1/exp/downsampled_dataset_final.csv')\n",
    "df.drop(columns=['azar'], inplace=True)"
   ]
  },
  {
   "cell_type": "code",
   "execution_count": 3,
   "id": "9b636889",
   "metadata": {
    "tags": []
   },
   "outputs": [],
   "source": [
    "train_data = df[df['fold_train'] ==1]\n",
    "valid_data = df[df['fold_validate'] ==1]\n",
    "test_data = df[df['fold_test'] ==1]"
   ]
  },
  {
   "cell_type": "code",
   "execution_count": 4,
   "id": "0d9a9a27",
   "metadata": {
    "tags": []
   },
   "outputs": [
    {
     "data": {
      "text/plain": [
       "clase_ternaria\n",
       "0    14042\n",
       "2     7219\n",
       "1     6823\n",
       "Name: count, dtype: int64"
      ]
     },
     "execution_count": 4,
     "metadata": {},
     "output_type": "execute_result"
    }
   ],
   "source": [
    "train_data['clase_ternaria'].value_counts()"
   ]
  },
  {
   "cell_type": "code",
   "execution_count": 5,
   "id": "0d5aad12",
   "metadata": {
    "tags": []
   },
   "outputs": [
    {
     "data": {
      "text/html": [
       "<style type='text/css'>\n",
       ".datatable table.frame { margin-bottom: 0; }\n",
       ".datatable table.frame thead { border-bottom: none; }\n",
       ".datatable table.frame tr.coltypes td {  color: #FFFFFF;  line-height: 6px;  padding: 0 0.5em;}\n",
       ".datatable .bool    { background: #DDDD99; }\n",
       ".datatable .object  { background: #565656; }\n",
       ".datatable .int     { background: #5D9E5D; }\n",
       ".datatable .float   { background: #4040CC; }\n",
       ".datatable .str     { background: #CC4040; }\n",
       ".datatable .time    { background: #40CC40; }\n",
       ".datatable .row_index {  background: var(--jp-border-color3);  border-right: 1px solid var(--jp-border-color0);  color: var(--jp-ui-font-color3);  font-size: 9px;}\n",
       ".datatable .frame tbody td { text-align: left; }\n",
       ".datatable .frame tr.coltypes .row_index {  background: var(--jp-border-color0);}\n",
       ".datatable th:nth-child(2) { padding-left: 12px; }\n",
       ".datatable .hellipsis {  color: var(--jp-cell-editor-border-color);}\n",
       ".datatable .vellipsis {  background: var(--jp-layout-color0);  color: var(--jp-cell-editor-border-color);}\n",
       ".datatable .na {  color: var(--jp-cell-editor-border-color);  font-size: 80%;}\n",
       ".datatable .sp {  opacity: 0.25;}\n",
       ".datatable .footer { font-size: 9px; }\n",
       ".datatable .frame_dimensions {  background: var(--jp-border-color3);  border-top: 1px solid var(--jp-border-color0);  color: var(--jp-ui-font-color3);  display: inline-block;  opacity: 0.6;  padding: 1px 10px 1px 5px;}\n",
       "</style>\n"
      ],
      "text/plain": [
       "<IPython.core.display.HTML object>"
      ]
     },
     "metadata": {},
     "output_type": "display_data"
    }
   ],
   "source": [
    "import random\n",
    "import pandas as pd\n",
    "\n",
    "import time\n",
    "import lightgbm as lgb\n",
    "import optuna\n",
    "import pandas as pd\n",
    "import numpy as np\n",
    "from sklearn.model_selection import StratifiedKFold, cross_val_score\n",
    "from sklearn.ensemble import ExtraTreesClassifier\n",
    "from lightgbm import LGBMClassifier\n",
    "from sklearn.metrics import f1_score, matthews_corrcoef, roc_auc_score\n",
    "from sklearn.metrics import make_scorer\n",
    "from sklearn.model_selection import train_test_split\n",
    "from sklearn.impute import SimpleImputer\n",
    "from sklearn.ensemble import RandomForestClassifier\n",
    "\n",
    "\n",
    "def ganancia_custom(y_true, y_pred):\n",
    "    conditions = [\n",
    "        (y_pred == 1) & (y_true == 2),\n",
    "        (y_pred == 1) & (y_true != 2),\n",
    "        (y_pred == 0)\n",
    "    ]\n",
    "    choices = [117000, -3000, 0]\n",
    "    gan = np.select(conditions, choices)\n",
    "    total_gan = np.sum(gan)\n",
    "    return total_gan\n",
    "\n",
    "\n",
    "def rolling_window_df(df, window_size=0.3, step_size=0.10, max_datasets=6):\n",
    "    num_cols = len(df.columns)\n",
    "    window_cols = int(num_cols * window_size)\n",
    "    step_cols = int(num_cols * step_size)\n",
    "    \n",
    "    result = []\n",
    "    \n",
    "    for start_col in range(0, num_cols, step_cols):\n",
    "        if max_datasets and len(result) >= max_datasets:\n",
    "            break\n",
    "            \n",
    "        end_col = start_col + window_cols\n",
    "        if end_col > num_cols:\n",
    "            break\n",
    "            \n",
    "        result.append(df.iloc[:, start_col:end_col])        \n",
    "    return result\n",
    "\n",
    "\n",
    "def lgb_objective(trial, X_train, y_train):\n",
    "    params = {\n",
    "        'boosting_type': 'gbdt',\n",
    "        'objective': 'binary',\n",
    "        'metric': 'custom',\n",
    "        'first_metric_only': True,\n",
    "        'boost_from_average': True,\n",
    "        'feature_pre_filter': False,\n",
    "        'force_row_wise': True,\n",
    "        'verbosity': -100,\n",
    "        'max_depth': -1,\n",
    "        'min_gain_to_split': 0.0,\n",
    "        'min_sum_hessian_in_leaf': 0.001,\n",
    "        'lambda_l1': 0.0,\n",
    "        'lambda_l2': 0.0,\n",
    "        'max_bin': 31,\n",
    "        #'num_iterations': 9999,\n",
    "        'bagging_fraction': 1.0,\n",
    "        'pos_bagging_fraction': 1.0,\n",
    "        'neg_bagging_fraction': 1.0,\n",
    "        'is_unbalance': False,\n",
    "        'scale_pos_weight': 1.0,\n",
    "        'drop_rate': 0.1,\n",
    "        'max_drop': 50,\n",
    "        'skip_drop': 0.5,\n",
    "        'extra_trees': True,\n",
    "        'learning_rate': trial.suggest_float('learning_rate', 0.01, 0.3),\n",
    "        'feature_fraction': trial.suggest_float('feature_fraction', 0.01, 1.0),\n",
    "        'num_leaves': trial.suggest_int('num_leaves', 4, 1024),\n",
    "        'min_data_in_leaf': trial.suggest_int('min_data_in_leaf', 1, 10000),\n",
    "    }\n",
    "    scores = cross_val_score(lgb.LGBMClassifier(**params), X_train, y_train, cv=3, scoring='roc_auc')\n",
    "    return scores.mean()\n",
    "\n",
    "def etc_objective(trial, X_train, y_train):\n",
    "    params = {\n",
    "        'n_estimators': trial.suggest_int('n_estimators', 50, 500),\n",
    "        'max_depth': trial.suggest_int('max_depth', 2, 32),\n",
    "        'min_samples_split': trial.suggest_int('min_samples_split', 2, 15),\n",
    "        'min_samples_leaf': trial.suggest_int('min_samples_leaf', 1, 15),\n",
    "        'max_features': trial.suggest_float('max_features', 0.1, 1.0),\n",
    "    }\n",
    "    scores = cross_val_score(ExtraTreesClassifier(**params), X_train, y_train, cv=3, scoring='roc_auc')\n",
    "    return scores.mean()\n",
    "\n",
    "def experiments(X_train, y_train, X_test, y_test, seeds, n_trials=1, n_top_range=range(5000, 15001, 1000)):\n",
    "    results_df = pd.DataFrame(columns=['seed', 'model', 'training_time', 'f1_score', 'mcc', 'auc', 'ganancia_custom'])\n",
    "    imputer = SimpleImputer(strategy='mean')   \n",
    "    \n",
    "    y_test_baja = y_test.copy()\n",
    "    y_train = y_train.replace({2:1})      \n",
    "    y_test = y_test.replace({2:1})\n",
    "    \n",
    "    X_test = X_test[X_train.columns]    \n",
    "\n",
    "    for seed in seeds:    \n",
    "        np.random.seed(seed)\n",
    "        print(f'Experiment with seed {seed}')\n",
    "        \n",
    "        \n",
    "        print('LightGBM HPO')\n",
    "        start_time = time.time()\n",
    "        lgb_study = optuna.create_study(direction='maximize')\n",
    "        lgb_study.optimize(lambda trial: lgb_objective(trial, X_train, y_train), n_trials=n_trials)\n",
    "        lgb_model = lgb.LGBMClassifier(**lgb_study.best_params)\n",
    "        lgb_model.fit(X_train, y_train)\n",
    "        training_time = time.time() - start_time     \n",
    "\n",
    "        ganancia_custom_values = []\n",
    "        for n_top in n_top_range:\n",
    "            y_pred_proba = lgb_model.predict_proba(X_test)[:, 1]\n",
    "            threshold = np.sort(y_pred_proba)[-n_top]\n",
    "            y_pred = (y_pred_proba >= threshold).astype(int)\n",
    "\n",
    "            ganancia_custom_values.append(ganancia_custom(y_test_baja, y_pred))\n",
    "\n",
    "        results = pd.DataFrame({\n",
    "            'seed': [seed],\n",
    "            'model': ['LightGBM HPO'],\n",
    "            'training_time': [training_time],\n",
    "            'f1_score': [f1_score(y_test, y_pred)],\n",
    "            'mcc': [matthews_corrcoef(y_test, y_pred)],\n",
    "            'auc': [roc_auc_score(y_test, y_pred_proba)],\n",
    "            'ganancia_custom': [ganancia_custom_values]\n",
    "        })\n",
    "        \n",
    "        print(f'LightGBM HPO con trials={n_trials} tardo : {training_time}')\n",
    "\n",
    "        results_df = pd.concat([results_df, results], ignore_index=True)\n",
    "        \n",
    "        ## fill the nulls\n",
    "        X_train = imputer.fit_transform(X_train)\n",
    "        X_test = imputer.transform(X_test)\n",
    "        \n",
    "        \n",
    "        \n",
    "        print('ExtraTreesDefault')\n",
    "      \n",
    "\n",
    "        start_time = time.time()\n",
    "        etc_model_default = ExtraTreesClassifier(random_state=seed,n_jobs=-1)\n",
    "        etc_model_default.fit(X_train, y_train)\n",
    "        training_time = time.time() - start_time\n",
    "\n",
    "        ganancia_custom_values = []\n",
    "        for n_top in n_top_range:\n",
    "            y_pred_proba = etc_model_default.predict_proba(X_test)[:, 1]\n",
    "            threshold = np.sort(y_pred_proba)[-n_top]\n",
    "            y_pred = (y_pred_proba >= threshold).astype(int)\n",
    "\n",
    "            ganancia_custom_values.append(ganancia_custom(y_test_baja, y_pred))\n",
    "\n",
    "        results = pd.DataFrame({\n",
    "            'seed': [seed],\n",
    "            'model': ['ExtraTreesDefault'],\n",
    "            'training_time': [training_time],\n",
    "            'f1_score': [f1_score(y_test, y_pred)],\n",
    "            'mcc': [matthews_corrcoef(y_test, y_pred)],\n",
    "            'auc': [roc_auc_score(y_test, y_pred_proba)],\n",
    "            'ganancia_custom': [ganancia_custom_values]\n",
    "        })\n",
    "        print(f'ExtraTreesDefault tardo : {training_time}')\n",
    "\n",
    "        results_df = pd.concat([results_df, results], ignore_index=True)        \n",
    "        \n",
    "        print('RandomForestDefault')\n",
    "        X_train = imputer.fit_transform(X_train)\n",
    "        X_test = imputer.transform(X_test)\n",
    "\n",
    "        start_time = time.time()\n",
    "        etc_model_default = RandomForestClassifier(random_state=seed,n_jobs=-1)\n",
    "        etc_model_default.fit(X_train, y_train)\n",
    "        training_time = time.time() - start_time\n",
    "\n",
    "        ganancia_custom_values = []\n",
    "        for n_top in n_top_range:\n",
    "            y_pred_proba = etc_model_default.predict_proba(X_test)[:, 1]\n",
    "            threshold = np.sort(y_pred_proba)[-n_top]\n",
    "            y_pred = (y_pred_proba >= threshold).astype(int)\n",
    "\n",
    "            ganancia_custom_values.append(ganancia_custom(y_test_baja, y_pred))\n",
    "\n",
    "        results = pd.DataFrame({\n",
    "            'seed': [seed],\n",
    "            'model': ['RandomForestDefault'],\n",
    "            'training_time': [training_time],\n",
    "            'f1_score': [f1_score(y_test, y_pred)],\n",
    "            'mcc': [matthews_corrcoef(y_test, y_pred)],\n",
    "            'auc': [roc_auc_score(y_test, y_pred_proba)],\n",
    "            'ganancia_custom': [ganancia_custom_values]\n",
    "        })\n",
    "        print(f'RandomForestDefault tardo : {training_time}')\n",
    "\n",
    "        results_df = pd.concat([results_df, results], ignore_index=True)\n",
    "        \n",
    "    \n",
    "    return results_df\n"
   ]
  },
  {
   "cell_type": "code",
   "execution_count": 6,
   "id": "0fb8cd53",
   "metadata": {
    "tags": []
   },
   "outputs": [],
   "source": [
    "X_valid = valid_data.drop(columns='clase_ternaria')\n",
    "y_valid = valid_data['clase_ternaria']\n",
    "\n",
    "X_test = test_data.drop(columns='clase_ternaria')\n",
    "y_test = test_data['clase_ternaria']\n",
    "\n",
    "X_train = train_data.drop(columns='clase_ternaria')\n",
    "y_train = train_data['clase_ternaria']"
   ]
  },
  {
   "cell_type": "markdown",
   "id": "bc07b242",
   "metadata": {
    "execution": {
     "iopub.execute_input": "2023-05-19T15:23:38.618257Z",
     "iopub.status.busy": "2023-05-19T15:23:38.617897Z",
     "iopub.status.idle": "2023-05-19T15:23:38.623275Z",
     "shell.execute_reply": "2023-05-19T15:23:38.622214Z",
     "shell.execute_reply.started": "2023-05-19T15:23:38.618227Z"
    },
    "tags": []
   },
   "source": [
    "## get feature importance"
   ]
  },
  {
   "cell_type": "code",
   "execution_count": 7,
   "id": "2466f1fb",
   "metadata": {
    "tags": []
   },
   "outputs": [],
   "source": [
    "lgbm_model = LGBMClassifier()\n",
    "lgbm_model.fit(X_train, y_train)\n",
    "importances_lgbm = lgbm_model.feature_importances_\n",
    "feature_importances_df = pd.DataFrame({'feature': X_train.columns, 'importance': importances_lgbm})\n",
    "feature_importances_df.sort_values('importance', ascending=False, inplace=True)\n",
    "X_train.columns = feature_importances_df['feature'].values"
   ]
  },
  {
   "cell_type": "markdown",
   "id": "00928bd8",
   "metadata": {
    "tags": []
   },
   "source": [
    "## build datasets"
   ]
  },
  {
   "cell_type": "code",
   "execution_count": 8,
   "id": "9457bd0e",
   "metadata": {
    "tags": []
   },
   "outputs": [],
   "source": [
    "## datasets\n",
    "dataset_1 = X_train.iloc[:,:int(X_train.shape[1]*0.3)]\n",
    "dataset_2 = X_train.iloc[:,int(X_train.shape[1]*0.6):]\n",
    "dataset_3 = X_train[random.sample(X_train.columns.to_list(), k=int(X_train.shape[1]*0.3))]\n",
    "\n",
    "dataset_rolling = rolling_window_df(X_train)\n",
    "dataset_4 = dataset_rolling[1]\n",
    "dataset_5 = dataset_rolling[2]\n",
    "dataset_6 = dataset_rolling[3]\n",
    "dataset_7 = dataset_rolling[4]\n",
    "dataset_8 = dataset_rolling[5]\n",
    "\n",
    "dataset_9 = pd.concat([X_train.iloc[:,:int(X_train.shape[1]*0.15)],X_train.iloc[:,int(X_train.shape[1]*0.85):]])\n",
    "dataset_10 = X_train[list(set(X_train.columns) - set(dataset_9.columns))]\n",
    "dataset_11 = X_train"
   ]
  },
  {
   "cell_type": "markdown",
   "id": "cc59cd21",
   "metadata": {},
   "source": [
    "# experiments"
   ]
  },
  {
   "cell_type": "code",
   "execution_count": 16,
   "id": "8d4ddfea-78c6-4d80-a488-b092702b1e59",
   "metadata": {
    "tags": []
   },
   "outputs": [],
   "source": [
    "seeds = [677213, 727817,311237, 660719, 106427]"
   ]
  },
  {
   "cell_type": "code",
   "execution_count": 17,
   "id": "56097d8a-7198-4ffe-9066-5c4d693c895b",
   "metadata": {
    "tags": []
   },
   "outputs": [],
   "source": [
    "seeds = [x*2 for x in seeds] + [x*3 for x in seeds] + [x*4 for x in seeds] "
   ]
  },
  {
   "cell_type": "code",
   "execution_count": 19,
   "id": "9bc3407b-d77b-4adb-a13f-2c90dd32150d",
   "metadata": {
    "tags": []
   },
   "outputs": [
    {
     "data": {
      "text/plain": [
       "15"
      ]
     },
     "execution_count": 19,
     "metadata": {},
     "output_type": "execute_result"
    }
   ],
   "source": [
    "len(seeds)"
   ]
  },
  {
   "cell_type": "code",
   "execution_count": null,
   "id": "cdbef0e6-89cf-4cca-939a-97f560d24315",
   "metadata": {
    "tags": []
   },
   "outputs": [
    {
     "name": "stderr",
     "output_type": "stream",
     "text": [
      "\u001b[32m[I 2023-05-23 00:42:05,113]\u001b[0m A new study created in memory with name: no-name-6eaf84a2-ea7e-4ac3-a8db-2a2279a72f96\u001b[0m\n"
     ]
    },
    {
     "name": "stdout",
     "output_type": "stream",
     "text": [
      "Experiment with seed 1354426\n",
      "LightGBM HPO\n",
      "[LightGBM] [Warning] feature_fraction is set=0.9595511943484935, colsample_bytree=1.0 will be ignored. Current value: feature_fraction=0.9595511943484935\n",
      "[LightGBM] [Warning] lambda_l2 is set=0.0, reg_lambda=0.0 will be ignored. Current value: lambda_l2=0.0\n",
      "[LightGBM] [Warning] min_sum_hessian_in_leaf is set=0.001, min_child_weight=0.001 will be ignored. Current value: min_sum_hessian_in_leaf=0.001\n",
      "[LightGBM] [Warning] min_data_in_leaf is set=8337, min_child_samples=20 will be ignored. Current value: min_data_in_leaf=8337\n",
      "[LightGBM] [Warning] min_gain_to_split is set=0.0, min_split_gain=0.0 will be ignored. Current value: min_gain_to_split=0.0\n",
      "[LightGBM] [Warning] bagging_fraction is set=1.0, subsample=1.0 will be ignored. Current value: bagging_fraction=1.0\n",
      "[LightGBM] [Warning] lambda_l1 is set=0.0, reg_alpha=0.0 will be ignored. Current value: lambda_l1=0.0\n",
      "[LightGBM] [Warning] feature_fraction is set=0.9595511943484935, colsample_bytree=1.0 will be ignored. Current value: feature_fraction=0.9595511943484935\n",
      "[LightGBM] [Warning] lambda_l2 is set=0.0, reg_lambda=0.0 will be ignored. Current value: lambda_l2=0.0\n",
      "[LightGBM] [Warning] min_sum_hessian_in_leaf is set=0.001, min_child_weight=0.001 will be ignored. Current value: min_sum_hessian_in_leaf=0.001\n",
      "[LightGBM] [Warning] min_data_in_leaf is set=8337, min_child_samples=20 will be ignored. Current value: min_data_in_leaf=8337\n",
      "[LightGBM] [Warning] min_gain_to_split is set=0.0, min_split_gain=0.0 will be ignored. Current value: min_gain_to_split=0.0\n",
      "[LightGBM] [Warning] bagging_fraction is set=1.0, subsample=1.0 will be ignored. Current value: bagging_fraction=1.0\n",
      "[LightGBM] [Warning] lambda_l1 is set=0.0, reg_alpha=0.0 will be ignored. Current value: lambda_l1=0.0\n"
     ]
    },
    {
     "name": "stderr",
     "output_type": "stream",
     "text": [
      "\u001b[32m[I 2023-05-23 00:42:05,669]\u001b[0m Trial 0 finished with value: 0.8750204562979396 and parameters: {'learning_rate': 0.03050654674153503, 'feature_fraction': 0.9595511943484935, 'num_leaves': 148, 'min_data_in_leaf': 8337}. Best is trial 0 with value: 0.8750204562979396.\u001b[0m\n"
     ]
    },
    {
     "name": "stdout",
     "output_type": "stream",
     "text": [
      "[LightGBM] [Warning] feature_fraction is set=0.12348467500490463, colsample_bytree=1.0 will be ignored. Current value: feature_fraction=0.12348467500490463\n",
      "[LightGBM] [Warning] lambda_l2 is set=0.0, reg_lambda=0.0 will be ignored. Current value: lambda_l2=0.0\n",
      "[LightGBM] [Warning] min_sum_hessian_in_leaf is set=0.001, min_child_weight=0.001 will be ignored. Current value: min_sum_hessian_in_leaf=0.001\n",
      "[LightGBM] [Warning] min_data_in_leaf is set=6717, min_child_samples=20 will be ignored. Current value: min_data_in_leaf=6717\n",
      "[LightGBM] [Warning] min_gain_to_split is set=0.0, min_split_gain=0.0 will be ignored. Current value: min_gain_to_split=0.0\n",
      "[LightGBM] [Warning] bagging_fraction is set=1.0, subsample=1.0 will be ignored. Current value: bagging_fraction=1.0\n",
      "[LightGBM] [Warning] lambda_l1 is set=0.0, reg_alpha=0.0 will be ignored. Current value: lambda_l1=0.0\n",
      "[LightGBM] [Warning] feature_fraction is set=0.12348467500490463, colsample_bytree=1.0 will be ignored. Current value: feature_fraction=0.12348467500490463\n",
      "[LightGBM] [Warning] lambda_l2 is set=0.0, reg_lambda=0.0 will be ignored. Current value: lambda_l2=0.0\n",
      "[LightGBM] [Warning] min_sum_hessian_in_leaf is set=0.001, min_child_weight=0.001 will be ignored. Current value: min_sum_hessian_in_leaf=0.001\n",
      "[LightGBM] [Warning] min_data_in_leaf is set=6717, min_child_samples=20 will be ignored. Current value: min_data_in_leaf=6717\n",
      "[LightGBM] [Warning] min_gain_to_split is set=0.0, min_split_gain=0.0 will be ignored. Current value: min_gain_to_split=0.0\n",
      "[LightGBM] [Warning] bagging_fraction is set=1.0, subsample=1.0 will be ignored. Current value: bagging_fraction=1.0\n",
      "[LightGBM] [Warning] lambda_l1 is set=0.0, reg_alpha=0.0 will be ignored. Current value: lambda_l1=0.0\n"
     ]
    },
    {
     "name": "stderr",
     "output_type": "stream",
     "text": [
      "\u001b[32m[I 2023-05-23 00:42:06,310]\u001b[0m Trial 1 finished with value: 0.878649323236754 and parameters: {'learning_rate': 0.2446365032149521, 'feature_fraction': 0.12348467500490463, 'num_leaves': 383, 'min_data_in_leaf': 6717}. Best is trial 1 with value: 0.878649323236754.\u001b[0m\n"
     ]
    },
    {
     "name": "stdout",
     "output_type": "stream",
     "text": [
      "[LightGBM] [Warning] feature_fraction is set=0.12348467500490463, colsample_bytree=1.0 will be ignored. Current value: feature_fraction=0.12348467500490463\n",
      "[LightGBM] [Warning] lambda_l2 is set=0.0, reg_lambda=0.0 will be ignored. Current value: lambda_l2=0.0\n",
      "[LightGBM] [Warning] min_sum_hessian_in_leaf is set=0.001, min_child_weight=0.001 will be ignored. Current value: min_sum_hessian_in_leaf=0.001\n",
      "[LightGBM] [Warning] min_data_in_leaf is set=6717, min_child_samples=20 will be ignored. Current value: min_data_in_leaf=6717\n",
      "[LightGBM] [Warning] min_gain_to_split is set=0.0, min_split_gain=0.0 will be ignored. Current value: min_gain_to_split=0.0\n",
      "[LightGBM] [Warning] bagging_fraction is set=1.0, subsample=1.0 will be ignored. Current value: bagging_fraction=1.0\n",
      "[LightGBM] [Warning] lambda_l1 is set=0.0, reg_alpha=0.0 will be ignored. Current value: lambda_l1=0.0\n",
      "[LightGBM] [Warning] feature_fraction is set=0.04887373447080844, colsample_bytree=1.0 will be ignored. Current value: feature_fraction=0.04887373447080844\n",
      "[LightGBM] [Warning] lambda_l2 is set=0.0, reg_lambda=0.0 will be ignored. Current value: lambda_l2=0.0\n",
      "[LightGBM] [Warning] min_sum_hessian_in_leaf is set=0.001, min_child_weight=0.001 will be ignored. Current value: min_sum_hessian_in_leaf=0.001\n",
      "[LightGBM] [Warning] min_data_in_leaf is set=2772, min_child_samples=20 will be ignored. Current value: min_data_in_leaf=2772\n",
      "[LightGBM] [Warning] min_gain_to_split is set=0.0, min_split_gain=0.0 will be ignored. Current value: min_gain_to_split=0.0\n",
      "[LightGBM] [Warning] bagging_fraction is set=1.0, subsample=1.0 will be ignored. Current value: bagging_fraction=1.0\n",
      "[LightGBM] [Warning] lambda_l1 is set=0.0, reg_alpha=0.0 will be ignored. Current value: lambda_l1=0.0\n",
      "[LightGBM] [Warning] feature_fraction is set=0.04887373447080844, colsample_bytree=1.0 will be ignored. Current value: feature_fraction=0.04887373447080844\n",
      "[LightGBM] [Warning] lambda_l2 is set=0.0, reg_lambda=0.0 will be ignored. Current value: lambda_l2=0.0\n",
      "[LightGBM] [Warning] min_sum_hessian_in_leaf is set=0.001, min_child_weight=0.001 will be ignored. Current value: min_sum_hessian_in_leaf=0.001\n",
      "[LightGBM] [Warning] min_data_in_leaf is set=2772, min_child_samples=20 will be ignored. Current value: min_data_in_leaf=2772\n",
      "[LightGBM] [Warning] min_gain_to_split is set=0.0, min_split_gain=0.0 will be ignored. Current value: min_gain_to_split=0.0\n",
      "[LightGBM] [Warning] bagging_fraction is set=1.0, subsample=1.0 will be ignored. Current value: bagging_fraction=1.0\n",
      "[LightGBM] [Warning] lambda_l1 is set=0.0, reg_alpha=0.0 will be ignored. Current value: lambda_l1=0.0\n"
     ]
    },
    {
     "name": "stderr",
     "output_type": "stream",
     "text": [
      "\u001b[32m[I 2023-05-23 00:42:06,956]\u001b[0m Trial 2 finished with value: 0.8944718754893523 and parameters: {'learning_rate': 0.13652152803326276, 'feature_fraction': 0.04887373447080844, 'num_leaves': 417, 'min_data_in_leaf': 2772}. Best is trial 2 with value: 0.8944718754893523.\u001b[0m\n"
     ]
    },
    {
     "name": "stdout",
     "output_type": "stream",
     "text": [
      "[LightGBM] [Warning] feature_fraction is set=0.04887373447080844, colsample_bytree=1.0 will be ignored. Current value: feature_fraction=0.04887373447080844\n",
      "[LightGBM] [Warning] lambda_l2 is set=0.0, reg_lambda=0.0 will be ignored. Current value: lambda_l2=0.0\n",
      "[LightGBM] [Warning] min_sum_hessian_in_leaf is set=0.001, min_child_weight=0.001 will be ignored. Current value: min_sum_hessian_in_leaf=0.001\n",
      "[LightGBM] [Warning] min_data_in_leaf is set=2772, min_child_samples=20 will be ignored. Current value: min_data_in_leaf=2772\n",
      "[LightGBM] [Warning] min_gain_to_split is set=0.0, min_split_gain=0.0 will be ignored. Current value: min_gain_to_split=0.0\n",
      "[LightGBM] [Warning] bagging_fraction is set=1.0, subsample=1.0 will be ignored. Current value: bagging_fraction=1.0\n",
      "[LightGBM] [Warning] lambda_l1 is set=0.0, reg_alpha=0.0 will be ignored. Current value: lambda_l1=0.0\n",
      "[LightGBM] [Warning] feature_fraction is set=0.3932000338844786, colsample_bytree=1.0 will be ignored. Current value: feature_fraction=0.3932000338844786\n",
      "[LightGBM] [Warning] lambda_l2 is set=0.0, reg_lambda=0.0 will be ignored. Current value: lambda_l2=0.0\n",
      "[LightGBM] [Warning] min_sum_hessian_in_leaf is set=0.001, min_child_weight=0.001 will be ignored. Current value: min_sum_hessian_in_leaf=0.001\n",
      "[LightGBM] [Warning] min_data_in_leaf is set=9158, min_child_samples=20 will be ignored. Current value: min_data_in_leaf=9158\n",
      "[LightGBM] [Warning] min_gain_to_split is set=0.0, min_split_gain=0.0 will be ignored. Current value: min_gain_to_split=0.0\n",
      "[LightGBM] [Warning] bagging_fraction is set=1.0, subsample=1.0 will be ignored. Current value: bagging_fraction=1.0\n",
      "[LightGBM] [Warning] lambda_l1 is set=0.0, reg_alpha=0.0 will be ignored. Current value: lambda_l1=0.0\n",
      "[LightGBM] [Warning] feature_fraction is set=0.3932000338844786, colsample_bytree=1.0 will be ignored. Current value: feature_fraction=0.3932000338844786\n",
      "[LightGBM] [Warning] lambda_l2 is set=0.0, reg_lambda=0.0 will be ignored. Current value: lambda_l2=0.0\n",
      "[LightGBM] [Warning] min_sum_hessian_in_leaf is set=0.001, min_child_weight=0.001 will be ignored. Current value: min_sum_hessian_in_leaf=0.001\n",
      "[LightGBM] [Warning] min_data_in_leaf is set=9158, min_child_samples=20 will be ignored. Current value: min_data_in_leaf=9158\n",
      "[LightGBM] [Warning] min_gain_to_split is set=0.0, min_split_gain=0.0 will be ignored. Current value: min_gain_to_split=0.0\n",
      "[LightGBM] [Warning] bagging_fraction is set=1.0, subsample=1.0 will be ignored. Current value: bagging_fraction=1.0\n",
      "[LightGBM] [Warning] lambda_l1 is set=0.0, reg_alpha=0.0 will be ignored. Current value: lambda_l1=0.0\n",
      "[LightGBM] [Warning] feature_fraction is set=0.3932000338844786, colsample_bytree=1.0 will be ignored. Current value: feature_fraction=0.3932000338844786\n",
      "[LightGBM] [Warning] lambda_l2 is set=0.0, reg_lambda=0.0 will be ignored. Current value: lambda_l2=0.0\n",
      "[LightGBM] [Warning] min_sum_hessian_in_leaf is set=0.001, min_child_weight=0.001 will be ignored. Current value: min_sum_hessian_in_leaf=0.001\n",
      "[LightGBM] [Warning] min_data_in_leaf is set=9158, min_child_samples=20 will be ignored. Current value: min_data_in_leaf=9158\n",
      "[LightGBM] [Warning] min_gain_to_split is set=0.0, min_split_gain=0.0 will be ignored. Current value: min_gain_to_split=0.0\n",
      "[LightGBM] [Warning] bagging_fraction is set=1.0, subsample=1.0 will be ignored. Current value: bagging_fraction=1.0\n",
      "[LightGBM] [Warning] lambda_l1 is set=0.0, reg_alpha=0.0 will be ignored. Current value: lambda_l1=0.0\n"
     ]
    },
    {
     "name": "stderr",
     "output_type": "stream",
     "text": [
      "\u001b[32m[I 2023-05-23 00:42:07,689]\u001b[0m Trial 3 finished with value: 0.8385575748287627 and parameters: {'learning_rate': 0.15162597122593674, 'feature_fraction': 0.3932000338844786, 'num_leaves': 535, 'min_data_in_leaf': 9158}. Best is trial 2 with value: 0.8944718754893523.\u001b[0m\n"
     ]
    },
    {
     "name": "stdout",
     "output_type": "stream",
     "text": [
      "[LightGBM] [Warning] feature_fraction is set=0.4447013145189686, colsample_bytree=1.0 will be ignored. Current value: feature_fraction=0.4447013145189686\n",
      "[LightGBM] [Warning] lambda_l2 is set=0.0, reg_lambda=0.0 will be ignored. Current value: lambda_l2=0.0\n",
      "[LightGBM] [Warning] min_sum_hessian_in_leaf is set=0.001, min_child_weight=0.001 will be ignored. Current value: min_sum_hessian_in_leaf=0.001\n",
      "[LightGBM] [Warning] min_data_in_leaf is set=2372, min_child_samples=20 will be ignored. Current value: min_data_in_leaf=2372\n",
      "[LightGBM] [Warning] min_gain_to_split is set=0.0, min_split_gain=0.0 will be ignored. Current value: min_gain_to_split=0.0\n",
      "[LightGBM] [Warning] bagging_fraction is set=1.0, subsample=1.0 will be ignored. Current value: bagging_fraction=1.0\n",
      "[LightGBM] [Warning] lambda_l1 is set=0.0, reg_alpha=0.0 will be ignored. Current value: lambda_l1=0.0\n",
      "[LightGBM] [Warning] feature_fraction is set=0.4447013145189686, colsample_bytree=1.0 will be ignored. Current value: feature_fraction=0.4447013145189686\n",
      "[LightGBM] [Warning] lambda_l2 is set=0.0, reg_lambda=0.0 will be ignored. Current value: lambda_l2=0.0\n",
      "[LightGBM] [Warning] min_sum_hessian_in_leaf is set=0.001, min_child_weight=0.001 will be ignored. Current value: min_sum_hessian_in_leaf=0.001\n",
      "[LightGBM] [Warning] min_data_in_leaf is set=2372, min_child_samples=20 will be ignored. Current value: min_data_in_leaf=2372\n",
      "[LightGBM] [Warning] min_gain_to_split is set=0.0, min_split_gain=0.0 will be ignored. Current value: min_gain_to_split=0.0\n",
      "[LightGBM] [Warning] bagging_fraction is set=1.0, subsample=1.0 will be ignored. Current value: bagging_fraction=1.0\n",
      "[LightGBM] [Warning] lambda_l1 is set=0.0, reg_alpha=0.0 will be ignored. Current value: lambda_l1=0.0\n",
      "[LightGBM] [Warning] feature_fraction is set=0.4447013145189686, colsample_bytree=1.0 will be ignored. Current value: feature_fraction=0.4447013145189686\n",
      "[LightGBM] [Warning] lambda_l2 is set=0.0, reg_lambda=0.0 will be ignored. Current value: lambda_l2=0.0\n",
      "[LightGBM] [Warning] min_sum_hessian_in_leaf is set=0.001, min_child_weight=0.001 will be ignored. Current value: min_sum_hessian_in_leaf=0.001\n",
      "[LightGBM] [Warning] min_data_in_leaf is set=2372, min_child_samples=20 will be ignored. Current value: min_data_in_leaf=2372\n",
      "[LightGBM] [Warning] min_gain_to_split is set=0.0, min_split_gain=0.0 will be ignored. Current value: min_gain_to_split=0.0\n",
      "[LightGBM] [Warning] bagging_fraction is set=1.0, subsample=1.0 will be ignored. Current value: bagging_fraction=1.0\n",
      "[LightGBM] [Warning] lambda_l1 is set=0.0, reg_alpha=0.0 will be ignored. Current value: lambda_l1=0.0\n"
     ]
    },
    {
     "name": "stderr",
     "output_type": "stream",
     "text": [
      "\u001b[32m[I 2023-05-23 00:42:08,702]\u001b[0m Trial 4 finished with value: 0.9170774510805842 and parameters: {'learning_rate': 0.17864379476974088, 'feature_fraction': 0.4447013145189686, 'num_leaves': 609, 'min_data_in_leaf': 2372}. Best is trial 4 with value: 0.9170774510805842.\u001b[0m\n"
     ]
    },
    {
     "name": "stdout",
     "output_type": "stream",
     "text": [
      "[LightGBM] [Warning] feature_fraction is set=0.07712355985826164, colsample_bytree=1.0 will be ignored. Current value: feature_fraction=0.07712355985826164\n",
      "[LightGBM] [Warning] lambda_l2 is set=0.0, reg_lambda=0.0 will be ignored. Current value: lambda_l2=0.0\n",
      "[LightGBM] [Warning] min_sum_hessian_in_leaf is set=0.001, min_child_weight=0.001 will be ignored. Current value: min_sum_hessian_in_leaf=0.001\n",
      "[LightGBM] [Warning] min_data_in_leaf is set=451, min_child_samples=20 will be ignored. Current value: min_data_in_leaf=451\n",
      "[LightGBM] [Warning] min_gain_to_split is set=0.0, min_split_gain=0.0 will be ignored. Current value: min_gain_to_split=0.0\n",
      "[LightGBM] [Warning] bagging_fraction is set=1.0, subsample=1.0 will be ignored. Current value: bagging_fraction=1.0\n",
      "[LightGBM] [Warning] lambda_l1 is set=0.0, reg_alpha=0.0 will be ignored. Current value: lambda_l1=0.0\n",
      "[LightGBM] [Warning] feature_fraction is set=0.07712355985826164, colsample_bytree=1.0 will be ignored. Current value: feature_fraction=0.07712355985826164\n",
      "[LightGBM] [Warning] lambda_l2 is set=0.0, reg_lambda=0.0 will be ignored. Current value: lambda_l2=0.0\n",
      "[LightGBM] [Warning] min_sum_hessian_in_leaf is set=0.001, min_child_weight=0.001 will be ignored. Current value: min_sum_hessian_in_leaf=0.001\n",
      "[LightGBM] [Warning] min_data_in_leaf is set=451, min_child_samples=20 will be ignored. Current value: min_data_in_leaf=451\n",
      "[LightGBM] [Warning] min_gain_to_split is set=0.0, min_split_gain=0.0 will be ignored. Current value: min_gain_to_split=0.0\n",
      "[LightGBM] [Warning] bagging_fraction is set=1.0, subsample=1.0 will be ignored. Current value: bagging_fraction=1.0\n",
      "[LightGBM] [Warning] lambda_l1 is set=0.0, reg_alpha=0.0 will be ignored. Current value: lambda_l1=0.0\n",
      "[LightGBM] [Warning] feature_fraction is set=0.07712355985826164, colsample_bytree=1.0 will be ignored. Current value: feature_fraction=0.07712355985826164\n",
      "[LightGBM] [Warning] lambda_l2 is set=0.0, reg_lambda=0.0 will be ignored. Current value: lambda_l2=0.0\n",
      "[LightGBM] [Warning] min_sum_hessian_in_leaf is set=0.001, min_child_weight=0.001 will be ignored. Current value: min_sum_hessian_in_leaf=0.001\n",
      "[LightGBM] [Warning] min_data_in_leaf is set=451, min_child_samples=20 will be ignored. Current value: min_data_in_leaf=451\n",
      "[LightGBM] [Warning] min_gain_to_split is set=0.0, min_split_gain=0.0 will be ignored. Current value: min_gain_to_split=0.0\n",
      "[LightGBM] [Warning] bagging_fraction is set=1.0, subsample=1.0 will be ignored. Current value: bagging_fraction=1.0\n",
      "[LightGBM] [Warning] lambda_l1 is set=0.0, reg_alpha=0.0 will be ignored. Current value: lambda_l1=0.0\n"
     ]
    },
    {
     "name": "stderr",
     "output_type": "stream",
     "text": [
      "\u001b[32m[I 2023-05-23 00:42:09,708]\u001b[0m Trial 5 finished with value: 0.9201228619621932 and parameters: {'learning_rate': 0.19101075559490843, 'feature_fraction': 0.07712355985826164, 'num_leaves': 569, 'min_data_in_leaf': 451}. Best is trial 5 with value: 0.9201228619621932.\u001b[0m\n"
     ]
    },
    {
     "name": "stdout",
     "output_type": "stream",
     "text": [
      "[LightGBM] [Warning] feature_fraction is set=0.8488730069642415, colsample_bytree=1.0 will be ignored. Current value: feature_fraction=0.8488730069642415\n",
      "[LightGBM] [Warning] lambda_l2 is set=0.0, reg_lambda=0.0 will be ignored. Current value: lambda_l2=0.0\n",
      "[LightGBM] [Warning] min_sum_hessian_in_leaf is set=0.001, min_child_weight=0.001 will be ignored. Current value: min_sum_hessian_in_leaf=0.001\n",
      "[LightGBM] [Warning] min_data_in_leaf is set=6708, min_child_samples=20 will be ignored. Current value: min_data_in_leaf=6708\n",
      "[LightGBM] [Warning] min_gain_to_split is set=0.0, min_split_gain=0.0 will be ignored. Current value: min_gain_to_split=0.0\n",
      "[LightGBM] [Warning] bagging_fraction is set=1.0, subsample=1.0 will be ignored. Current value: bagging_fraction=1.0\n",
      "[LightGBM] [Warning] lambda_l1 is set=0.0, reg_alpha=0.0 will be ignored. Current value: lambda_l1=0.0\n",
      "[LightGBM] [Warning] feature_fraction is set=0.8488730069642415, colsample_bytree=1.0 will be ignored. Current value: feature_fraction=0.8488730069642415\n",
      "[LightGBM] [Warning] lambda_l2 is set=0.0, reg_lambda=0.0 will be ignored. Current value: lambda_l2=0.0\n",
      "[LightGBM] [Warning] min_sum_hessian_in_leaf is set=0.001, min_child_weight=0.001 will be ignored. Current value: min_sum_hessian_in_leaf=0.001\n",
      "[LightGBM] [Warning] min_data_in_leaf is set=6708, min_child_samples=20 will be ignored. Current value: min_data_in_leaf=6708\n",
      "[LightGBM] [Warning] min_gain_to_split is set=0.0, min_split_gain=0.0 will be ignored. Current value: min_gain_to_split=0.0\n",
      "[LightGBM] [Warning] bagging_fraction is set=1.0, subsample=1.0 will be ignored. Current value: bagging_fraction=1.0\n",
      "[LightGBM] [Warning] lambda_l1 is set=0.0, reg_alpha=0.0 will be ignored. Current value: lambda_l1=0.0\n",
      "[LightGBM] [Warning] feature_fraction is set=0.8488730069642415, colsample_bytree=1.0 will be ignored. Current value: feature_fraction=0.8488730069642415\n",
      "[LightGBM] [Warning] lambda_l2 is set=0.0, reg_lambda=0.0 will be ignored. Current value: lambda_l2=0.0\n",
      "[LightGBM] [Warning] min_sum_hessian_in_leaf is set=0.001, min_child_weight=0.001 will be ignored. Current value: min_sum_hessian_in_leaf=0.001\n",
      "[LightGBM] [Warning] min_data_in_leaf is set=6708, min_child_samples=20 will be ignored. Current value: min_data_in_leaf=6708\n",
      "[LightGBM] [Warning] min_gain_to_split is set=0.0, min_split_gain=0.0 will be ignored. Current value: min_gain_to_split=0.0\n",
      "[LightGBM] [Warning] bagging_fraction is set=1.0, subsample=1.0 will be ignored. Current value: bagging_fraction=1.0\n",
      "[LightGBM] [Warning] lambda_l1 is set=0.0, reg_alpha=0.0 will be ignored. Current value: lambda_l1=0.0\n"
     ]
    },
    {
     "name": "stderr",
     "output_type": "stream",
     "text": [
      "\u001b[32m[I 2023-05-23 00:42:10,308]\u001b[0m Trial 6 finished with value: 0.8886411961457984 and parameters: {'learning_rate': 0.19504962289190145, 'feature_fraction': 0.8488730069642415, 'num_leaves': 865, 'min_data_in_leaf': 6708}. Best is trial 5 with value: 0.9201228619621932.\u001b[0m\n"
     ]
    },
    {
     "name": "stdout",
     "output_type": "stream",
     "text": [
      "[LightGBM] [Warning] feature_fraction is set=0.8538633115144444, colsample_bytree=1.0 will be ignored. Current value: feature_fraction=0.8538633115144444\n",
      "[LightGBM] [Warning] lambda_l2 is set=0.0, reg_lambda=0.0 will be ignored. Current value: lambda_l2=0.0\n",
      "[LightGBM] [Warning] min_sum_hessian_in_leaf is set=0.001, min_child_weight=0.001 will be ignored. Current value: min_sum_hessian_in_leaf=0.001\n",
      "[LightGBM] [Warning] min_data_in_leaf is set=7491, min_child_samples=20 will be ignored. Current value: min_data_in_leaf=7491\n",
      "[LightGBM] [Warning] min_gain_to_split is set=0.0, min_split_gain=0.0 will be ignored. Current value: min_gain_to_split=0.0\n",
      "[LightGBM] [Warning] bagging_fraction is set=1.0, subsample=1.0 will be ignored. Current value: bagging_fraction=1.0\n",
      "[LightGBM] [Warning] lambda_l1 is set=0.0, reg_alpha=0.0 will be ignored. Current value: lambda_l1=0.0\n",
      "[LightGBM] [Warning] feature_fraction is set=0.8538633115144444, colsample_bytree=1.0 will be ignored. Current value: feature_fraction=0.8538633115144444\n",
      "[LightGBM] [Warning] lambda_l2 is set=0.0, reg_lambda=0.0 will be ignored. Current value: lambda_l2=0.0\n",
      "[LightGBM] [Warning] min_sum_hessian_in_leaf is set=0.001, min_child_weight=0.001 will be ignored. Current value: min_sum_hessian_in_leaf=0.001\n",
      "[LightGBM] [Warning] min_data_in_leaf is set=7491, min_child_samples=20 will be ignored. Current value: min_data_in_leaf=7491\n",
      "[LightGBM] [Warning] min_gain_to_split is set=0.0, min_split_gain=0.0 will be ignored. Current value: min_gain_to_split=0.0\n",
      "[LightGBM] [Warning] bagging_fraction is set=1.0, subsample=1.0 will be ignored. Current value: bagging_fraction=1.0\n",
      "[LightGBM] [Warning] lambda_l1 is set=0.0, reg_alpha=0.0 will be ignored. Current value: lambda_l1=0.0\n",
      "[LightGBM] [Warning] feature_fraction is set=0.8538633115144444, colsample_bytree=1.0 will be ignored. Current value: feature_fraction=0.8538633115144444\n",
      "[LightGBM] [Warning] lambda_l2 is set=0.0, reg_lambda=0.0 will be ignored. Current value: lambda_l2=0.0\n",
      "[LightGBM] [Warning] min_sum_hessian_in_leaf is set=0.001, min_child_weight=0.001 will be ignored. Current value: min_sum_hessian_in_leaf=0.001\n",
      "[LightGBM] [Warning] min_data_in_leaf is set=7491, min_child_samples=20 will be ignored. Current value: min_data_in_leaf=7491\n",
      "[LightGBM] [Warning] min_gain_to_split is set=0.0, min_split_gain=0.0 will be ignored. Current value: min_gain_to_split=0.0\n",
      "[LightGBM] [Warning] bagging_fraction is set=1.0, subsample=1.0 will be ignored. Current value: bagging_fraction=1.0\n",
      "[LightGBM] [Warning] lambda_l1 is set=0.0, reg_alpha=0.0 will be ignored. Current value: lambda_l1=0.0\n"
     ]
    },
    {
     "name": "stderr",
     "output_type": "stream",
     "text": [
      "\u001b[32m[I 2023-05-23 00:42:10,915]\u001b[0m Trial 7 finished with value: 0.884346674882086 and parameters: {'learning_rate': 0.08128043523338452, 'feature_fraction': 0.8538633115144444, 'num_leaves': 1017, 'min_data_in_leaf': 7491}. Best is trial 5 with value: 0.9201228619621932.\u001b[0m\n"
     ]
    },
    {
     "name": "stdout",
     "output_type": "stream",
     "text": [
      "[LightGBM] [Warning] feature_fraction is set=0.041850415171505596, colsample_bytree=1.0 will be ignored. Current value: feature_fraction=0.041850415171505596\n",
      "[LightGBM] [Warning] lambda_l2 is set=0.0, reg_lambda=0.0 will be ignored. Current value: lambda_l2=0.0\n",
      "[LightGBM] [Warning] min_sum_hessian_in_leaf is set=0.001, min_child_weight=0.001 will be ignored. Current value: min_sum_hessian_in_leaf=0.001\n",
      "[LightGBM] [Warning] min_data_in_leaf is set=8383, min_child_samples=20 will be ignored. Current value: min_data_in_leaf=8383\n",
      "[LightGBM] [Warning] min_gain_to_split is set=0.0, min_split_gain=0.0 will be ignored. Current value: min_gain_to_split=0.0\n",
      "[LightGBM] [Warning] bagging_fraction is set=1.0, subsample=1.0 will be ignored. Current value: bagging_fraction=1.0\n",
      "[LightGBM] [Warning] lambda_l1 is set=0.0, reg_alpha=0.0 will be ignored. Current value: lambda_l1=0.0\n",
      "[LightGBM] [Warning] feature_fraction is set=0.041850415171505596, colsample_bytree=1.0 will be ignored. Current value: feature_fraction=0.041850415171505596\n",
      "[LightGBM] [Warning] lambda_l2 is set=0.0, reg_lambda=0.0 will be ignored. Current value: lambda_l2=0.0\n",
      "[LightGBM] [Warning] min_sum_hessian_in_leaf is set=0.001, min_child_weight=0.001 will be ignored. Current value: min_sum_hessian_in_leaf=0.001\n",
      "[LightGBM] [Warning] min_data_in_leaf is set=8383, min_child_samples=20 will be ignored. Current value: min_data_in_leaf=8383\n",
      "[LightGBM] [Warning] min_gain_to_split is set=0.0, min_split_gain=0.0 will be ignored. Current value: min_gain_to_split=0.0\n",
      "[LightGBM] [Warning] bagging_fraction is set=1.0, subsample=1.0 will be ignored. Current value: bagging_fraction=1.0\n",
      "[LightGBM] [Warning] lambda_l1 is set=0.0, reg_alpha=0.0 will be ignored. Current value: lambda_l1=0.0\n"
     ]
    },
    {
     "name": "stderr",
     "output_type": "stream",
     "text": [
      "\u001b[32m[I 2023-05-23 00:42:11,503]\u001b[0m Trial 8 finished with value: 0.8281812670064235 and parameters: {'learning_rate': 0.10492335556716148, 'feature_fraction': 0.041850415171505596, 'num_leaves': 525, 'min_data_in_leaf': 8383}. Best is trial 5 with value: 0.9201228619621932.\u001b[0m\n"
     ]
    },
    {
     "name": "stdout",
     "output_type": "stream",
     "text": [
      "[LightGBM] [Warning] feature_fraction is set=0.041850415171505596, colsample_bytree=1.0 will be ignored. Current value: feature_fraction=0.041850415171505596\n",
      "[LightGBM] [Warning] lambda_l2 is set=0.0, reg_lambda=0.0 will be ignored. Current value: lambda_l2=0.0\n",
      "[LightGBM] [Warning] min_sum_hessian_in_leaf is set=0.001, min_child_weight=0.001 will be ignored. Current value: min_sum_hessian_in_leaf=0.001\n",
      "[LightGBM] [Warning] min_data_in_leaf is set=8383, min_child_samples=20 will be ignored. Current value: min_data_in_leaf=8383\n",
      "[LightGBM] [Warning] min_gain_to_split is set=0.0, min_split_gain=0.0 will be ignored. Current value: min_gain_to_split=0.0\n",
      "[LightGBM] [Warning] bagging_fraction is set=1.0, subsample=1.0 will be ignored. Current value: bagging_fraction=1.0\n",
      "[LightGBM] [Warning] lambda_l1 is set=0.0, reg_alpha=0.0 will be ignored. Current value: lambda_l1=0.0\n",
      "[LightGBM] [Warning] feature_fraction is set=0.5773358228451937, colsample_bytree=1.0 will be ignored. Current value: feature_fraction=0.5773358228451937\n",
      "[LightGBM] [Warning] lambda_l2 is set=0.0, reg_lambda=0.0 will be ignored. Current value: lambda_l2=0.0\n",
      "[LightGBM] [Warning] min_sum_hessian_in_leaf is set=0.001, min_child_weight=0.001 will be ignored. Current value: min_sum_hessian_in_leaf=0.001\n",
      "[LightGBM] [Warning] min_data_in_leaf is set=9598, min_child_samples=20 will be ignored. Current value: min_data_in_leaf=9598\n",
      "[LightGBM] [Warning] min_gain_to_split is set=0.0, min_split_gain=0.0 will be ignored. Current value: min_gain_to_split=0.0\n",
      "[LightGBM] [Warning] bagging_fraction is set=1.0, subsample=1.0 will be ignored. Current value: bagging_fraction=1.0\n",
      "[LightGBM] [Warning] lambda_l1 is set=0.0, reg_alpha=0.0 will be ignored. Current value: lambda_l1=0.0\n",
      "[LightGBM] [Warning] feature_fraction is set=0.5773358228451937, colsample_bytree=1.0 will be ignored. Current value: feature_fraction=0.5773358228451937\n",
      "[LightGBM] [Warning] lambda_l2 is set=0.0, reg_lambda=0.0 will be ignored. Current value: lambda_l2=0.0\n",
      "[LightGBM] [Warning] min_sum_hessian_in_leaf is set=0.001, min_child_weight=0.001 will be ignored. Current value: min_sum_hessian_in_leaf=0.001\n",
      "[LightGBM] [Warning] min_data_in_leaf is set=9598, min_child_samples=20 will be ignored. Current value: min_data_in_leaf=9598\n",
      "[LightGBM] [Warning] min_gain_to_split is set=0.0, min_split_gain=0.0 will be ignored. Current value: min_gain_to_split=0.0\n",
      "[LightGBM] [Warning] bagging_fraction is set=1.0, subsample=1.0 will be ignored. Current value: bagging_fraction=1.0\n",
      "[LightGBM] [Warning] lambda_l1 is set=0.0, reg_alpha=0.0 will be ignored. Current value: lambda_l1=0.0\n",
      "[LightGBM] [Warning] feature_fraction is set=0.5773358228451937, colsample_bytree=1.0 will be ignored. Current value: feature_fraction=0.5773358228451937\n",
      "[LightGBM] [Warning] lambda_l2 is set=0.0, reg_lambda=0.0 will be ignored. Current value: lambda_l2=0.0\n",
      "[LightGBM] [Warning] min_sum_hessian_in_leaf is set=0.001, min_child_weight=0.001 will be ignored. Current value: min_sum_hessian_in_leaf=0.001\n",
      "[LightGBM] [Warning] min_data_in_leaf is set=9598, min_child_samples=20 will be ignored. Current value: min_data_in_leaf=9598\n",
      "[LightGBM] [Warning] min_gain_to_split is set=0.0, min_split_gain=0.0 will be ignored. Current value: min_gain_to_split=0.0\n",
      "[LightGBM] [Warning] bagging_fraction is set=1.0, subsample=1.0 will be ignored. Current value: bagging_fraction=1.0\n",
      "[LightGBM] [Warning] lambda_l1 is set=0.0, reg_alpha=0.0 will be ignored. Current value: lambda_l1=0.0\n"
     ]
    },
    {
     "name": "stderr",
     "output_type": "stream",
     "text": [
      "\u001b[32m[I 2023-05-23 00:42:12,217]\u001b[0m Trial 9 finished with value: 0.5 and parameters: {'learning_rate': 0.032486452268975057, 'feature_fraction': 0.5773358228451937, 'num_leaves': 466, 'min_data_in_leaf': 9598}. Best is trial 5 with value: 0.9201228619621932.\u001b[0m\n"
     ]
    },
    {
     "name": "stdout",
     "output_type": "stream",
     "text": [
      "[LightGBM] [Warning] feature_fraction is set=0.22551186936103967, colsample_bytree=1.0 will be ignored. Current value: feature_fraction=0.22551186936103967\n",
      "[LightGBM] [Warning] lambda_l2 is set=0.0, reg_lambda=0.0 will be ignored. Current value: lambda_l2=0.0\n",
      "[LightGBM] [Warning] min_sum_hessian_in_leaf is set=0.001, min_child_weight=0.001 will be ignored. Current value: min_sum_hessian_in_leaf=0.001\n",
      "[LightGBM] [Warning] min_data_in_leaf is set=996, min_child_samples=20 will be ignored. Current value: min_data_in_leaf=996\n",
      "[LightGBM] [Warning] min_gain_to_split is set=0.0, min_split_gain=0.0 will be ignored. Current value: min_gain_to_split=0.0\n",
      "[LightGBM] [Warning] bagging_fraction is set=1.0, subsample=1.0 will be ignored. Current value: bagging_fraction=1.0\n",
      "[LightGBM] [Warning] lambda_l1 is set=0.0, reg_alpha=0.0 will be ignored. Current value: lambda_l1=0.0\n",
      "[LightGBM] [Warning] feature_fraction is set=0.22551186936103967, colsample_bytree=1.0 will be ignored. Current value: feature_fraction=0.22551186936103967\n",
      "[LightGBM] [Warning] lambda_l2 is set=0.0, reg_lambda=0.0 will be ignored. Current value: lambda_l2=0.0\n",
      "[LightGBM] [Warning] min_sum_hessian_in_leaf is set=0.001, min_child_weight=0.001 will be ignored. Current value: min_sum_hessian_in_leaf=0.001\n",
      "[LightGBM] [Warning] min_data_in_leaf is set=996, min_child_samples=20 will be ignored. Current value: min_data_in_leaf=996\n",
      "[LightGBM] [Warning] min_gain_to_split is set=0.0, min_split_gain=0.0 will be ignored. Current value: min_gain_to_split=0.0\n",
      "[LightGBM] [Warning] bagging_fraction is set=1.0, subsample=1.0 will be ignored. Current value: bagging_fraction=1.0\n",
      "[LightGBM] [Warning] lambda_l1 is set=0.0, reg_alpha=0.0 will be ignored. Current value: lambda_l1=0.0\n",
      "[LightGBM] [Warning] feature_fraction is set=0.22551186936103967, colsample_bytree=1.0 will be ignored. Current value: feature_fraction=0.22551186936103967\n",
      "[LightGBM] [Warning] lambda_l2 is set=0.0, reg_lambda=0.0 will be ignored. Current value: lambda_l2=0.0\n",
      "[LightGBM] [Warning] min_sum_hessian_in_leaf is set=0.001, min_child_weight=0.001 will be ignored. Current value: min_sum_hessian_in_leaf=0.001\n",
      "[LightGBM] [Warning] min_data_in_leaf is set=996, min_child_samples=20 will be ignored. Current value: min_data_in_leaf=996\n",
      "[LightGBM] [Warning] min_gain_to_split is set=0.0, min_split_gain=0.0 will be ignored. Current value: min_gain_to_split=0.0\n",
      "[LightGBM] [Warning] bagging_fraction is set=1.0, subsample=1.0 will be ignored. Current value: bagging_fraction=1.0\n",
      "[LightGBM] [Warning] lambda_l1 is set=0.0, reg_alpha=0.0 will be ignored. Current value: lambda_l1=0.0\n"
     ]
    },
    {
     "name": "stderr",
     "output_type": "stream",
     "text": [
      "\u001b[32m[I 2023-05-23 00:42:13,074]\u001b[0m Trial 10 finished with value: 0.9238793524609963 and parameters: {'learning_rate': 0.29889737558768287, 'feature_fraction': 0.22551186936103967, 'num_leaves': 7, 'min_data_in_leaf': 996}. Best is trial 10 with value: 0.9238793524609963.\u001b[0m\n"
     ]
    },
    {
     "name": "stdout",
     "output_type": "stream",
     "text": [
      "[LightGBM] [Warning] feature_fraction is set=0.23443727612654666, colsample_bytree=1.0 will be ignored. Current value: feature_fraction=0.23443727612654666\n",
      "[LightGBM] [Warning] lambda_l2 is set=0.0, reg_lambda=0.0 will be ignored. Current value: lambda_l2=0.0\n",
      "[LightGBM] [Warning] min_sum_hessian_in_leaf is set=0.001, min_child_weight=0.001 will be ignored. Current value: min_sum_hessian_in_leaf=0.001\n",
      "[LightGBM] [Warning] min_data_in_leaf is set=174, min_child_samples=20 will be ignored. Current value: min_data_in_leaf=174\n",
      "[LightGBM] [Warning] min_gain_to_split is set=0.0, min_split_gain=0.0 will be ignored. Current value: min_gain_to_split=0.0\n",
      "[LightGBM] [Warning] bagging_fraction is set=1.0, subsample=1.0 will be ignored. Current value: bagging_fraction=1.0\n",
      "[LightGBM] [Warning] lambda_l1 is set=0.0, reg_alpha=0.0 will be ignored. Current value: lambda_l1=0.0\n",
      "[LightGBM] [Warning] feature_fraction is set=0.23443727612654666, colsample_bytree=1.0 will be ignored. Current value: feature_fraction=0.23443727612654666\n",
      "[LightGBM] [Warning] lambda_l2 is set=0.0, reg_lambda=0.0 will be ignored. Current value: lambda_l2=0.0\n",
      "[LightGBM] [Warning] min_sum_hessian_in_leaf is set=0.001, min_child_weight=0.001 will be ignored. Current value: min_sum_hessian_in_leaf=0.001\n",
      "[LightGBM] [Warning] min_data_in_leaf is set=174, min_child_samples=20 will be ignored. Current value: min_data_in_leaf=174\n",
      "[LightGBM] [Warning] min_gain_to_split is set=0.0, min_split_gain=0.0 will be ignored. Current value: min_gain_to_split=0.0\n",
      "[LightGBM] [Warning] bagging_fraction is set=1.0, subsample=1.0 will be ignored. Current value: bagging_fraction=1.0\n",
      "[LightGBM] [Warning] lambda_l1 is set=0.0, reg_alpha=0.0 will be ignored. Current value: lambda_l1=0.0\n",
      "[LightGBM] [Warning] feature_fraction is set=0.23443727612654666, colsample_bytree=1.0 will be ignored. Current value: feature_fraction=0.23443727612654666\n",
      "[LightGBM] [Warning] lambda_l2 is set=0.0, reg_lambda=0.0 will be ignored. Current value: lambda_l2=0.0\n",
      "[LightGBM] [Warning] min_sum_hessian_in_leaf is set=0.001, min_child_weight=0.001 will be ignored. Current value: min_sum_hessian_in_leaf=0.001\n",
      "[LightGBM] [Warning] min_data_in_leaf is set=174, min_child_samples=20 will be ignored. Current value: min_data_in_leaf=174\n",
      "[LightGBM] [Warning] min_gain_to_split is set=0.0, min_split_gain=0.0 will be ignored. Current value: min_gain_to_split=0.0\n",
      "[LightGBM] [Warning] bagging_fraction is set=1.0, subsample=1.0 will be ignored. Current value: bagging_fraction=1.0\n",
      "[LightGBM] [Warning] lambda_l1 is set=0.0, reg_alpha=0.0 will be ignored. Current value: lambda_l1=0.0\n"
     ]
    },
    {
     "name": "stderr",
     "output_type": "stream",
     "text": [
      "\u001b[32m[I 2023-05-23 00:42:14,107]\u001b[0m Trial 11 finished with value: 0.9289553965849495 and parameters: {'learning_rate': 0.29493176107058006, 'feature_fraction': 0.23443727612654666, 'num_leaves': 16, 'min_data_in_leaf': 174}. Best is trial 11 with value: 0.9289553965849495.\u001b[0m\n"
     ]
    },
    {
     "name": "stdout",
     "output_type": "stream",
     "text": [
      "[LightGBM] [Warning] feature_fraction is set=0.26574891009386015, colsample_bytree=1.0 will be ignored. Current value: feature_fraction=0.26574891009386015\n",
      "[LightGBM] [Warning] lambda_l2 is set=0.0, reg_lambda=0.0 will be ignored. Current value: lambda_l2=0.0\n",
      "[LightGBM] [Warning] min_sum_hessian_in_leaf is set=0.001, min_child_weight=0.001 will be ignored. Current value: min_sum_hessian_in_leaf=0.001\n",
      "[LightGBM] [Warning] min_data_in_leaf is set=153, min_child_samples=20 will be ignored. Current value: min_data_in_leaf=153\n",
      "[LightGBM] [Warning] min_gain_to_split is set=0.0, min_split_gain=0.0 will be ignored. Current value: min_gain_to_split=0.0\n",
      "[LightGBM] [Warning] bagging_fraction is set=1.0, subsample=1.0 will be ignored. Current value: bagging_fraction=1.0\n",
      "[LightGBM] [Warning] lambda_l1 is set=0.0, reg_alpha=0.0 will be ignored. Current value: lambda_l1=0.0\n",
      "[LightGBM] [Warning] feature_fraction is set=0.26574891009386015, colsample_bytree=1.0 will be ignored. Current value: feature_fraction=0.26574891009386015\n",
      "[LightGBM] [Warning] lambda_l2 is set=0.0, reg_lambda=0.0 will be ignored. Current value: lambda_l2=0.0\n",
      "[LightGBM] [Warning] min_sum_hessian_in_leaf is set=0.001, min_child_weight=0.001 will be ignored. Current value: min_sum_hessian_in_leaf=0.001\n",
      "[LightGBM] [Warning] min_data_in_leaf is set=153, min_child_samples=20 will be ignored. Current value: min_data_in_leaf=153\n",
      "[LightGBM] [Warning] min_gain_to_split is set=0.0, min_split_gain=0.0 will be ignored. Current value: min_gain_to_split=0.0\n",
      "[LightGBM] [Warning] bagging_fraction is set=1.0, subsample=1.0 will be ignored. Current value: bagging_fraction=1.0\n",
      "[LightGBM] [Warning] lambda_l1 is set=0.0, reg_alpha=0.0 will be ignored. Current value: lambda_l1=0.0\n",
      "[LightGBM] [Warning] feature_fraction is set=0.26574891009386015, colsample_bytree=1.0 will be ignored. Current value: feature_fraction=0.26574891009386015\n",
      "[LightGBM] [Warning] lambda_l2 is set=0.0, reg_lambda=0.0 will be ignored. Current value: lambda_l2=0.0\n",
      "[LightGBM] [Warning] min_sum_hessian_in_leaf is set=0.001, min_child_weight=0.001 will be ignored. Current value: min_sum_hessian_in_leaf=0.001\n",
      "[LightGBM] [Warning] min_data_in_leaf is set=153, min_child_samples=20 will be ignored. Current value: min_data_in_leaf=153\n",
      "[LightGBM] [Warning] min_gain_to_split is set=0.0, min_split_gain=0.0 will be ignored. Current value: min_gain_to_split=0.0\n",
      "[LightGBM] [Warning] bagging_fraction is set=1.0, subsample=1.0 will be ignored. Current value: bagging_fraction=1.0\n",
      "[LightGBM] [Warning] lambda_l1 is set=0.0, reg_alpha=0.0 will be ignored. Current value: lambda_l1=0.0\n"
     ]
    },
    {
     "name": "stderr",
     "output_type": "stream",
     "text": [
      "\u001b[32m[I 2023-05-23 00:42:15,490]\u001b[0m Trial 12 finished with value: 0.9295138382117402 and parameters: {'learning_rate': 0.29627269707329484, 'feature_fraction': 0.26574891009386015, 'num_leaves': 33, 'min_data_in_leaf': 153}. Best is trial 12 with value: 0.9295138382117402.\u001b[0m\n"
     ]
    },
    {
     "name": "stdout",
     "output_type": "stream",
     "text": [
      "[LightGBM] [Warning] feature_fraction is set=0.26783670999220627, colsample_bytree=1.0 will be ignored. Current value: feature_fraction=0.26783670999220627\n",
      "[LightGBM] [Warning] lambda_l2 is set=0.0, reg_lambda=0.0 will be ignored. Current value: lambda_l2=0.0\n",
      "[LightGBM] [Warning] min_sum_hessian_in_leaf is set=0.001, min_child_weight=0.001 will be ignored. Current value: min_sum_hessian_in_leaf=0.001\n",
      "[LightGBM] [Warning] min_data_in_leaf is set=4102, min_child_samples=20 will be ignored. Current value: min_data_in_leaf=4102\n",
      "[LightGBM] [Warning] min_gain_to_split is set=0.0, min_split_gain=0.0 will be ignored. Current value: min_gain_to_split=0.0\n",
      "[LightGBM] [Warning] bagging_fraction is set=1.0, subsample=1.0 will be ignored. Current value: bagging_fraction=1.0\n",
      "[LightGBM] [Warning] lambda_l1 is set=0.0, reg_alpha=0.0 will be ignored. Current value: lambda_l1=0.0\n",
      "[LightGBM] [Warning] feature_fraction is set=0.26783670999220627, colsample_bytree=1.0 will be ignored. Current value: feature_fraction=0.26783670999220627\n",
      "[LightGBM] [Warning] lambda_l2 is set=0.0, reg_lambda=0.0 will be ignored. Current value: lambda_l2=0.0\n",
      "[LightGBM] [Warning] min_sum_hessian_in_leaf is set=0.001, min_child_weight=0.001 will be ignored. Current value: min_sum_hessian_in_leaf=0.001\n",
      "[LightGBM] [Warning] min_data_in_leaf is set=4102, min_child_samples=20 will be ignored. Current value: min_data_in_leaf=4102\n",
      "[LightGBM] [Warning] min_gain_to_split is set=0.0, min_split_gain=0.0 will be ignored. Current value: min_gain_to_split=0.0\n",
      "[LightGBM] [Warning] bagging_fraction is set=1.0, subsample=1.0 will be ignored. Current value: bagging_fraction=1.0\n",
      "[LightGBM] [Warning] lambda_l1 is set=0.0, reg_alpha=0.0 will be ignored. Current value: lambda_l1=0.0\n",
      "[LightGBM] [Warning] feature_fraction is set=0.26783670999220627, colsample_bytree=1.0 will be ignored. Current value: feature_fraction=0.26783670999220627\n",
      "[LightGBM] [Warning] lambda_l2 is set=0.0, reg_lambda=0.0 will be ignored. Current value: lambda_l2=0.0\n",
      "[LightGBM] [Warning] min_sum_hessian_in_leaf is set=0.001, min_child_weight=0.001 will be ignored. Current value: min_sum_hessian_in_leaf=0.001\n",
      "[LightGBM] [Warning] min_data_in_leaf is set=4102, min_child_samples=20 will be ignored. Current value: min_data_in_leaf=4102\n",
      "[LightGBM] [Warning] min_gain_to_split is set=0.0, min_split_gain=0.0 will be ignored. Current value: min_gain_to_split=0.0\n",
      "[LightGBM] [Warning] bagging_fraction is set=1.0, subsample=1.0 will be ignored. Current value: bagging_fraction=1.0\n",
      "[LightGBM] [Warning] lambda_l1 is set=0.0, reg_alpha=0.0 will be ignored. Current value: lambda_l1=0.0\n"
     ]
    },
    {
     "name": "stderr",
     "output_type": "stream",
     "text": [
      "\u001b[32m[I 2023-05-23 00:42:16,362]\u001b[0m Trial 13 finished with value: 0.9065374835521779 and parameters: {'learning_rate': 0.2997016398723544, 'feature_fraction': 0.26783670999220627, 'num_leaves': 186, 'min_data_in_leaf': 4102}. Best is trial 12 with value: 0.9295138382117402.\u001b[0m\n"
     ]
    },
    {
     "name": "stdout",
     "output_type": "stream",
     "text": [
      "[LightGBM] [Warning] feature_fraction is set=0.274008882354274, colsample_bytree=1.0 will be ignored. Current value: feature_fraction=0.274008882354274\n",
      "[LightGBM] [Warning] lambda_l2 is set=0.0, reg_lambda=0.0 will be ignored. Current value: lambda_l2=0.0\n",
      "[LightGBM] [Warning] min_sum_hessian_in_leaf is set=0.001, min_child_weight=0.001 will be ignored. Current value: min_sum_hessian_in_leaf=0.001\n",
      "[LightGBM] [Warning] min_data_in_leaf is set=1690, min_child_samples=20 will be ignored. Current value: min_data_in_leaf=1690\n",
      "[LightGBM] [Warning] min_gain_to_split is set=0.0, min_split_gain=0.0 will be ignored. Current value: min_gain_to_split=0.0\n",
      "[LightGBM] [Warning] bagging_fraction is set=1.0, subsample=1.0 will be ignored. Current value: bagging_fraction=1.0\n",
      "[LightGBM] [Warning] lambda_l1 is set=0.0, reg_alpha=0.0 will be ignored. Current value: lambda_l1=0.0\n",
      "[LightGBM] [Warning] feature_fraction is set=0.274008882354274, colsample_bytree=1.0 will be ignored. Current value: feature_fraction=0.274008882354274\n",
      "[LightGBM] [Warning] lambda_l2 is set=0.0, reg_lambda=0.0 will be ignored. Current value: lambda_l2=0.0\n",
      "[LightGBM] [Warning] min_sum_hessian_in_leaf is set=0.001, min_child_weight=0.001 will be ignored. Current value: min_sum_hessian_in_leaf=0.001\n",
      "[LightGBM] [Warning] min_data_in_leaf is set=1690, min_child_samples=20 will be ignored. Current value: min_data_in_leaf=1690\n",
      "[LightGBM] [Warning] min_gain_to_split is set=0.0, min_split_gain=0.0 will be ignored. Current value: min_gain_to_split=0.0\n",
      "[LightGBM] [Warning] bagging_fraction is set=1.0, subsample=1.0 will be ignored. Current value: bagging_fraction=1.0\n",
      "[LightGBM] [Warning] lambda_l1 is set=0.0, reg_alpha=0.0 will be ignored. Current value: lambda_l1=0.0\n"
     ]
    }
   ],
   "source": [
    "datasets = [dataset_1, dataset_2,dataset_3,dataset_4,dataset_5,dataset_6,dataset_7,dataset_8,dataset_9,dataset_10,dataset_11]\n",
    "results = []\n",
    "\n",
    "for i, dataset in enumerate(datasets, start=1):\n",
    "    result = experiments(dataset, y_train, X_test, y_test, seeds, n_trials=50)\n",
    "    result.to_csv(f'../../buckets/b1/exp/results_exp/exp_seeds_{i}.csv')\n",
    "    results.append(result)"
   ]
  },
  {
   "cell_type": "code",
   "execution_count": 48,
   "id": "edb07609-324b-4f13-a0fd-08c93b4cace0",
   "metadata": {
    "tags": []
   },
   "outputs": [
    {
     "data": {
      "text/html": [
       "<div>\n",
       "<style scoped>\n",
       "    .dataframe tbody tr th:only-of-type {\n",
       "        vertical-align: middle;\n",
       "    }\n",
       "\n",
       "    .dataframe tbody tr th {\n",
       "        vertical-align: top;\n",
       "    }\n",
       "\n",
       "    .dataframe thead th {\n",
       "        text-align: right;\n",
       "    }\n",
       "</style>\n",
       "<table border=\"1\" class=\"dataframe\">\n",
       "  <thead>\n",
       "    <tr style=\"text-align: right;\">\n",
       "      <th></th>\n",
       "      <th>seed</th>\n",
       "      <th>model</th>\n",
       "      <th>training_time</th>\n",
       "      <th>f1_score</th>\n",
       "      <th>mcc</th>\n",
       "      <th>auc</th>\n",
       "      <th>ganancia_custom</th>\n",
       "    </tr>\n",
       "  </thead>\n",
       "  <tbody>\n",
       "    <tr>\n",
       "      <th>0</th>\n",
       "      <td>677213</td>\n",
       "      <td>LightGBM HPO</td>\n",
       "      <td>3.700269</td>\n",
       "      <td>0.013718</td>\n",
       "      <td>-0.016869</td>\n",
       "      <td>0.525293</td>\n",
       "      <td>[-12252000, -14880000, -17208000, -19683000, -...</td>\n",
       "    </tr>\n",
       "    <tr>\n",
       "      <th>1</th>\n",
       "      <td>677213</td>\n",
       "      <td>ExtraTreesDefault</td>\n",
       "      <td>0.604618</td>\n",
       "      <td>0.038049</td>\n",
       "      <td>0.020715</td>\n",
       "      <td>0.582855</td>\n",
       "      <td>[-6594000, -6594000, -9942000, -9942000, -1381...</td>\n",
       "    </tr>\n",
       "    <tr>\n",
       "      <th>2</th>\n",
       "      <td>677213</td>\n",
       "      <td>RandomForestDefault</td>\n",
       "      <td>1.094883</td>\n",
       "      <td>0.039401</td>\n",
       "      <td>0.022939</td>\n",
       "      <td>0.646106</td>\n",
       "      <td>[-10401000, -10401000, -16665000, -16665000, -...</td>\n",
       "    </tr>\n",
       "  </tbody>\n",
       "</table>\n",
       "</div>"
      ],
      "text/plain": [
       "     seed                model  training_time  f1_score       mcc       auc   \n",
       "0  677213         LightGBM HPO       3.700269  0.013718 -0.016869  0.525293  \\\n",
       "1  677213    ExtraTreesDefault       0.604618  0.038049  0.020715  0.582855   \n",
       "2  677213  RandomForestDefault       1.094883  0.039401  0.022939  0.646106   \n",
       "\n",
       "                                     ganancia_custom  \n",
       "0  [-12252000, -14880000, -17208000, -19683000, -...  \n",
       "1  [-6594000, -6594000, -9942000, -9942000, -1381...  \n",
       "2  [-10401000, -10401000, -16665000, -16665000, -...  "
      ]
     },
     "execution_count": 48,
     "metadata": {},
     "output_type": "execute_result"
    }
   ],
   "source": [
    "results[0]"
   ]
  }
 ],
 "metadata": {
  "kernelspec": {
   "display_name": "Python 3 (ipykernel)",
   "language": "python",
   "name": "python3"
  },
  "language_info": {
   "codemirror_mode": {
    "name": "ipython",
    "version": 3
   },
   "file_extension": ".py",
   "mimetype": "text/x-python",
   "name": "python",
   "nbconvert_exporter": "python",
   "pygments_lexer": "ipython3",
   "version": "3.10.7"
  }
 },
 "nbformat": 4,
 "nbformat_minor": 5
}
