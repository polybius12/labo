{
 "cells": [
  {
   "cell_type": "code",
   "execution_count": 1,
   "id": "916bbc6c",
   "metadata": {
    "tags": []
   },
   "outputs": [],
   "source": [
    "import pandas as pd"
   ]
  },
  {
   "cell_type": "code",
   "execution_count": 4,
   "id": "bf10630b-a3e5-4909-989a-edd1d5401c84",
   "metadata": {
    "tags": []
   },
   "outputs": [
    {
     "data": {
      "text/plain": [
       "'/home/estebanelia/labo/experiments'"
      ]
     },
     "execution_count": 4,
     "metadata": {},
     "output_type": "execute_result"
    }
   ],
   "source": [
    "pwd"
   ]
  },
  {
   "cell_type": "code",
   "execution_count": 6,
   "id": "fc53bdb0",
   "metadata": {
    "tags": []
   },
   "outputs": [],
   "source": [
    "df = pd.read_csv('../../buckets/b1/exp/downsampled_dataset_final.csv')\n",
    "df.drop(columns=['azar'], inplace=True)"
   ]
  },
  {
   "cell_type": "code",
   "execution_count": 7,
   "id": "9b636889",
   "metadata": {
    "tags": []
   },
   "outputs": [],
   "source": [
    "train_data = df[df['fold_train'] ==1]\n",
    "valid_data = df[df['fold_validate'] ==1]\n",
    "test_data = df[df['fold_test'] ==1]"
   ]
  },
  {
   "cell_type": "code",
   "execution_count": 8,
   "id": "0d9a9a27",
   "metadata": {
    "tags": []
   },
   "outputs": [
    {
     "data": {
      "text/plain": [
       "clase_ternaria\n",
       "0    14042\n",
       "2     7219\n",
       "1     6823\n",
       "Name: count, dtype: int64"
      ]
     },
     "execution_count": 8,
     "metadata": {},
     "output_type": "execute_result"
    }
   ],
   "source": [
    "train_data['clase_ternaria'].value_counts()"
   ]
  },
  {
   "cell_type": "code",
   "execution_count": 22,
   "id": "0d5aad12",
   "metadata": {
    "tags": []
   },
   "outputs": [],
   "source": [
    "import random\n",
    "import pandas as pd\n",
    "\n",
    "import time\n",
    "import lightgbm as lgb\n",
    "import optuna\n",
    "import pandas as pd\n",
    "import numpy as np\n",
    "from sklearn.model_selection import StratifiedKFold, cross_val_score\n",
    "from sklearn.ensemble import ExtraTreesClassifier\n",
    "from lightgbm import LGBMClassifier\n",
    "from sklearn.metrics import f1_score, matthews_corrcoef, roc_auc_score\n",
    "from sklearn.metrics import make_scorer\n",
    "from sklearn.model_selection import train_test_split\n",
    "from sklearn.impute import SimpleImputer\n",
    "\n",
    "\n",
    "def rolling_window_df(df, window_size=0.3, step_size=0.10, max_datasets=6):\n",
    "    num_cols = len(df.columns)\n",
    "    window_cols = int(num_cols * window_size)\n",
    "    step_cols = int(num_cols * step_size)\n",
    "    \n",
    "    result = []\n",
    "    \n",
    "    for start_col in range(0, num_cols, step_cols):\n",
    "        if max_datasets and len(result) >= max_datasets:\n",
    "            break\n",
    "            \n",
    "        end_col = start_col + window_cols\n",
    "        if end_col > num_cols:\n",
    "            break\n",
    "            \n",
    "        result.append(df.iloc[:, start_col:end_col])        \n",
    "    return result\n",
    "\n",
    "\n",
    "def lgb_objective(trial, X_train, y_train):\n",
    "    params = {\n",
    "        'boosting_type': 'gbdt',\n",
    "        'objective': 'binary',\n",
    "        'metric': 'custom',\n",
    "        'first_metric_only': True,\n",
    "        'boost_from_average': True,\n",
    "        'feature_pre_filter': False,\n",
    "        'force_row_wise': True,\n",
    "        'verbosity': -100,\n",
    "        'max_depth': -1,\n",
    "        'min_gain_to_split': 0.0,\n",
    "        'min_sum_hessian_in_leaf': 0.001,\n",
    "        'lambda_l1': 0.0,\n",
    "        'lambda_l2': 0.0,\n",
    "        'max_bin': 31,\n",
    "        #'num_iterations': 9999,\n",
    "        'bagging_fraction': 1.0,\n",
    "        'pos_bagging_fraction': 1.0,\n",
    "        'neg_bagging_fraction': 1.0,\n",
    "        'is_unbalance': False,\n",
    "        'scale_pos_weight': 1.0,\n",
    "        'drop_rate': 0.1,\n",
    "        'max_drop': 50,\n",
    "        'skip_drop': 0.5,\n",
    "        'extra_trees': True,\n",
    "        'learning_rate': trial.suggest_float('learning_rate', 0.01, 0.3),\n",
    "        'feature_fraction': trial.suggest_float('feature_fraction', 0.01, 1.0),\n",
    "        'num_leaves': trial.suggest_int('num_leaves', 4, 1024),\n",
    "        'min_data_in_leaf': trial.suggest_int('min_data_in_leaf', 1, 50000),\n",
    "    }\n",
    "    scores = cross_val_score(lgb.LGBMClassifier(**params), X_train, y_train, cv=3, scoring='roc_auc')\n",
    "    return scores.mean()\n",
    "\n",
    "def etc_objective(trial, X_train, y_train):\n",
    "    params = {\n",
    "        'n_estimators': trial.suggest_int('n_estimators', 50, 500),\n",
    "        'max_depth': trial.suggest_int('max_depth', 2, 32),\n",
    "        'min_samples_split': trial.suggest_int('min_samples_split', 2, 15),\n",
    "        'min_samples_leaf': trial.suggest_int('min_samples_leaf', 1, 15),\n",
    "        'max_features': trial.suggest_float('max_features', 0.1, 1.0),\n",
    "    }\n",
    "    scores = cross_val_score(ExtraTreesClassifier(**params), X_train, y_train, cv=3, scoring='roc_auc')\n",
    "    return scores.mean()\n",
    "\n",
    "def experiments(X_train, y_train, X_test, y_test, seeds, n_trials=1, n_top = 12000):\n",
    "    results_df = pd.DataFrame(columns=['seed', 'model', 'training_time', 'f1_score', 'mcc', 'auc', 'ganancia_custom'])\n",
    "    imputer = SimpleImputer(strategy='mean')   \n",
    "    \n",
    "    y_test_baja = y_test.copy()\n",
    "    y_train = y_train.replace({2:1})      \n",
    "    y_test = y_test.replace({2:1})\n",
    "    \n",
    "    X_test = X_test[X_train.columns]    \n",
    "\n",
    "    for seed in seeds:    \n",
    "        np.random.seed(seed)\n",
    "        print(f'Experiment with seed {seed}')    \n",
    "\n",
    "        start_time = time.time()\n",
    "        lgb_study = optuna.create_study(direction='maximize')\n",
    "        lgb_study.optimize(lambda trial: lgb_objective(trial, X_train, y_train), n_trials=n_trials)\n",
    "        lgb_model = lgb.LGBMClassifier(**lgb_study.best_params)\n",
    "        lgb_model.fit(X_train, y_train)\n",
    "        training_time = time.time() - start_time     \n",
    "\n",
    "        y_pred_proba = lgb_model.predict_proba(X_test)[:, 1]\n",
    "        threshold = np.sort(y_pred_proba)[-n_top]\n",
    "        y_pred = (y_pred_proba >= threshold).astype(int)\n",
    "\n",
    "        results = pd.DataFrame({\n",
    "            'seed': [seed],\n",
    "            'model': ['LightGBM'],\n",
    "            'training_time': [training_time],\n",
    "            'f1_score': [f1_score(y_test, y_pred)],\n",
    "            'mcc': [matthews_corrcoef(y_test, y_pred)],\n",
    "            'auc': [roc_auc_score(y_test, y_pred_proba)],\n",
    "            'ganancia_custom': [ganancia_custom(y_test_baja, y_pred)]\n",
    "        })\n",
    "\n",
    "        results_df = pd.concat([results_df, results], ignore_index=True)\n",
    "        \n",
    "        X_train = imputer.fit_transform(X_train)\n",
    "        X_test = imputer.transform(X_test)\n",
    "\n",
    "        start_time = time.time()\n",
    "        etc_model_default = ExtraTreesClassifier(random_state=seed,n_jobs=-1)\n",
    "        etc_model_default.fit(X_train, y_train)\n",
    "        training_time = time.time() - start_time\n",
    "\n",
    "        y_pred_proba = etc_model_default.predict_proba(X_test)[:, 1]\n",
    "        threshold = np.sort(y_pred_proba)[-n_top]\n",
    "        y_pred = (y_pred_proba >= threshold).astype(int)\n",
    "\n",
    "        results = pd.DataFrame({\n",
    "            'seed': [seed],\n",
    "            'model': ['ExtraTreesDefault'],\n",
    "            'training_time': [training_time],\n",
    "            'f1_score': [f1_score(y_test, y_pred)],\n",
    "            'mcc': [matthews_corrcoef(y_test, y_pred)],\n",
    "            'auc': [roc_auc_score(y_test, y_pred_proba)],\n",
    "            'ganancia_custom': [ganancia_custom(y_test_baja, y_pred)]\n",
    "        })      \n",
    "        results_df = pd.concat([results_df, results], ignore_index=True)   \n",
    "\n",
    "        \n",
    "        start_time = time.time()\n",
    "        etc_study = optuna.create_study(direction='maximize')\n",
    "        etc_study.optimize(lambda trial: etc_objective(trial, X_train, y_train), n_trials=n_trials)\n",
    "        etc_model = ExtraTreesClassifier(n_jobs=-1, **etc_study.best_params)\n",
    "        etc_model.fit(X_train, y_train)\n",
    "        training_time = time.time() - start_time\n",
    "\n",
    "        y_pred_proba = etc_model.predict_proba(X_test)[:, 1]\n",
    "        threshold = np.sort(y_pred_proba)[-n_top]\n",
    "        y_pred = (y_pred_proba >= threshold).astype(int)\n",
    "\n",
    "        results = pd.DataFrame({\n",
    "            'seed': [seed],\n",
    "            'model': ['ExtraTreesOptimized'],\n",
    "            'training_time': [training_time],\n",
    "            'f1_score': [f1_score(y_test, y_pred)],\n",
    "            'mcc': [matthews_corrcoef(y_test, y_pred)],\n",
    "            'auc': [roc_auc_score(y_test, y_pred_proba)],\n",
    "            'ganancia_custom': [ganancia_custom(y_test_baja, y_pred)]\n",
    "        })\n",
    "        results_df = pd.concat([results_df, results], ignore_index=True)   \n",
    "    return results_df"
   ]
  },
  {
   "cell_type": "code",
   "execution_count": 14,
   "id": "0fb8cd53",
   "metadata": {
    "tags": []
   },
   "outputs": [],
   "source": [
    "X_valid = valid_data.drop(columns='clase_ternaria')\n",
    "y_valid = valid_data['clase_ternaria']\n",
    "\n",
    "X_test = test_data.drop(columns='clase_ternaria')\n",
    "y_test = test_data['clase_ternaria']\n",
    "\n",
    "X_train = train_data.drop(columns='clase_ternaria')\n",
    "y_train = train_data['clase_ternaria']"
   ]
  },
  {
   "cell_type": "markdown",
   "id": "bc07b242",
   "metadata": {
    "execution": {
     "iopub.execute_input": "2023-05-19T15:23:38.618257Z",
     "iopub.status.busy": "2023-05-19T15:23:38.617897Z",
     "iopub.status.idle": "2023-05-19T15:23:38.623275Z",
     "shell.execute_reply": "2023-05-19T15:23:38.622214Z",
     "shell.execute_reply.started": "2023-05-19T15:23:38.618227Z"
    },
    "tags": []
   },
   "source": [
    "## get feature importance"
   ]
  },
  {
   "cell_type": "code",
   "execution_count": 15,
   "id": "2466f1fb",
   "metadata": {
    "tags": []
   },
   "outputs": [],
   "source": [
    "lgbm_model = LGBMClassifier()\n",
    "lgbm_model.fit(X_train, y_train)\n",
    "importances_lgbm = lgbm_model.feature_importances_\n",
    "feature_importances_df = pd.DataFrame({'feature': X_train.columns, 'importance': importances_lgbm})\n",
    "feature_importances_df.sort_values('importance', ascending=False, inplace=True)\n",
    "X_train.columns = feature_importances_df['feature'].values"
   ]
  },
  {
   "cell_type": "markdown",
   "id": "00928bd8",
   "metadata": {
    "tags": []
   },
   "source": [
    "## build datasets"
   ]
  },
  {
   "cell_type": "code",
   "execution_count": 16,
   "id": "9457bd0e",
   "metadata": {
    "tags": []
   },
   "outputs": [],
   "source": [
    "## datasets\n",
    "dataset_1 = X_train.iloc[:,:int(X_train.shape[1]*0.3)]\n",
    "dataset_2 = X_train.iloc[:,int(X_train.shape[1]*0.6):]\n",
    "dataset_3 = X_train[random.sample(X_train.columns.to_list(), k=int(X_train.shape[1]*0.3))]\n",
    "\n",
    "dataset_rolling = rolling_window_df(X_train)\n",
    "dataset_4 = dataset_rolling[1]\n",
    "dataset_5 = dataset_rolling[2]\n",
    "dataset_6 = dataset_rolling[3]\n",
    "dataset_7 = dataset_rolling[4]\n",
    "dataset_8 = dataset_rolling[5]\n",
    "\n",
    "dataset_9 = pd.concat([X_train.iloc[:,:int(X_train.shape[1]*0.15)],X_train.iloc[:,int(X_train.shape[1]*0.85):]])\n",
    "dataset_10 = X_train[list(set(X_train.columns) - set(dataset_9.columns))]"
   ]
  },
  {
   "cell_type": "markdown",
   "id": "cc59cd21",
   "metadata": {},
   "source": [
    "# experiments"
   ]
  },
  {
   "cell_type": "code",
   "execution_count": 17,
   "id": "f0c6d5d8",
   "metadata": {
    "tags": []
   },
   "outputs": [],
   "source": [
    "import numpy as np\n",
    "\n",
    "def ganancia_custom(y_true, y_pred):\n",
    "    # y_pred == 1 means we predict the positive class\n",
    "    # Now we assign a gain/cost to each prediction\n",
    "    conditions = [\n",
    "        (y_pred == 1) & (y_true == 2),  # add 117000\n",
    "        (y_pred == 1) & (y_true != 2),  # subtract 3000\n",
    "        (y_pred == 0)  # add 0\n",
    "    ]\n",
    "    choices = [117000, -3000, 0]\n",
    "    gan = np.select(conditions, choices)\n",
    "    # Then we calculate the total gain\n",
    "    total_gan = np.sum(gan)\n",
    "    return total_gan"
   ]
  },
  {
   "cell_type": "code",
   "execution_count": 18,
   "id": "9d7da7dd",
   "metadata": {
    "tags": []
   },
   "outputs": [],
   "source": [
    "seeds = [677213, 727817,311237, 660719, 106427]"
   ]
  },
  {
   "cell_type": "code",
   "execution_count": null,
   "id": "cdbef0e6-89cf-4cca-939a-97f560d24315",
   "metadata": {
    "tags": []
   },
   "outputs": [
    {
     "name": "stderr",
     "output_type": "stream",
     "text": [
      "\u001b[32m[I 2023-05-20 03:37:22,335]\u001b[0m A new study created in memory with name: no-name-b854c645-d2e2-4bf1-af5c-6dbaa194d266\u001b[0m\n"
     ]
    },
    {
     "name": "stdout",
     "output_type": "stream",
     "text": [
      "Experiment with seed 677213\n",
      "[LightGBM] [Warning] feature_fraction is set=0.6033594576917648, colsample_bytree=1.0 will be ignored. Current value: feature_fraction=0.6033594576917648\n",
      "[LightGBM] [Warning] lambda_l2 is set=0.0, reg_lambda=0.0 will be ignored. Current value: lambda_l2=0.0\n",
      "[LightGBM] [Warning] min_sum_hessian_in_leaf is set=0.001, min_child_weight=0.001 will be ignored. Current value: min_sum_hessian_in_leaf=0.001\n",
      "[LightGBM] [Warning] min_data_in_leaf is set=24759, min_child_samples=20 will be ignored. Current value: min_data_in_leaf=24759\n",
      "[LightGBM] [Warning] min_gain_to_split is set=0.0, min_split_gain=0.0 will be ignored. Current value: min_gain_to_split=0.0\n",
      "[LightGBM] [Warning] bagging_fraction is set=1.0, subsample=1.0 will be ignored. Current value: bagging_fraction=1.0\n",
      "[LightGBM] [Warning] lambda_l1 is set=0.0, reg_alpha=0.0 will be ignored. Current value: lambda_l1=0.0\n",
      "[LightGBM] [Warning] feature_fraction is set=0.6033594576917648, colsample_bytree=1.0 will be ignored. Current value: feature_fraction=0.6033594576917648\n",
      "[LightGBM] [Warning] lambda_l2 is set=0.0, reg_lambda=0.0 will be ignored. Current value: lambda_l2=0.0\n",
      "[LightGBM] [Warning] min_sum_hessian_in_leaf is set=0.001, min_child_weight=0.001 will be ignored. Current value: min_sum_hessian_in_leaf=0.001\n",
      "[LightGBM] [Warning] min_data_in_leaf is set=24759, min_child_samples=20 will be ignored. Current value: min_data_in_leaf=24759\n",
      "[LightGBM] [Warning] min_gain_to_split is set=0.0, min_split_gain=0.0 will be ignored. Current value: min_gain_to_split=0.0\n",
      "[LightGBM] [Warning] bagging_fraction is set=1.0, subsample=1.0 will be ignored. Current value: bagging_fraction=1.0\n",
      "[LightGBM] [Warning] lambda_l1 is set=0.0, reg_alpha=0.0 will be ignored. Current value: lambda_l1=0.0\n"
     ]
    },
    {
     "name": "stderr",
     "output_type": "stream",
     "text": [
      "\u001b[32m[I 2023-05-20 03:37:23,017]\u001b[0m Trial 0 finished with value: 0.5 and parameters: {'learning_rate': 0.2703421520642212, 'feature_fraction': 0.6033594576917648, 'num_leaves': 540, 'min_data_in_leaf': 24759}. Best is trial 0 with value: 0.5.\u001b[0m\n"
     ]
    },
    {
     "name": "stdout",
     "output_type": "stream",
     "text": [
      "[LightGBM] [Warning] feature_fraction is set=0.6033594576917648, colsample_bytree=1.0 will be ignored. Current value: feature_fraction=0.6033594576917648\n",
      "[LightGBM] [Warning] lambda_l2 is set=0.0, reg_lambda=0.0 will be ignored. Current value: lambda_l2=0.0\n",
      "[LightGBM] [Warning] min_sum_hessian_in_leaf is set=0.001, min_child_weight=0.001 will be ignored. Current value: min_sum_hessian_in_leaf=0.001\n",
      "[LightGBM] [Warning] min_data_in_leaf is set=24759, min_child_samples=20 will be ignored. Current value: min_data_in_leaf=24759\n",
      "[LightGBM] [Warning] min_gain_to_split is set=0.0, min_split_gain=0.0 will be ignored. Current value: min_gain_to_split=0.0\n",
      "[LightGBM] [Warning] bagging_fraction is set=1.0, subsample=1.0 will be ignored. Current value: bagging_fraction=1.0\n",
      "[LightGBM] [Warning] lambda_l1 is set=0.0, reg_alpha=0.0 will be ignored. Current value: lambda_l1=0.0\n",
      "[LightGBM] [Warning] feature_fraction is set=0.6033594576917648, colsample_bytree=1.0 will be ignored. Current value: feature_fraction=0.6033594576917648\n",
      "[LightGBM] [Warning] min_data_in_leaf is set=24759, min_child_samples=20 will be ignored. Current value: min_data_in_leaf=24759\n"
     ]
    },
    {
     "name": "stderr",
     "output_type": "stream",
     "text": [
      "\u001b[32m[I 2023-05-20 03:37:25,262]\u001b[0m A new study created in memory with name: no-name-fa1bcfa4-ac11-4287-8c85-6956345892b6\u001b[0m\n"
     ]
    }
   ],
   "source": [
    "datasets = [dataset_1, dataset_2]  # replace ... with your actual datasets\n",
    "results = []\n",
    "\n",
    "for i, dataset in enumerate(datasets, start=1):\n",
    "    result = experiments(dataset, y_train, X_test, y_test, seeds, n_trials=1)\n",
    "    results.append(result)\n"
   ]
  },
  {
   "cell_type": "code",
   "execution_count": null,
   "id": "e348ceca-9045-40af-813a-a500e8c7e4bc",
   "metadata": {},
   "outputs": [],
   "source": []
  },
  {
   "cell_type": "code",
   "execution_count": 14,
   "id": "f8d1ae57",
   "metadata": {
    "execution": {
     "iopub.execute_input": "2023-05-20T01:45:23.830184Z",
     "iopub.status.busy": "2023-05-20T01:45:23.829816Z",
     "iopub.status.idle": "2023-05-20T01:46:03.899060Z",
     "shell.execute_reply": "2023-05-20T01:46:03.896988Z",
     "shell.execute_reply.started": "2023-05-20T01:45:23.830152Z"
    },
    "tags": []
   },
   "outputs": [
    {
     "name": "stderr",
     "output_type": "stream",
     "text": [
      "/tmp/ipykernel_31/685582060.py:94: SettingWithCopyWarning: \n",
      "A value is trying to be set on a copy of a slice from a DataFrame\n",
      "\n",
      "See the caveats in the documentation: https://pandas.pydata.org/pandas-docs/stable/user_guide/indexing.html#returning-a-view-versus-a-copy\n",
      "  y_train.loc[:] = y_train.replace({2:1}).copy()\n",
      "/tmp/ipykernel_31/685582060.py:95: SettingWithCopyWarning: \n",
      "A value is trying to be set on a copy of a slice from a DataFrame\n",
      "\n",
      "See the caveats in the documentation: https://pandas.pydata.org/pandas-docs/stable/user_guide/indexing.html#returning-a-view-versus-a-copy\n",
      "  y_test.loc[:] = y_test.replace({2:1}).copy()\n",
      "\u001b[32m[I 2023-05-20 01:45:24,081]\u001b[0m A new study created in memory with name: no-name-a81445d3-112f-4e27-b0a3-a401038e602c\u001b[0m\n"
     ]
    },
    {
     "name": "stdout",
     "output_type": "stream",
     "text": [
      "Experiment with seed 677213\n",
      "[LightGBM] [Warning] feature_fraction is set=0.028591718732675978, colsample_bytree=1.0 will be ignored. Current value: feature_fraction=0.028591718732675978\n",
      "[LightGBM] [Warning] min_data_in_leaf is set=1931, min_child_samples=20 will be ignored. Current value: min_data_in_leaf=1931\n",
      "[LightGBM] [Warning] lambda_l2 is set=0.0, reg_lambda=0.0 will be ignored. Current value: lambda_l2=0.0\n",
      "[LightGBM] [Warning] min_sum_hessian_in_leaf is set=0.001, min_child_weight=0.001 will be ignored. Current value: min_sum_hessian_in_leaf=0.001\n",
      "[LightGBM] [Warning] min_gain_to_split is set=0.0, min_split_gain=0.0 will be ignored. Current value: min_gain_to_split=0.0\n",
      "[LightGBM] [Warning] lambda_l1 is set=0.0, reg_alpha=0.0 will be ignored. Current value: lambda_l1=0.0\n",
      "[LightGBM] [Warning] bagging_fraction is set=1.0, subsample=1.0 will be ignored. Current value: bagging_fraction=1.0\n",
      "[LightGBM] [Warning] feature_fraction is set=0.028591718732675978, colsample_bytree=1.0 will be ignored. Current value: feature_fraction=0.028591718732675978\n",
      "[LightGBM] [Warning] min_data_in_leaf is set=1931, min_child_samples=20 will be ignored. Current value: min_data_in_leaf=1931\n",
      "[LightGBM] [Warning] lambda_l2 is set=0.0, reg_lambda=0.0 will be ignored. Current value: lambda_l2=0.0\n",
      "[LightGBM] [Warning] min_sum_hessian_in_leaf is set=0.001, min_child_weight=0.001 will be ignored. Current value: min_sum_hessian_in_leaf=0.001\n",
      "[LightGBM] [Warning] min_gain_to_split is set=0.0, min_split_gain=0.0 will be ignored. Current value: min_gain_to_split=0.0\n",
      "[LightGBM] [Warning] lambda_l1 is set=0.0, reg_alpha=0.0 will be ignored. Current value: lambda_l1=0.0\n",
      "[LightGBM] [Warning] bagging_fraction is set=1.0, subsample=1.0 will be ignored. Current value: bagging_fraction=1.0\n"
     ]
    },
    {
     "name": "stderr",
     "output_type": "stream",
     "text": [
      "\u001b[32m[I 2023-05-20 01:45:30,851]\u001b[0m Trial 0 finished with value: 0.8892414529964913 and parameters: {'learning_rate': 0.054750556801834806, 'feature_fraction': 0.028591718732675978, 'num_leaves': 129, 'min_data_in_leaf': 1931}. Best is trial 0 with value: 0.8892414529964913.\u001b[0m\n"
     ]
    },
    {
     "name": "stdout",
     "output_type": "stream",
     "text": [
      "[LightGBM] [Warning] min_data_in_leaf is set=1931, min_child_samples=20 will be ignored. Current value: min_data_in_leaf=1931\n",
      "[LightGBM] [Warning] feature_fraction is set=0.028591718732675978, colsample_bytree=1.0 will be ignored. Current value: feature_fraction=0.028591718732675978\n"
     ]
    },
    {
     "name": "stderr",
     "output_type": "stream",
     "text": [
      "/tmp/ipykernel_31/685582060.py:121: FutureWarning: The frame.append method is deprecated and will be removed from pandas in a future version. Use pandas.concat instead.\n",
      "  results_df = results_df.append({\n",
      "/tmp/ipykernel_31/685582060.py:166: FutureWarning: The frame.append method is deprecated and will be removed from pandas in a future version. Use pandas.concat instead.\n",
      "  results_df = results_df.append({\n"
     ]
    }
   ],
   "source": [
    "results_experiment_11 = experiments(X_train, y_train, X_test, y_test, seeds, n_trials = 1)"
   ]
  },
  {
   "cell_type": "code",
   "execution_count": 15,
   "id": "2029de98",
   "metadata": {
    "execution": {
     "iopub.execute_input": "2023-05-20T01:46:03.901131Z",
     "iopub.status.busy": "2023-05-20T01:46:03.900785Z",
     "iopub.status.idle": "2023-05-20T01:46:03.920470Z",
     "shell.execute_reply": "2023-05-20T01:46:03.919160Z",
     "shell.execute_reply.started": "2023-05-20T01:46:03.901098Z"
    }
   },
   "outputs": [
    {
     "data": {
      "text/html": [
       "<div>\n",
       "<style scoped>\n",
       "    .dataframe tbody tr th:only-of-type {\n",
       "        vertical-align: middle;\n",
       "    }\n",
       "\n",
       "    .dataframe tbody tr th {\n",
       "        vertical-align: top;\n",
       "    }\n",
       "\n",
       "    .dataframe thead th {\n",
       "        text-align: right;\n",
       "    }\n",
       "</style>\n",
       "<table border=\"1\" class=\"dataframe\">\n",
       "  <thead>\n",
       "    <tr style=\"text-align: right;\">\n",
       "      <th></th>\n",
       "      <th>seed</th>\n",
       "      <th>model</th>\n",
       "      <th>training_time</th>\n",
       "      <th>f1_score</th>\n",
       "      <th>mcc</th>\n",
       "      <th>auc</th>\n",
       "      <th>ganancia_custom</th>\n",
       "    </tr>\n",
       "  </thead>\n",
       "  <tbody>\n",
       "    <tr>\n",
       "      <th>0</th>\n",
       "      <td>677213</td>\n",
       "      <td>LightGBM</td>\n",
       "      <td>15.996934</td>\n",
       "      <td>0.109347</td>\n",
       "      <td>0.114264</td>\n",
       "      <td>0.792865</td>\n",
       "      <td>16320000</td>\n",
       "    </tr>\n",
       "    <tr>\n",
       "      <th>1</th>\n",
       "      <td>677213</td>\n",
       "      <td>ExtraTreesDefault</td>\n",
       "      <td>16.381230</td>\n",
       "      <td>0.038366</td>\n",
       "      <td>0.020903</td>\n",
       "      <td>0.566335</td>\n",
       "      <td>-19050000</td>\n",
       "    </tr>\n",
       "  </tbody>\n",
       "</table>\n",
       "</div>"
      ],
      "text/plain": [
       "     seed              model  training_time  f1_score       mcc       auc  \\\n",
       "0  677213           LightGBM      15.996934  0.109347  0.114264  0.792865   \n",
       "1  677213  ExtraTreesDefault      16.381230  0.038366  0.020903  0.566335   \n",
       "\n",
       "  ganancia_custom  \n",
       "0        16320000  \n",
       "1       -19050000  "
      ]
     },
     "execution_count": 15,
     "metadata": {},
     "output_type": "execute_result"
    }
   ],
   "source": [
    "results_experiment_11"
   ]
  },
  {
   "cell_type": "code",
   "execution_count": 110,
   "id": "7e438b6a",
   "metadata": {
    "execution": {
     "iopub.execute_input": "2023-05-20T01:31:21.309873Z",
     "iopub.status.busy": "2023-05-20T01:31:21.309083Z",
     "iopub.status.idle": "2023-05-20T01:31:21.326694Z",
     "shell.execute_reply": "2023-05-20T01:31:21.325451Z",
     "shell.execute_reply.started": "2023-05-20T01:31:21.309836Z"
    }
   },
   "outputs": [
    {
     "data": {
      "text/html": [
       "<div>\n",
       "<style scoped>\n",
       "    .dataframe tbody tr th:only-of-type {\n",
       "        vertical-align: middle;\n",
       "    }\n",
       "\n",
       "    .dataframe tbody tr th {\n",
       "        vertical-align: top;\n",
       "    }\n",
       "\n",
       "    .dataframe thead th {\n",
       "        text-align: right;\n",
       "    }\n",
       "</style>\n",
       "<table border=\"1\" class=\"dataframe\">\n",
       "  <thead>\n",
       "    <tr style=\"text-align: right;\">\n",
       "      <th></th>\n",
       "      <th>seed</th>\n",
       "      <th>model</th>\n",
       "      <th>training_time</th>\n",
       "      <th>f1_score</th>\n",
       "      <th>mcc</th>\n",
       "      <th>auc</th>\n",
       "      <th>ganancia_custom</th>\n",
       "    </tr>\n",
       "  </thead>\n",
       "  <tbody>\n",
       "    <tr>\n",
       "      <th>0</th>\n",
       "      <td>677213</td>\n",
       "      <td>LightGBM</td>\n",
       "      <td>10.628186</td>\n",
       "      <td>0.028091</td>\n",
       "      <td>0.000000</td>\n",
       "      <td>0.500000</td>\n",
       "      <td>-494046000</td>\n",
       "    </tr>\n",
       "    <tr>\n",
       "      <th>1</th>\n",
       "      <td>677213</td>\n",
       "      <td>ExtraTreesDefault</td>\n",
       "      <td>17.107150</td>\n",
       "      <td>0.035386</td>\n",
       "      <td>0.060897</td>\n",
       "      <td>0.913337</td>\n",
       "      <td>-388203000</td>\n",
       "    </tr>\n",
       "    <tr>\n",
       "      <th>2</th>\n",
       "      <td>727817</td>\n",
       "      <td>LightGBM</td>\n",
       "      <td>12.019610</td>\n",
       "      <td>0.028091</td>\n",
       "      <td>0.000000</td>\n",
       "      <td>0.500000</td>\n",
       "      <td>-494046000</td>\n",
       "    </tr>\n",
       "    <tr>\n",
       "      <th>3</th>\n",
       "      <td>727817</td>\n",
       "      <td>ExtraTreesDefault</td>\n",
       "      <td>17.147733</td>\n",
       "      <td>0.035342</td>\n",
       "      <td>0.061011</td>\n",
       "      <td>0.913560</td>\n",
       "      <td>-389541000</td>\n",
       "    </tr>\n",
       "    <tr>\n",
       "      <th>4</th>\n",
       "      <td>311237</td>\n",
       "      <td>LightGBM</td>\n",
       "      <td>4.694838</td>\n",
       "      <td>0.028091</td>\n",
       "      <td>0.000000</td>\n",
       "      <td>0.500000</td>\n",
       "      <td>-494046000</td>\n",
       "    </tr>\n",
       "    <tr>\n",
       "      <th>5</th>\n",
       "      <td>311237</td>\n",
       "      <td>ExtraTreesDefault</td>\n",
       "      <td>16.847061</td>\n",
       "      <td>0.034986</td>\n",
       "      <td>0.059342</td>\n",
       "      <td>0.912908</td>\n",
       "      <td>-393234000</td>\n",
       "    </tr>\n",
       "    <tr>\n",
       "      <th>6</th>\n",
       "      <td>660719</td>\n",
       "      <td>LightGBM</td>\n",
       "      <td>4.700524</td>\n",
       "      <td>0.028091</td>\n",
       "      <td>0.000000</td>\n",
       "      <td>0.500000</td>\n",
       "      <td>-494046000</td>\n",
       "    </tr>\n",
       "    <tr>\n",
       "      <th>7</th>\n",
       "      <td>660719</td>\n",
       "      <td>ExtraTreesDefault</td>\n",
       "      <td>17.471278</td>\n",
       "      <td>0.035257</td>\n",
       "      <td>0.060404</td>\n",
       "      <td>0.912641</td>\n",
       "      <td>-389814000</td>\n",
       "    </tr>\n",
       "    <tr>\n",
       "      <th>8</th>\n",
       "      <td>106427</td>\n",
       "      <td>LightGBM</td>\n",
       "      <td>12.008998</td>\n",
       "      <td>0.048822</td>\n",
       "      <td>0.103107</td>\n",
       "      <td>0.917248</td>\n",
       "      <td>-277710000</td>\n",
       "    </tr>\n",
       "    <tr>\n",
       "      <th>9</th>\n",
       "      <td>106427</td>\n",
       "      <td>ExtraTreesDefault</td>\n",
       "      <td>16.484745</td>\n",
       "      <td>0.035452</td>\n",
       "      <td>0.061361</td>\n",
       "      <td>0.912893</td>\n",
       "      <td>-387972000</td>\n",
       "    </tr>\n",
       "  </tbody>\n",
       "</table>\n",
       "</div>"
      ],
      "text/plain": [
       "     seed              model  training_time  f1_score       mcc       auc  \\\n",
       "0  677213           LightGBM      10.628186  0.028091  0.000000  0.500000   \n",
       "1  677213  ExtraTreesDefault      17.107150  0.035386  0.060897  0.913337   \n",
       "2  727817           LightGBM      12.019610  0.028091  0.000000  0.500000   \n",
       "3  727817  ExtraTreesDefault      17.147733  0.035342  0.061011  0.913560   \n",
       "4  311237           LightGBM       4.694838  0.028091  0.000000  0.500000   \n",
       "5  311237  ExtraTreesDefault      16.847061  0.034986  0.059342  0.912908   \n",
       "6  660719           LightGBM       4.700524  0.028091  0.000000  0.500000   \n",
       "7  660719  ExtraTreesDefault      17.471278  0.035257  0.060404  0.912641   \n",
       "8  106427           LightGBM      12.008998  0.048822  0.103107  0.917248   \n",
       "9  106427  ExtraTreesDefault      16.484745  0.035452  0.061361  0.912893   \n",
       "\n",
       "  ganancia_custom  \n",
       "0      -494046000  \n",
       "1      -388203000  \n",
       "2      -494046000  \n",
       "3      -389541000  \n",
       "4      -494046000  \n",
       "5      -393234000  \n",
       "6      -494046000  \n",
       "7      -389814000  \n",
       "8      -277710000  \n",
       "9      -387972000  "
      ]
     },
     "execution_count": 110,
     "metadata": {},
     "output_type": "execute_result"
    }
   ],
   "source": [
    "results_experiment_1"
   ]
  },
  {
   "cell_type": "code",
   "execution_count": 103,
   "id": "a72aa7a3",
   "metadata": {
    "execution": {
     "iopub.execute_input": "2023-05-20T01:24:26.267534Z",
     "iopub.status.busy": "2023-05-20T01:24:26.266789Z",
     "iopub.status.idle": "2023-05-20T01:24:26.285903Z",
     "shell.execute_reply": "2023-05-20T01:24:26.284858Z",
     "shell.execute_reply.started": "2023-05-20T01:24:26.267496Z"
    }
   },
   "outputs": [
    {
     "data": {
      "text/html": [
       "<div>\n",
       "<style scoped>\n",
       "    .dataframe tbody tr th:only-of-type {\n",
       "        vertical-align: middle;\n",
       "    }\n",
       "\n",
       "    .dataframe tbody tr th {\n",
       "        vertical-align: top;\n",
       "    }\n",
       "\n",
       "    .dataframe thead th {\n",
       "        text-align: right;\n",
       "    }\n",
       "</style>\n",
       "<table border=\"1\" class=\"dataframe\">\n",
       "  <thead>\n",
       "    <tr style=\"text-align: right;\">\n",
       "      <th></th>\n",
       "      <th>seed</th>\n",
       "      <th>model</th>\n",
       "      <th>training_time</th>\n",
       "      <th>f1_score</th>\n",
       "      <th>mcc</th>\n",
       "      <th>auc</th>\n",
       "      <th>ganancia_custom</th>\n",
       "    </tr>\n",
       "  </thead>\n",
       "  <tbody>\n",
       "    <tr>\n",
       "      <th>0</th>\n",
       "      <td>677213</td>\n",
       "      <td>LightGBM</td>\n",
       "      <td>4.790954</td>\n",
       "      <td>0.028091</td>\n",
       "      <td>0.000000</td>\n",
       "      <td>0.500000</td>\n",
       "      <td>-341886000</td>\n",
       "    </tr>\n",
       "    <tr>\n",
       "      <th>1</th>\n",
       "      <td>677213</td>\n",
       "      <td>ExtraTreesDefault</td>\n",
       "      <td>6.688642</td>\n",
       "      <td>0.028091</td>\n",
       "      <td>0.000000</td>\n",
       "      <td>0.582855</td>\n",
       "      <td>-494046000</td>\n",
       "    </tr>\n",
       "    <tr>\n",
       "      <th>2</th>\n",
       "      <td>727817</td>\n",
       "      <td>LightGBM</td>\n",
       "      <td>7.906892</td>\n",
       "      <td>0.028091</td>\n",
       "      <td>0.000000</td>\n",
       "      <td>0.231468</td>\n",
       "      <td>-341886000</td>\n",
       "    </tr>\n",
       "    <tr>\n",
       "      <th>3</th>\n",
       "      <td>727817</td>\n",
       "      <td>ExtraTreesDefault</td>\n",
       "      <td>7.287828</td>\n",
       "      <td>0.028091</td>\n",
       "      <td>0.000000</td>\n",
       "      <td>0.544869</td>\n",
       "      <td>-494046000</td>\n",
       "    </tr>\n",
       "    <tr>\n",
       "      <th>4</th>\n",
       "      <td>311237</td>\n",
       "      <td>LightGBM</td>\n",
       "      <td>9.124369</td>\n",
       "      <td>0.028151</td>\n",
       "      <td>0.004476</td>\n",
       "      <td>0.553058</td>\n",
       "      <td>-340413000</td>\n",
       "    </tr>\n",
       "    <tr>\n",
       "      <th>5</th>\n",
       "      <td>311237</td>\n",
       "      <td>ExtraTreesDefault</td>\n",
       "      <td>7.559847</td>\n",
       "      <td>0.028091</td>\n",
       "      <td>0.000000</td>\n",
       "      <td>0.505853</td>\n",
       "      <td>-494046000</td>\n",
       "    </tr>\n",
       "    <tr>\n",
       "      <th>6</th>\n",
       "      <td>660719</td>\n",
       "      <td>LightGBM</td>\n",
       "      <td>4.344935</td>\n",
       "      <td>0.028091</td>\n",
       "      <td>0.000000</td>\n",
       "      <td>0.500000</td>\n",
       "      <td>-341886000</td>\n",
       "    </tr>\n",
       "    <tr>\n",
       "      <th>7</th>\n",
       "      <td>660719</td>\n",
       "      <td>ExtraTreesDefault</td>\n",
       "      <td>7.345021</td>\n",
       "      <td>0.028091</td>\n",
       "      <td>0.000000</td>\n",
       "      <td>0.524286</td>\n",
       "      <td>-494046000</td>\n",
       "    </tr>\n",
       "    <tr>\n",
       "      <th>8</th>\n",
       "      <td>106427</td>\n",
       "      <td>LightGBM</td>\n",
       "      <td>4.390207</td>\n",
       "      <td>0.028091</td>\n",
       "      <td>0.000000</td>\n",
       "      <td>0.500000</td>\n",
       "      <td>-341886000</td>\n",
       "    </tr>\n",
       "    <tr>\n",
       "      <th>9</th>\n",
       "      <td>106427</td>\n",
       "      <td>ExtraTreesDefault</td>\n",
       "      <td>6.863296</td>\n",
       "      <td>0.028091</td>\n",
       "      <td>0.000000</td>\n",
       "      <td>0.515562</td>\n",
       "      <td>-494046000</td>\n",
       "    </tr>\n",
       "  </tbody>\n",
       "</table>\n",
       "</div>"
      ],
      "text/plain": [
       "     seed              model  training_time  f1_score       mcc       auc  \\\n",
       "0  677213           LightGBM       4.790954  0.028091  0.000000  0.500000   \n",
       "1  677213  ExtraTreesDefault       6.688642  0.028091  0.000000  0.582855   \n",
       "2  727817           LightGBM       7.906892  0.028091  0.000000  0.231468   \n",
       "3  727817  ExtraTreesDefault       7.287828  0.028091  0.000000  0.544869   \n",
       "4  311237           LightGBM       9.124369  0.028151  0.004476  0.553058   \n",
       "5  311237  ExtraTreesDefault       7.559847  0.028091  0.000000  0.505853   \n",
       "6  660719           LightGBM       4.344935  0.028091  0.000000  0.500000   \n",
       "7  660719  ExtraTreesDefault       7.345021  0.028091  0.000000  0.524286   \n",
       "8  106427           LightGBM       4.390207  0.028091  0.000000  0.500000   \n",
       "9  106427  ExtraTreesDefault       6.863296  0.028091  0.000000  0.515562   \n",
       "\n",
       "  ganancia_custom  \n",
       "0      -341886000  \n",
       "1      -494046000  \n",
       "2      -341886000  \n",
       "3      -494046000  \n",
       "4      -340413000  \n",
       "5      -494046000  \n",
       "6      -341886000  \n",
       "7      -494046000  \n",
       "8      -341886000  \n",
       "9      -494046000  "
      ]
     },
     "execution_count": 103,
     "metadata": {},
     "output_type": "execute_result"
    }
   ],
   "source": [
    "results_experiment_1"
   ]
  },
  {
   "cell_type": "code",
   "execution_count": 88,
   "id": "bcd60d40",
   "metadata": {
    "execution": {
     "iopub.execute_input": "2023-05-19T16:43:20.632300Z",
     "iopub.status.busy": "2023-05-19T16:43:20.631918Z",
     "iopub.status.idle": "2023-05-19T16:43:21.308301Z",
     "shell.execute_reply": "2023-05-19T16:43:21.307243Z",
     "shell.execute_reply.started": "2023-05-19T16:43:20.632267Z"
    }
   },
   "outputs": [
    {
     "name": "stderr",
     "output_type": "stream",
     "text": [
      "/tmp/ipykernel_32/3128785517.py:3: FutureWarning: \n",
      "\n",
      "The `ci` parameter is deprecated. Use `errorbar=None` for the same effect.\n",
      "\n",
      "  sns.barplot(x=\"model\", y=\"f1_score\", data=results_experiment_1, ci=None)\n"
     ]
    },
    {
     "data": {
      "image/png": "[encoded data removed]",
      "text/plain": [
       "<Figure size 1000x600 with 1 Axes>"
      ]
     },
     "metadata": {},
     "output_type": "display_data"
    },
    {
     "name": "stderr",
     "output_type": "stream",
     "text": [
      "/tmp/ipykernel_32/3128785517.py:9: FutureWarning: \n",
      "\n",
      "The `ci` parameter is deprecated. Use `errorbar=None` for the same effect.\n",
      "\n",
      "  sns.barplot(x=\"model\", y=\"mcc\", data=results_experiment_1, ci=None)\n"
     ]
    },
    {
     "data": {
      "image/png": "[encoded data removed]",
      "text/plain": [
       "<Figure size 1000x600 with 1 Axes>"
      ]
     },
     "metadata": {},
     "output_type": "display_data"
    },
    {
     "name": "stderr",
     "output_type": "stream",
     "text": [
      "/tmp/ipykernel_32/3128785517.py:15: FutureWarning: \n",
      "\n",
      "The `ci` parameter is deprecated. Use `errorbar=None` for the same effect.\n",
      "\n",
      "  sns.barplot(x=\"model\", y=\"auc\", data=results_experiment_1, ci=None)\n"
     ]
    },
    {
     "data": {
      "image/png": "[encoded data removed]",
      "text/plain": [
       "<Figure size 1000x600 with 1 Axes>"
      ]
     },
     "metadata": {},
     "output_type": "display_data"
    }
   ],
   "source": [
    "# F1-Score\n",
    "plt.figure(figsize=(10, 6))\n",
    "sns.barplot(x=\"model\", y=\"f1_score\", data=results_experiment_1, ci=None)\n",
    "plt.title(\"Comparación de F1-Score entre modelos\")\n",
    "plt.show()\n",
    "\n",
    "# MCC\n",
    "plt.figure(figsize=(10, 6))\n",
    "sns.barplot(x=\"model\", y=\"mcc\", data=results_experiment_1, ci=None)\n",
    "plt.title(\"Comparación de MCC entre modelos\")\n",
    "plt.show()\n",
    "\n",
    "# AUC\n",
    "plt.figure(figsize=(10, 6))\n",
    "sns.barplot(x=\"model\", y=\"auc\", data=results_experiment_1, ci=None)\n",
    "plt.title(\"Comparación de AUC entre modelos\")\n",
    "plt.show()\n"
   ]
  },
  {
   "cell_type": "code",
   "execution_count": 117,
   "id": "5db980f5",
   "metadata": {
    "execution": {
     "iopub.execute_input": "2023-05-19T16:57:31.042977Z",
     "iopub.status.busy": "2023-05-19T16:57:31.042624Z",
     "iopub.status.idle": "2023-05-19T16:57:31.050335Z",
     "shell.execute_reply": "2023-05-19T16:57:31.049289Z",
     "shell.execute_reply.started": "2023-05-19T16:57:31.042949Z"
    }
   },
   "outputs": [],
   "source": [
    "import seaborn as sns\n",
    "import matplotlib.pyplot as plt\n",
    "\n",
    "def barplot(df, metrica):    \n",
    "    plt.figure(figsize=(10, 6))\n",
    "    sns.barplot(x=\"model\", y=metrica, data=df)\n",
    "    plt.title(f\"Comparación de {metrica} entre modelos\")\n",
    "    plt.show()    \n",
    "    \n",
    "def correlacion(df, metrica):\n",
    "    data_wide_1 = df[df[\"model\"]==\"LightGBM\"][[\"seed\", metrica]].rename(columns={metrica: f\"{metrica}_LightGBM\"})\n",
    "    data_wide_2 = df[df[\"model\"]==\"ExtraTreesDefault\"][[\"seed\", metrica]].rename(columns={metrica: f\"{metrica}_ExtraTrees\"})\n",
    "    data_wide = pd.merge(data_wide_1, data_wide_2, on=\"seed\")\n",
    "    correlation_pearson = data_wide[f\"{metrica}_LightGBM\"].corr(data_wide[f\"{metrica}_ExtraTrees\"], method='pearson')\n",
    "    print(f'Pearson correlation: {correlation_pearson}')\n",
    "    correlation_spearman = data_wide[f\"{metrica}_LightGBM\"].corr(data_wide[f\"{metrica}_ExtraTrees\"], method='spearman')\n",
    "    print(f'Spearman correlation: {correlation_spearman}')"
   ]
  },
  {
   "cell_type": "code",
   "execution_count": 118,
   "id": "87727451",
   "metadata": {
    "execution": {
     "iopub.execute_input": "2023-05-19T16:57:36.825088Z",
     "iopub.status.busy": "2023-05-19T16:57:36.824118Z",
     "iopub.status.idle": "2023-05-19T16:57:37.121407Z",
     "shell.execute_reply": "2023-05-19T16:57:37.120362Z",
     "shell.execute_reply.started": "2023-05-19T16:57:36.825049Z"
    }
   },
   "outputs": [
    {
     "data": {
      "image/png": "[encoded data removed]",
      "text/plain": [
       "<Figure size 1000x600 with 1 Axes>"
      ]
     },
     "metadata": {},
     "output_type": "display_data"
    }
   ],
   "source": [
    "barplot(results_experiment_1,'f1_score')"
   ]
  },
  {
   "cell_type": "code",
   "execution_count": 113,
   "id": "98d4af2f",
   "metadata": {
    "execution": {
     "iopub.execute_input": "2023-05-19T16:55:29.089259Z",
     "iopub.status.busy": "2023-05-19T16:55:29.088888Z",
     "iopub.status.idle": "2023-05-19T16:55:29.106287Z",
     "shell.execute_reply": "2023-05-19T16:55:29.105100Z",
     "shell.execute_reply.started": "2023-05-19T16:55:29.089231Z"
    }
   },
   "outputs": [
    {
     "name": "stdout",
     "output_type": "stream",
     "text": [
      "Pearson correlation: -0.36211518340156246\n",
      "Spearman correlation: -0.4472135954999579\n"
     ]
    }
   ],
   "source": [
    "correlacion(results_experiment_1,'auc')"
   ]
  },
  {
   "cell_type": "code",
   "execution_count": 112,
   "id": "c54716b4",
   "metadata": {
    "execution": {
     "iopub.execute_input": "2023-05-19T16:55:21.021936Z",
     "iopub.status.busy": "2023-05-19T16:55:21.021290Z",
     "iopub.status.idle": "2023-05-19T16:55:21.037800Z",
     "shell.execute_reply": "2023-05-19T16:55:21.035462Z",
     "shell.execute_reply.started": "2023-05-19T16:55:21.021880Z"
    }
   },
   "outputs": [
    {
     "name": "stdout",
     "output_type": "stream",
     "text": [
      "Pearson correlation: -0.31457637081472845\n",
      "Spearman correlation: -0.22360679774997896\n"
     ]
    }
   ],
   "source": [
    "correlacion(results_experiment_1,'auc')"
   ]
  },
  {
   "cell_type": "code",
   "execution_count": 114,
   "id": "7d299444",
   "metadata": {
    "execution": {
     "iopub.execute_input": "2023-05-19T16:55:38.224941Z",
     "iopub.status.busy": "2023-05-19T16:55:38.224552Z",
     "iopub.status.idle": "2023-05-19T16:55:38.249918Z",
     "shell.execute_reply": "2023-05-19T16:55:38.248968Z",
     "shell.execute_reply.started": "2023-05-19T16:55:38.224915Z"
    }
   },
   "outputs": [
    {
     "data": {
      "text/html": [
       "<div>\n",
       "<style scoped>\n",
       "    .dataframe tbody tr th:only-of-type {\n",
       "        vertical-align: middle;\n",
       "    }\n",
       "\n",
       "    .dataframe tbody tr th {\n",
       "        vertical-align: top;\n",
       "    }\n",
       "\n",
       "    .dataframe thead th {\n",
       "        text-align: right;\n",
       "    }\n",
       "</style>\n",
       "<table border=\"1\" class=\"dataframe\">\n",
       "  <thead>\n",
       "    <tr style=\"text-align: right;\">\n",
       "      <th></th>\n",
       "      <th>seed</th>\n",
       "      <th>model</th>\n",
       "      <th>training_time</th>\n",
       "      <th>f1_score</th>\n",
       "      <th>mcc</th>\n",
       "      <th>auc</th>\n",
       "      <th>ganancia_custom</th>\n",
       "    </tr>\n",
       "  </thead>\n",
       "  <tbody>\n",
       "    <tr>\n",
       "      <th>0</th>\n",
       "      <td>677213</td>\n",
       "      <td>LightGBM</td>\n",
       "      <td>10.778766</td>\n",
       "      <td>0.691342</td>\n",
       "      <td>0.000000</td>\n",
       "      <td>0.500000</td>\n",
       "      <td>0.528283</td>\n",
       "    </tr>\n",
       "    <tr>\n",
       "      <th>1</th>\n",
       "      <td>677213</td>\n",
       "      <td>ExtraTreesDefault</td>\n",
       "      <td>6.015139</td>\n",
       "      <td>0.876861</td>\n",
       "      <td>0.738775</td>\n",
       "      <td>0.938406</td>\n",
       "      <td>0.869815</td>\n",
       "    </tr>\n",
       "    <tr>\n",
       "      <th>2</th>\n",
       "      <td>727817</td>\n",
       "      <td>LightGBM</td>\n",
       "      <td>19.698008</td>\n",
       "      <td>0.685702</td>\n",
       "      <td>0.000000</td>\n",
       "      <td>0.500000</td>\n",
       "      <td>0.521725</td>\n",
       "    </tr>\n",
       "    <tr>\n",
       "      <th>3</th>\n",
       "      <td>727817</td>\n",
       "      <td>ExtraTreesDefault</td>\n",
       "      <td>6.345924</td>\n",
       "      <td>0.862658</td>\n",
       "      <td>0.715078</td>\n",
       "      <td>0.931974</td>\n",
       "      <td>0.857682</td>\n",
       "    </tr>\n",
       "    <tr>\n",
       "      <th>4</th>\n",
       "      <td>311237</td>\n",
       "      <td>LightGBM</td>\n",
       "      <td>30.474817</td>\n",
       "      <td>0.875383</td>\n",
       "      <td>0.731866</td>\n",
       "      <td>0.937011</td>\n",
       "      <td>0.866535</td>\n",
       "    </tr>\n",
       "    <tr>\n",
       "      <th>5</th>\n",
       "      <td>311237</td>\n",
       "      <td>ExtraTreesDefault</td>\n",
       "      <td>6.065432</td>\n",
       "      <td>0.870093</td>\n",
       "      <td>0.725899</td>\n",
       "      <td>0.936544</td>\n",
       "      <td>0.863256</td>\n",
       "    </tr>\n",
       "    <tr>\n",
       "      <th>6</th>\n",
       "      <td>660719</td>\n",
       "      <td>LightGBM</td>\n",
       "      <td>16.402433</td>\n",
       "      <td>0.842205</td>\n",
       "      <td>0.671944</td>\n",
       "      <td>0.908717</td>\n",
       "      <td>0.836203</td>\n",
       "    </tr>\n",
       "    <tr>\n",
       "      <th>7</th>\n",
       "      <td>660719</td>\n",
       "      <td>ExtraTreesDefault</td>\n",
       "      <td>6.903919</td>\n",
       "      <td>0.864334</td>\n",
       "      <td>0.718655</td>\n",
       "      <td>0.930209</td>\n",
       "      <td>0.859485</td>\n",
       "    </tr>\n",
       "    <tr>\n",
       "      <th>8</th>\n",
       "      <td>106427</td>\n",
       "      <td>LightGBM</td>\n",
       "      <td>13.265439</td>\n",
       "      <td>0.689092</td>\n",
       "      <td>0.000000</td>\n",
       "      <td>0.500000</td>\n",
       "      <td>0.525660</td>\n",
       "    </tr>\n",
       "    <tr>\n",
       "      <th>9</th>\n",
       "      <td>106427</td>\n",
       "      <td>ExtraTreesDefault</td>\n",
       "      <td>5.975341</td>\n",
       "      <td>0.871160</td>\n",
       "      <td>0.729922</td>\n",
       "      <td>0.937436</td>\n",
       "      <td>0.865224</td>\n",
       "    </tr>\n",
       "  </tbody>\n",
       "</table>\n",
       "</div>"
      ],
      "text/plain": [
       "     seed              model  training_time  f1_score       mcc       auc  \\\n",
       "0  677213           LightGBM      10.778766  0.691342  0.000000  0.500000   \n",
       "1  677213  ExtraTreesDefault       6.015139  0.876861  0.738775  0.938406   \n",
       "2  727817           LightGBM      19.698008  0.685702  0.000000  0.500000   \n",
       "3  727817  ExtraTreesDefault       6.345924  0.862658  0.715078  0.931974   \n",
       "4  311237           LightGBM      30.474817  0.875383  0.731866  0.937011   \n",
       "5  311237  ExtraTreesDefault       6.065432  0.870093  0.725899  0.936544   \n",
       "6  660719           LightGBM      16.402433  0.842205  0.671944  0.908717   \n",
       "7  660719  ExtraTreesDefault       6.903919  0.864334  0.718655  0.930209   \n",
       "8  106427           LightGBM      13.265439  0.689092  0.000000  0.500000   \n",
       "9  106427  ExtraTreesDefault       5.975341  0.871160  0.729922  0.937436   \n",
       "\n",
       "   ganancia_custom  \n",
       "0         0.528283  \n",
       "1         0.869815  \n",
       "2         0.521725  \n",
       "3         0.857682  \n",
       "4         0.866535  \n",
       "5         0.863256  \n",
       "6         0.836203  \n",
       "7         0.859485  \n",
       "8         0.525660  \n",
       "9         0.865224  "
      ]
     },
     "execution_count": 114,
     "metadata": {},
     "output_type": "execute_result"
    }
   ],
   "source": [
    "results_experiment_1"
   ]
  },
  {
   "cell_type": "code",
   "execution_count": null,
   "id": "4ea55057",
   "metadata": {},
   "outputs": [],
   "source": []
  }
 ],
 "metadata": {
  "kernelspec": {
   "display_name": "Python 3 (ipykernel)",
   "language": "python",
   "name": "python3"
  },
  "language_info": {
   "codemirror_mode": {
    "name": "ipython",
    "version": 3
   },
   "file_extension": ".py",
   "mimetype": "text/x-python",
   "name": "python",
   "nbconvert_exporter": "python",
   "pygments_lexer": "ipython3",
   "version": "3.10.7"
  }
 },
 "nbformat": 4,
 "nbformat_minor": 5
}
