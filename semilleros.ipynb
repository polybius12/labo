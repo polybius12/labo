{
 "cells": [
  {
   "cell_type": "code",
   "execution_count": 41,
   "id": "3ca35d66-726f-4459-8867-c56c91bfaab8",
   "metadata": {
    "tags": []
   },
   "outputs": [],
   "source": [
    "import pandas as pd"
   ]
  },
  {
   "cell_type": "code",
   "execution_count": 42,
   "id": "85441238-408d-4ebe-802d-0a0f83c40701",
   "metadata": {
    "tags": []
   },
   "outputs": [],
   "source": [
    "df_1 = pd.read_csv('exp_ZZ7990_pred_01_087.csv', sep='\\t')\n",
    "df_2 = pd.read_csv('exp_ZZ7990_pred_02_075.csv', sep='\\t')\n",
    "df_3 = pd.read_csv('exp_ZZ7990_pred_03_077.csv', sep='\\t')\n",
    "df_4 = pd.read_csv('exp_ZZ7990_pred_05_014.csv', sep='\\t')\n",
    "df_5 = pd.read_csv('exp_ZZ7990_pred_08_046.csv', sep='\\t')\n",
    "df_6 = pd.read_csv('exp_ZZ7990_pred_13_024.csv', sep='\\t')"
   ]
  },
  {
   "cell_type": "code",
   "execution_count": 43,
   "id": "e6265959-9613-44fa-9b10-9a6228dbdf89",
   "metadata": {
    "tags": []
   },
   "outputs": [],
   "source": [
    "lista_probs = [df_1, df_2,df_3,df_4,df_5,df_6]\n",
    "proba_concat = pd.concat([df['prob'] for df in lista_probs])\n",
    "df_entrega = pd.concat([df_1['numero_de_cliente'], proba_concat.groupby(proba_concat.index).mean()], axis=1)"
   ]
  },
  {
   "cell_type": "code",
   "execution_count": 76,
   "id": "58b11f65-f8f9-4bae-8096-79ab5d562079",
   "metadata": {
    "tags": []
   },
   "outputs": [],
   "source": [
    "n_envios = 10500\n",
    "\n",
    "filename = 'semilleros_ensemble_10500'\n",
    "\n",
    "df_entrega = df_entrega.sort_values(by='prob', ascending=False)\n",
    "df_entrega['Predicted'] = [1 if i < n_envios else 0 for i in range(df_entrega.shape[0])]\n",
    "df_entrega[['numero_de_cliente','Predicted']].to_csv(filename+'.csv', index=False)"
   ]
  },
  {
   "cell_type": "code",
   "execution_count": 77,
   "id": "51eb730a-cd9e-4b86-ad4d-9dbb57082c10",
   "metadata": {
    "tags": []
   },
   "outputs": [
    {
     "data": {
      "text/html": [
       "<div>\n",
       "<style scoped>\n",
       "    .dataframe tbody tr th:only-of-type {\n",
       "        vertical-align: middle;\n",
       "    }\n",
       "\n",
       "    .dataframe tbody tr th {\n",
       "        vertical-align: top;\n",
       "    }\n",
       "\n",
       "    .dataframe thead th {\n",
       "        text-align: right;\n",
       "    }\n",
       "</style>\n",
       "<table border=\"1\" class=\"dataframe\">\n",
       "  <thead>\n",
       "    <tr style=\"text-align: right;\">\n",
       "      <th></th>\n",
       "      <th>numero_de_cliente</th>\n",
       "      <th>prob</th>\n",
       "      <th>Predicted</th>\n",
       "    </tr>\n",
       "  </thead>\n",
       "  <tbody>\n",
       "    <tr>\n",
       "      <th>33583</th>\n",
       "      <td>63435206</td>\n",
       "      <td>0.904519</td>\n",
       "      <td>1</td>\n",
       "    </tr>\n",
       "    <tr>\n",
       "      <th>151373</th>\n",
       "      <td>173749330</td>\n",
       "      <td>0.901383</td>\n",
       "      <td>1</td>\n",
       "    </tr>\n",
       "    <tr>\n",
       "      <th>55413</th>\n",
       "      <td>78781157</td>\n",
       "      <td>0.899706</td>\n",
       "      <td>1</td>\n",
       "    </tr>\n",
       "    <tr>\n",
       "      <th>25935</th>\n",
       "      <td>58292452</td>\n",
       "      <td>0.888327</td>\n",
       "      <td>1</td>\n",
       "    </tr>\n",
       "    <tr>\n",
       "      <th>26016</th>\n",
       "      <td>58397237</td>\n",
       "      <td>0.875419</td>\n",
       "      <td>1</td>\n",
       "    </tr>\n",
       "    <tr>\n",
       "      <th>...</th>\n",
       "      <td>...</td>\n",
       "      <td>...</td>\n",
       "      <td>...</td>\n",
       "    </tr>\n",
       "    <tr>\n",
       "      <th>9923</th>\n",
       "      <td>37391611</td>\n",
       "      <td>0.000004</td>\n",
       "      <td>0</td>\n",
       "    </tr>\n",
       "    <tr>\n",
       "      <th>49410</th>\n",
       "      <td>75890380</td>\n",
       "      <td>0.000004</td>\n",
       "      <td>0</td>\n",
       "    </tr>\n",
       "    <tr>\n",
       "      <th>61546</th>\n",
       "      <td>82772277</td>\n",
       "      <td>0.000003</td>\n",
       "      <td>0</td>\n",
       "    </tr>\n",
       "    <tr>\n",
       "      <th>65794</th>\n",
       "      <td>85127244</td>\n",
       "      <td>0.000003</td>\n",
       "      <td>0</td>\n",
       "    </tr>\n",
       "    <tr>\n",
       "      <th>31545</th>\n",
       "      <td>62196314</td>\n",
       "      <td>0.000002</td>\n",
       "      <td>0</td>\n",
       "    </tr>\n",
       "  </tbody>\n",
       "</table>\n",
       "<p>165237 rows × 3 columns</p>\n",
       "</div>"
      ],
      "text/plain": [
       "        numero_de_cliente      prob  Predicted\n",
       "33583            63435206  0.904519          1\n",
       "151373          173749330  0.901383          1\n",
       "55413            78781157  0.899706          1\n",
       "25935            58292452  0.888327          1\n",
       "26016            58397237  0.875419          1\n",
       "...                   ...       ...        ...\n",
       "9923             37391611  0.000004          0\n",
       "49410            75890380  0.000004          0\n",
       "61546            82772277  0.000003          0\n",
       "65794            85127244  0.000003          0\n",
       "31545            62196314  0.000002          0\n",
       "\n",
       "[165237 rows x 3 columns]"
      ]
     },
     "execution_count": 77,
     "metadata": {},
     "output_type": "execute_result"
    }
   ],
   "source": [
    "df_entrega"
   ]
  },
  {
   "cell_type": "code",
   "execution_count": 150,
   "id": "adda77a2-e11e-4a42-8a60-de601b3dbc1d",
   "metadata": {
    "tags": []
   },
   "outputs": [],
   "source": [
    "df_feat = pd.read_csv('UAustral-2023v-workflow - Sheet1 (1).csv', header=[0,1,2])\n",
    "df_feat.columns = df_feat.columns.droplevel([0, 1])"
   ]
  },
  {
   "cell_type": "code",
   "execution_count": 151,
   "id": "9eb0285c-b361-462a-ba59-039bc914368a",
   "metadata": {
    "tags": []
   },
   "outputs": [],
   "source": [
    "df_feat['Unnamed: 1_level_2'] = df_feat['Unnamed: 1_level_2'].astype('float')\n",
    "df_feat['Unnamed: 3_level_2'] = df_feat['Unnamed: 3_level_2'].astype('float')\n",
    "df_feat['avg_gain'] = (df_feat['Unnamed: 1_level_2'] + df_feat['Unnamed: 3_level_2']) / 2\n",
    "\n",
    "df_feat.drop(columns=['Unnamed: 1_level_2','Unnamed: 3_level_2'], inplace=True)"
   ]
  },
  {
   "cell_type": "code",
   "execution_count": 152,
   "id": "8e160b73-d818-4b02-8b09-e8ad0605b05f",
   "metadata": {
    "tags": []
   },
   "outputs": [],
   "source": [
    "df_feat.sort_values(by='avg_gain', ascending=False, inplace=True)\n",
    "df_feat.rename(columns={'Unnamed: 9_level_2':'metodo',\n",
    "                       'Unnamed: 10_level_2':'variables_intrames',\n",
    "                       'Unnamed: 11_level_2':'metodo_moneda',\n",
    "                       'Unnamed: 12_level_2': 'lag1',\n",
    "                       'Unnamed: 13_level_2': 'lag2',\n",
    "                       'Unnamed: 14_level_2': 'lag3'}, inplace=True)"
   ]
  },
  {
   "cell_type": "code",
   "execution_count": 153,
   "id": "e8b77ee4-de2d-4c70-9103-447ba5f99547",
   "metadata": {
    "tags": []
   },
   "outputs": [
    {
     "data": {
      "text/plain": [
       "metodo                 Machine Learning\n",
       "variables_intrames                FALSE\n",
       "metodo_moneda            rank_cero_fijo\n",
       "lag1                               TRUE\n",
       "lag2                              FALSE\n",
       "lag3                              FALSE\n",
       "run                                TRUE\n",
       "ventana                             6.0\n",
       "tendencia                          TRUE\n",
       "minimo                            FALSE\n",
       "maximo                            FALSE\n",
       "promedio                          FALSE\n",
       "ratioavg                          FALSE\n",
       "ratiomax                          FALSE\n",
       "run                               FALSE\n",
       "ventana                             6.0\n",
       "tendencia                         FALSE\n",
       "minimo                            FALSE\n",
       "maximo                            FALSE\n",
       "promedio                          FALSE\n",
       "ratioavg                          FALSE\n",
       "ratiomax                          FALSE\n",
       "run                               FALSE\n",
       "num.trees                          40.0\n",
       "max.depth                           5.0\n",
       "min.node.size                     500.0\n",
       "mtry                               15.0\n",
       "Unnamed: 36_level_2                 1.0\n",
       "Unnamed: 37_level_2                 1.0\n",
       "Name: 0, dtype: object"
      ]
     },
     "execution_count": 153,
     "metadata": {},
     "output_type": "execute_result"
    }
   ],
   "source": [
    "df_feat.head(10).iloc[:,7:36].mode(axis=0).iloc[0]"
   ]
  },
  {
   "cell_type": "code",
   "execution_count": 134,
   "id": "27cf6f2e-dee7-4a45-9370-c5cd2ba33046",
   "metadata": {
    "tags": []
   },
   "outputs": [
    {
     "data": {
      "text/plain": [
       "Unnamed: 0_level_2                                      Carreño, Ludwing\n",
       "Unnamed: 2_level_2                                                13,000\n",
       "Unnamed: 4_level_2                                                12,500\n",
       "Filas                                                                NaN\n",
       "Columnas                                                             NaN\n",
       "Superficie                                                           0.0\n",
       "Unnamed: 8_level_2                                                     6\n",
       "Unnamed: 9_level_2                                      Machine Learning\n",
       "Unnamed: 10_level_2                                                FALSE\n",
       "Unnamed: 11_level_2                                            deflacion\n",
       "Unnamed: 12_level_2                                                 TRUE\n",
       "Unnamed: 13_level_2                                                FALSE\n",
       "Unnamed: 14_level_2                                                FALSE\n",
       "run                                                                 TRUE\n",
       "ventana                                                              6.0\n",
       "tendencia                                                           TRUE\n",
       "minimo                                                             FALSE\n",
       "maximo                                                             FALSE\n",
       "promedio                                                           FALSE\n",
       "ratioavg                                                           FALSE\n",
       "ratiomax                                                           FALSE\n",
       "run                                                                FALSE\n",
       "ventana                                                              6.0\n",
       "tendencia                                                           TRUE\n",
       "minimo                                                             FALSE\n",
       "maximo                                                             FALSE\n",
       "promedio                                                           FALSE\n",
       "ratioavg                                                           FALSE\n",
       "ratiomax                                                           FALSE\n",
       "run                                                                FALSE\n",
       "num.trees                                                           40.0\n",
       "max.depth                                                            5.0\n",
       "min.node.size                                                      500.0\n",
       "mtry                                                                15.0\n",
       "Unnamed: 36_level_2                                                  0.0\n",
       "Unnamed: 37_level_2                                                  1.0\n",
       "Unnamed: 38_level_2    c( 202105, 202104, 202103, 202102, 202101, 202...\n",
       "Unnamed: 39_level_2                                          c( 202106 )\n",
       "Unnamed: 40_level_2                                          c( 202107 )\n",
       "Unnamed: 41_level_2    c( 202107, 202106, 202105, 202104, 202103, 202...\n",
       "Unnamed: 42_level_2    PARAM$lgb_basicos <- list( \\n  boosting= \"gbdt...\n",
       "Unnamed: 43_level_2    PARAM$bo_lgb <- makeParamSet( \\n  makeNumericP...\n",
       "Unnamed: 44_level_2                                                 44.0\n",
       "avg_gain                                                       53.129035\n",
       "Name: 42, dtype: object"
      ]
     },
     "execution_count": 134,
     "metadata": {},
     "output_type": "execute_result"
    }
   ],
   "source": [
    "df_feat.head(10).iloc[0]"
   ]
  },
  {
   "cell_type": "code",
   "execution_count": null,
   "id": "bc71ca57-d68d-490d-9bc2-26310452bfbe",
   "metadata": {},
   "outputs": [],
   "source": []
  }
 ],
 "metadata": {
  "kernelspec": {
   "display_name": "Python 3 (ipykernel)",
   "language": "python",
   "name": "python3"
  },
  "language_info": {
   "codemirror_mode": {
    "name": "ipython",
    "version": 3
   },
   "file_extension": ".py",
   "mimetype": "text/x-python",
   "name": "python",
   "nbconvert_exporter": "python",
   "pygments_lexer": "ipython3",
   "version": "3.10.10"
  }
 },
 "nbformat": 4,
 "nbformat_minor": 5
}
