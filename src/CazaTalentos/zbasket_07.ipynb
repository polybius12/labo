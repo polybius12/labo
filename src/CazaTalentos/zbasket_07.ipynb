{
 "cells": [
  {
   "cell_type": "code",
   "execution_count": 1,
   "id": "9bac9824-58fe-4392-b312-c519ede51252",
   "metadata": {},
   "outputs": [],
   "source": [
    "#intencionalmente el mejor jugador va al final de la lista de jugadores\n",
    "#porque la funcion np.argmax() de Python hace trampa\n",
    "#si hay un empate ( dos máximos) se queda con el que esta primero en el vector\n",
    "import  numpy as np\n",
    "import  time\n",
    "\n",
    "np.random.seed(102191)\n",
    "\n",
    "#calcula cuantos encestes logra un jugador con indice de enceste prob\n",
    "#que hace qyt tiros libres\n",
    "def vec_ftirar(prob, qty):\n",
    "  return sum(np.random.rand(qty, len(prob)) < prob) "
   ]
  },
  {
   "cell_type": "code",
   "execution_count": 2,
   "id": "b581e068-6ff4-425c-90fc-51dc26529bf8",
   "metadata": {},
   "outputs": [],
   "source": [
    "#defino los jugadores\n",
    "mejor = 0.7\n",
    "peloton = np.array(range(501, 600)) / 1000\n",
    "jugadores = np.append(peloton, mejor)"
   ]
  },
  {
   "cell_type": "code",
   "execution_count": 3,
   "id": "0d313b57-9537-4d33-960f-d0d209bab759",
   "metadata": {},
   "outputs": [
    {
     "name": "stdout",
     "output_type": "stream",
     "text": [
      "10 \t 0.0299\n",
      "20 \t 0.0857\n",
      "50 \t 0.269\n",
      "100 \t 0.5455\n",
      "200 \t 0.856\n",
      "300 \t 0.9595\n",
      "400 \t 0.9885\n",
      "415 \t 0.9915\n"
     ]
    },
    {
     "ename": "KeyboardInterrupt",
     "evalue": "",
     "output_type": "error",
     "traceback": [
      "\u001b[1;31m---------------------------------------------------------------------------\u001b[0m",
      "\u001b[1;31mKeyboardInterrupt\u001b[0m                         Traceback (most recent call last)",
      "Cell \u001b[1;32mIn[3], line 7\u001b[0m\n\u001b[0;32m      5\u001b[0m primero_ganador \u001b[38;5;241m=\u001b[39m \u001b[38;5;241m0\u001b[39m\n\u001b[0;32m      6\u001b[0m \u001b[38;5;28;01mfor\u001b[39;00m i \u001b[38;5;129;01min\u001b[39;00m \u001b[38;5;28mrange\u001b[39m(\u001b[38;5;241m10000\u001b[39m):\n\u001b[1;32m----> 7\u001b[0m   vaciertos \u001b[38;5;241m=\u001b[39m \u001b[43mvec_ftirar\u001b[49m\u001b[43m(\u001b[49m\u001b[43mjugadores\u001b[49m\u001b[43m,\u001b[49m\u001b[43m \u001b[49m\u001b[43mtiros_libres\u001b[49m\u001b[43m)\u001b[49m \u001b[38;5;66;03m#10 tiros libres cada jugador\u001b[39;00m\n\u001b[0;32m      8\u001b[0m   mejor \u001b[38;5;241m=\u001b[39m np\u001b[38;5;241m.\u001b[39margmax(vaciertos)\n\u001b[0;32m      9\u001b[0m   \u001b[38;5;28;01mif\u001b[39;00m mejor \u001b[38;5;241m==\u001b[39m \u001b[38;5;241m99\u001b[39m:\n",
      "Cell \u001b[1;32mIn[1], line 12\u001b[0m, in \u001b[0;36mvec_ftirar\u001b[1;34m(prob, qty)\u001b[0m\n\u001b[0;32m     11\u001b[0m \u001b[38;5;28;01mdef\u001b[39;00m \u001b[38;5;21mvec_ftirar\u001b[39m(prob, qty):\n\u001b[1;32m---> 12\u001b[0m   \u001b[38;5;28;01mreturn\u001b[39;00m \u001b[38;5;28msum\u001b[39m(\u001b[43mnp\u001b[49m\u001b[38;5;241;43m.\u001b[39;49m\u001b[43mrandom\u001b[49m\u001b[38;5;241;43m.\u001b[39;49m\u001b[43mrand\u001b[49m\u001b[43m(\u001b[49m\u001b[43mqty\u001b[49m\u001b[43m,\u001b[49m\u001b[43m \u001b[49m\u001b[38;5;28;43mlen\u001b[39;49m\u001b[43m(\u001b[49m\u001b[43mprob\u001b[49m\u001b[43m)\u001b[49m\u001b[43m)\u001b[49m \u001b[38;5;241m<\u001b[39m prob)\n",
      "\u001b[1;31mKeyboardInterrupt\u001b[0m: "
     ]
    }
   ],
   "source": [
    "t0 = time.time()\n",
    "\n",
    "\n",
    "for tiros_libres in [10, 20, 50, 100, 200, 300, 400, 415, 500, 600, 700, 1000]:\n",
    "  primero_ganador = 0\n",
    "  for i in range(10000):\n",
    "    vaciertos = vec_ftirar(jugadores, tiros_libres) #10 tiros libres cada jugador\n",
    "    mejor = np.argmax(vaciertos)\n",
    "    if mejor == 99:\n",
    "      primero_ganador += 1\n",
    "  print(tiros_libres, \"\\t\", primero_ganador/10000)\n",
    "\n",
    "\n",
    "t1 = time.time()\n",
    "print(t1-t0)"
   ]
  },
  {
   "cell_type": "code",
   "execution_count": null,
   "id": "45a79694-2971-4f2d-986f-939fa73277d6",
   "metadata": {},
   "outputs": [],
   "source": []
  }
 ],
 "metadata": {
  "kernelspec": {
   "display_name": "Python 3 (ipykernel)",
   "language": "python",
   "name": "python3"
  },
  "language_info": {
   "codemirror_mode": {
    "name": "ipython",
    "version": 3
   },
   "file_extension": ".py",
   "mimetype": "text/x-python",
   "name": "python",
   "nbconvert_exporter": "python",
   "pygments_lexer": "ipython3",
   "version": "3.10.10"
  }
 },
 "nbformat": 4,
 "nbformat_minor": 5
}
