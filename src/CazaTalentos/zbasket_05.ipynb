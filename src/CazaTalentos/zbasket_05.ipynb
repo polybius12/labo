{
 "cells": [
  {
   "cell_type": "code",
   "execution_count": null,
   "id": "952645bc-1595-4e33-8acf-619040bb78ac",
   "metadata": {},
   "outputs": [],
   "source": [
    "import  numpy as np\n",
    "\n",
    "np.random.seed(102191)\n",
    "\n",
    "#calcula cuantos encestes logra un jugador con indice de enceste prob\n",
    "#que hace qyt tiros libres\n",
    "\n",
    "def ftirar(prob, qty):\n",
    "  return sum(np.random.rand(qty) < prob)\n",
    "\n",
    "\n",
    "\n",
    "#defino los jugadores\n",
    "jugadores = [0.7] * 100\n",
    "\n",
    "\n",
    "#vectorizo la funcion  ftirar\n",
    "vec_ftirar = np.vectorize(ftirar)\n",
    "\n",
    "suma_diferencias = 0\n",
    "\n",
    "for i in range(10000):\n",
    "  vaciertos = vec_ftirar(jugadores, 100) #10 tiros libres cada jugador\n",
    "  mejor = np.argmax(vaciertos)\n",
    "  aciertos_torneo = vaciertos[mejor]\n",
    "  aciertos_segunda = vec_ftirar(jugadores[mejor], 100)\n",
    "  suma_diferencias += (aciertos_torneo - aciertos_segunda)\n",
    "\n",
    "\n",
    "\n",
    "print(suma_diferencias/10000)"
   ]
  }
 ],
 "metadata": {
  "kernelspec": {
   "display_name": "Python 3 (ipykernel)",
   "language": "python",
   "name": "python3"
  },
  "language_info": {
   "codemirror_mode": {
    "name": "ipython",
    "version": 3
   },
   "file_extension": ".py",
   "mimetype": "text/x-python",
   "name": "python",
   "nbconvert_exporter": "python",
   "pygments_lexer": "ipython3",
   "version": "3.10.10"
  }
 },
 "nbformat": 4,
 "nbformat_minor": 5
}
