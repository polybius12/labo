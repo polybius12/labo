{
 "cells": [
  {
   "cell_type": "code",
   "execution_count": 4,
   "id": "c8accb10-46d5-4a53-b696-64d4907f79df",
   "metadata": {
    "tags": []
   },
   "outputs": [],
   "source": [
    "import  numpy as np\n",
    "\n",
    "np.random.seed(102191)\n",
    "\n",
    "#calcula cuantos encestes logra un jugador con indice de enceste prob\n",
    "#que hace qyt tiros libres\n",
    "\n",
    "def ftirar(prob, qty):\n",
    "  return sum(np.random.rand(qty) < prob)"
   ]
  },
  {
   "cell_type": "code",
   "execution_count": 5,
   "id": "ebff3521-87c3-467e-baf0-37eb2d6f37c4",
   "metadata": {
    "tags": []
   },
   "outputs": [],
   "source": [
    "#defino los jugadores\n",
    "jugadores = [0.7] * 100\n",
    "\n",
    "#vectorizo la funcion  ftirar\n",
    "vec_ftirar = np.vectorize(ftirar)"
   ]
  },
  {
   "cell_type": "code",
   "execution_count": 2,
   "id": "56bde465-1ce7-4899-a165-e4973564cbb7",
   "metadata": {
    "tags": []
   },
   "outputs": [
    {
     "name": "stdout",
     "output_type": "stream",
     "text": [
      "82 \t 69\n",
      "82 \t 77\n",
      "78 \t 64\n",
      "81 \t 79\n",
      "81 \t 72\n",
      "80 \t 69\n",
      "83 \t 77\n",
      "82 \t 64\n",
      "78 \t 70\n",
      "84 \t 64\n"
     ]
    }
   ],
   "source": [
    "for i in range(10):\n",
    "  vaciertos = vec_ftirar(jugadores, 100) #10 tiros libres cada jugador\n",
    "  mejor = np.argmax(vaciertos)\n",
    "  aciertos_torneo = vaciertos[mejor]\n",
    "  aciertos_segunda = vec_ftirar(jugadores[mejor], 100)\n",
    "  print(aciertos_torneo, \"\\t\", aciertos_segunda)"
   ]
  },
  {
   "cell_type": "code",
   "execution_count": null,
   "id": "5f381375-1ecb-492c-9b36-10849f7ec987",
   "metadata": {},
   "outputs": [],
   "source": []
  }
 ],
 "metadata": {
  "kernelspec": {
   "display_name": "Python 3 (ipykernel)",
   "language": "python",
   "name": "python3"
  },
  "language_info": {
   "codemirror_mode": {
    "name": "ipython",
    "version": 3
   },
   "file_extension": ".py",
   "mimetype": "text/x-python",
   "name": "python",
   "nbconvert_exporter": "python",
   "pygments_lexer": "ipython3",
   "version": "3.10.10"
  }
 },
 "nbformat": 4,
 "nbformat_minor": 5
}
