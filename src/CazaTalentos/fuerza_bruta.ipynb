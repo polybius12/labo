{
 "cells": [
  {
   "cell_type": "code",
   "execution_count": 1,
   "id": "e42f9a84-bf89-47a2-b336-70fd29e3476c",
   "metadata": {
    "tags": []
   },
   "outputs": [],
   "source": [
    "import numpy as np\n",
    "from tqdm import tqdm\n",
    "\n",
    "np.random.seed(102191)\n",
    "\n",
    "#calcula cuantos encestes logra un jugador con indice de enceste prob\n",
    "#haciendo qyt tiros libres\n",
    "\n",
    "def ftirar(prob, qty):\n",
    "    return sum(np.random.rand(qty) < prob)\n",
    "\n",
    "def create_peloton(num_values):\n",
    "    return np.linspace(0.501, 0.600, num_values)\n",
    "\n",
    "def montecarlo(jugadores,mejor,cantidad_tiros,simulaciones):\n",
    "    peloton = create_peloton(jugadores)\n",
    "    total_jugadores = np.append(mejor, peloton)\n",
    "    vec_ftirar = np.vectorize(ftirar)\n",
    "\n",
    "    primero_ganador = 0\n",
    "\n",
    "    for i in tqdm(range(simulaciones)): \n",
    "        vaciertos = vec_ftirar(total_jugadores, cantidad_tiros)\n",
    "        mejor_jug = np.argmax(vaciertos)\n",
    "        if mejor_jug == 0:\n",
    "            primero_ganador += 1\n",
    "\n",
    "    print(f'el modelo elije al real mejor un {100*round(primero_ganador/simulaciones,4)}% de las veces')\n",
    "    return primero_ganador/simulaciones"
   ]
  },
  {
   "cell_type": "code",
   "execution_count": 2,
   "id": "738b2282-a5a6-4867-926f-26b4350df9e1",
   "metadata": {
    "tags": []
   },
   "outputs": [],
   "source": [
    "mejor = 0.7\n",
    "simulaciones = 10000"
   ]
  },
  {
   "cell_type": "markdown",
   "id": "b3f5841d-5a7a-4346-a8e9-9ee307d2cda4",
   "metadata": {},
   "source": [
    "### Cazatalentos 1: Llegué a la localidad habían 60 adolescentes en el gimnasio, hice tirar a cada uno 100 tiros, solo uno obtuvo 80 aciertos, luego un par 79, otro par 78, y así descendían."
   ]
  },
  {
   "cell_type": "code",
   "execution_count": 13,
   "id": "df51ae79-a2df-4989-a813-0429f4ddcac7",
   "metadata": {
    "tags": []
   },
   "outputs": [],
   "source": [
    "lista_def = []"
   ]
  },
  {
   "cell_type": "code",
   "execution_count": 3,
   "id": "c614138c-482a-4372-bb66-89ca6bdd0a4b",
   "metadata": {
    "tags": []
   },
   "outputs": [
    {
     "name": "stderr",
     "output_type": "stream",
     "text": [
      "100%|██████████████████████████████████████████████████████████████████████████| 10000/10000 [00:09<00:00, 1029.88it/s]"
     ]
    },
    {
     "name": "stdout",
     "output_type": "stream",
     "text": [
      "el modelo elije al real mejor un 68.78% de las veces\n"
     ]
    },
    {
     "name": "stderr",
     "output_type": "stream",
     "text": [
      "\n"
     ]
    }
   ],
   "source": [
    "jugadores = 60\n",
    "cantidad_tiros = 100\n",
    "\n",
    "res_1 = montecarlo(jugadores,mejor,cantidad_tiros,simulaciones)\n",
    "lista_def.append((res_1*80, 'caz_1'))"
   ]
  },
  {
   "cell_type": "code",
   "execution_count": 7,
   "id": "e05f99f9-f4d8-41bd-a83c-e7123f6ae50e",
   "metadata": {
    "tags": []
   },
   "outputs": [
    {
     "name": "stderr",
     "output_type": "stream",
     "text": [
      "100%|███████████████████████████████████████████████████████████████████████████| 10000/10000 [00:29<00:00, 335.60it/s]"
     ]
    },
    {
     "name": "stdout",
     "output_type": "stream",
     "text": [
      "el modelo elije al real mejor un 52.0% de las veces\n"
     ]
    },
    {
     "name": "stderr",
     "output_type": "stream",
     "text": [
      "\n"
     ]
    }
   ],
   "source": [
    "# cazatalentos 2\n",
    "jugadores = 200\n",
    "cantidad_tiros = 100\n",
    "\n",
    "res_2 = montecarlo(jugadores,mejor,cantidad_tiros,simulaciones)\n",
    "lista_def.append((res_2*80, 'caz_2'))"
   ]
  },
  {
   "cell_type": "code",
   "execution_count": 20,
   "id": "6643e48a-cf52-4991-94dd-647012a86d04",
   "metadata": {
    "tags": []
   },
   "outputs": [
    {
     "name": "stderr",
     "output_type": "stream",
     "text": [
      "100%|█████████████████████████████████████████████████████████████████████████| 10000/10000 [00:00<00:00, 12192.38it/s]"
     ]
    },
    {
     "name": "stdout",
     "output_type": "stream",
     "text": [
      "el modelo elije al real mejor un 93.78% de las veces\n"
     ]
    },
    {
     "name": "stderr",
     "output_type": "stream",
     "text": [
      "\n"
     ]
    }
   ],
   "source": [
    "# cazatalentos 3\n",
    "jugadores = 2\n",
    "cantidad_tiros = 100\n",
    "\n",
    "res_3 = montecarlo(jugadores,mejor,cantidad_tiros,simulaciones)\n",
    "lista_def.append((res_3*80, 'caz_3'))"
   ]
  },
  {
   "cell_type": "code",
   "execution_count": 23,
   "id": "b62b8b2b-4e30-41d0-82cf-d5f3faf8cd31",
   "metadata": {
    "tags": []
   },
   "outputs": [
    {
     "name": "stderr",
     "output_type": "stream",
     "text": [
      "100%|██████████████████████████████████████████████████████████████████████████| 10000/10000 [00:04<00:00, 2472.68it/s]"
     ]
    },
    {
     "name": "stdout",
     "output_type": "stream",
     "text": [
      "el modelo elije al real mejor un 20.119999999999997% de las veces\n"
     ]
    },
    {
     "name": "stderr",
     "output_type": "stream",
     "text": [
      "\n"
     ]
    }
   ],
   "source": [
    "# cazatalentos 4\n",
    "jugadores = 50\n",
    "cantidad_tiros = 10\n",
    "\n",
    "res_4 = montecarlo(jugadores,mejor,cantidad_tiros,simulaciones)\n",
    "lista_def.append((res_4*90, 'caz_4'))"
   ]
  },
  {
   "cell_type": "code",
   "execution_count": 24,
   "id": "55117548-834a-4892-b055-6e1aabcd9889",
   "metadata": {
    "tags": []
   },
   "outputs": [
    {
     "name": "stderr",
     "output_type": "stream",
     "text": [
      "100%|█████████████████████████████████████████████████████████████████████████| 10000/10000 [00:00<00:00, 15160.31it/s]"
     ]
    },
    {
     "name": "stdout",
     "output_type": "stream",
     "text": [
      "el modelo elije al real mejor un 99.92999999999999% de las veces\n"
     ]
    },
    {
     "name": "stderr",
     "output_type": "stream",
     "text": [
      "\n"
     ]
    }
   ],
   "source": [
    "# cazatalentos 5\n",
    "jugadores = 1\n",
    "cantidad_tiros = 100\n",
    "\n",
    "res_5 = montecarlo(jugadores,mejor,cantidad_tiros,simulaciones)\n",
    "lista_def.append((res_5*80, 'caz_5'))"
   ]
  },
  {
   "cell_type": "code",
   "execution_count": 25,
   "id": "ebaea8b7-c1bb-4f9f-b5e2-190bb381e3c2",
   "metadata": {
    "tags": []
   },
   "outputs": [],
   "source": [
    "def cazatalentos_ronda1(jugadores, num_seleccionados, cantidad_tiros):\n",
    "    peloton = create_peloton(jugadores)\n",
    "    vec_ftirar = np.vectorize(ftirar)\n",
    "    vaciertos = vec_ftirar(peloton, cantidad_tiros)\n",
    "    mejores_indices = np.argpartition(vaciertos, -num_seleccionados)[-num_seleccionados:]\n",
    "    mejores = peloton[mejores_indices]\n",
    "    return mejores\n",
    "\n",
    "def cazatalentos_6(jugadores, num_seleccionados, cantidad_tiros_ronda1, mejor, cantidad_tiros_ronda2, simulaciones):\n",
    "    primero_ganador = 0\n",
    "    \n",
    "    for i in tqdm(range(simulaciones)):\n",
    "        # Ronda 1: seleccionamos los mejores jugadores\n",
    "        mejores_ronda1 = cazatalentos_ronda1(jugadores, num_seleccionados, cantidad_tiros_ronda1)\n",
    "        \n",
    "        # Ronda 2: aplicamos el proceso de Monte Carlo con los mejores jugadores de la Ronda 1\n",
    "        total_jugadores = np.append(mejor, mejores_ronda1)\n",
    "        vec_ftirar = np.vectorize(ftirar)\n",
    "        vaciertos = vec_ftirar(total_jugadores, cantidad_tiros_ronda2)\n",
    "        mejor_ronda2 = np.argmax(vaciertos)\n",
    "        \n",
    "        if mejor_ronda2 == 0:\n",
    "            primero_ganador += 1\n",
    "    \n",
    "    print(f'el modelo elije al real mejor un {100*round(primero_ganador/simulaciones,4)}% de las veces')\n",
    "    return primero_ganador/simulaciones"
   ]
  },
  {
   "cell_type": "code",
   "execution_count": 26,
   "id": "f87c2f87-46cf-42f9-b405-6243f29e49dd",
   "metadata": {
    "tags": []
   },
   "outputs": [
    {
     "name": "stderr",
     "output_type": "stream",
     "text": [
      "100%|███████████████████████████████████████████████████████████████████████████| 10000/10000 [00:12<00:00, 771.69it/s]"
     ]
    },
    {
     "name": "stdout",
     "output_type": "stream",
     "text": [
      "el modelo elije al real mejor un 88.37% de las veces\n"
     ]
    },
    {
     "name": "stderr",
     "output_type": "stream",
     "text": [
      "\n"
     ]
    }
   ],
   "source": [
    "jugadores = 100\n",
    "num_seleccionados = 5\n",
    "cantidad_tiros_ronda1 = 50\n",
    "cantidad_tiros_ronda2 = 100\n",
    "\n",
    "res_6 = cazatalentos_6(jugadores, num_seleccionados, cantidad_tiros_ronda1, mejor, cantidad_tiros_ronda2, simulaciones)\n",
    "lista_def.append((res_6*80, 'caz_6'))"
   ]
  },
  {
   "cell_type": "code",
   "execution_count": 27,
   "id": "7bf16578-80f1-4a35-8342-4aaa1d932d49",
   "metadata": {
    "tags": []
   },
   "outputs": [],
   "source": [
    "def cazatalentos_7(jugadores, num_seleccionados, mejor, cantidad_tiros_ronda2, simulaciones):\n",
    "    primero_ganador = 0\n",
    "\n",
    "    for i in tqdm(range(simulaciones)):\n",
    "        # Ronda 1: eliminamos jugadores si fallan un tiro libre\n",
    "        peloton_ronda1 = create_peloton(jugadores)\n",
    "        jugadores_activos = np.copy(peloton_ronda1)\n",
    "        while len(jugadores_activos) > num_seleccionados:\n",
    "            tiros = np.random.rand(len(jugadores_activos))\n",
    "            jugadores_activos = jugadores_activos[tiros < jugadores_activos]\n",
    "\n",
    "        # Ronda 2: aplicamos el proceso de Monte Carlo con los mejores jugadores de la Ronda 1\n",
    "        total_jugadores = np.append(mejor, jugadores_activos)\n",
    "        vec_ftirar_ronda2 = np.vectorize(ftirar)\n",
    "        vaciertos_ronda2 = vec_ftirar_ronda2(total_jugadores, cantidad_tiros_ronda2)\n",
    "        mejor_ronda2 = np.argmax(vaciertos_ronda2)\n",
    "\n",
    "        if mejor_ronda2 == 0:\n",
    "            primero_ganador += 1\n",
    "\n",
    "    print(f'el modelo elije al real mejor un {100*round(primero_ganador/simulaciones,4)}% de las veces')\n",
    "    return primero_ganador/simulaciones"
   ]
  },
  {
   "cell_type": "code",
   "execution_count": 28,
   "id": "9aa3141b-66d6-48e6-9f9f-d68ae38ae028",
   "metadata": {
    "tags": []
   },
   "outputs": [
    {
     "name": "stderr",
     "output_type": "stream",
     "text": [
      "100%|██████████████████████████████████████████████████████████████████████████| 10000/10000 [00:01<00:00, 5997.45it/s]"
     ]
    },
    {
     "name": "stdout",
     "output_type": "stream",
     "text": [
      "el modelo elije al real mejor un 93.35% de las veces\n"
     ]
    },
    {
     "name": "stderr",
     "output_type": "stream",
     "text": [
      "\n"
     ]
    }
   ],
   "source": [
    "jugadores = 100\n",
    "num_seleccionados = 5\n",
    "cantidad_tiros_ronda2 = 100\n",
    "\n",
    "res_7 = cazatalentos_7(jugadores, num_seleccionados, mejor, cantidad_tiros_ronda2, simulaciones)\n",
    "lista_def.append((res_7*80, 'caz_7'))"
   ]
  },
  {
   "cell_type": "code",
   "execution_count": 29,
   "id": "39546887-892f-47d1-bf93-3686671d88c3",
   "metadata": {
    "tags": []
   },
   "outputs": [],
   "source": [
    "def cazatalentos_8(jugadores, jugadores_con_datos, mejor, cantidad_tiros_ronda1, simulaciones):\n",
    "    primero_ganador = 0\n",
    "\n",
    "    for i in tqdm(range(simulaciones)):\n",
    "        # Primero, asumimos que el verdadero mejor jugador está entre los jugadores con datos\n",
    "        peloton_con_datos = create_peloton(jugadores_con_datos)\n",
    "        peloton_sin_datos = create_peloton(jugadores - jugadores_con_datos)\n",
    "        peloton = np.concatenate((peloton_con_datos, peloton_sin_datos))\n",
    "        \n",
    "        total_jugadores = np.append(mejor, peloton)\n",
    "        vec_ftirar_ronda1 = np.vectorize(ftirar)\n",
    "        vaciertos_ronda1 = vec_ftirar_ronda1(total_jugadores, cantidad_tiros_ronda1)\n",
    "        mejor_ronda1 = np.argmax(vaciertos_ronda1)\n",
    "\n",
    "        if mejor_ronda1 == 0:\n",
    "            primero_ganador += 1\n",
    "\n",
    "    print(f'el modelo elije al real mejor un {100*round(primero_ganador/simulaciones,4)}% de las veces')\n",
    "    return primero_ganador/simulaciones"
   ]
  },
  {
   "cell_type": "code",
   "execution_count": 34,
   "id": "7973677c-63c0-4e2a-89e5-26e91bcc98bd",
   "metadata": {
    "tags": []
   },
   "outputs": [
    {
     "name": "stderr",
     "output_type": "stream",
     "text": [
      "100%|███████████████████████████████████████████████████████████████████████████| 10000/10000 [00:16<00:00, 604.40it/s]"
     ]
    },
    {
     "name": "stdout",
     "output_type": "stream",
     "text": [
      "el modelo elije al real mejor un 61.01% de las veces\n"
     ]
    },
    {
     "name": "stderr",
     "output_type": "stream",
     "text": [
      "\n"
     ]
    }
   ],
   "source": [
    "jugadores = 100\n",
    "jugadores_con_datos = 30\n",
    "cantidad_tiros_ronda1 = 100\n",
    "\n",
    "res_8 = cazatalentos_8(jugadores, jugadores_con_datos, mejor, cantidad_tiros_ronda1, simulaciones)\n",
    "lista_def.append((res_8*85, 'caz_8'))"
   ]
  },
  {
   "cell_type": "code",
   "execution_count": 35,
   "id": "8fc8f2aa-6000-464e-b4c2-3859b8e98c73",
   "metadata": {
    "tags": []
   },
   "outputs": [],
   "source": [
    "def cazatalentos_9(jugadores, cantidad_tiros_observacion, mejores_seleccionados, mejor, cantidad_tiros_ronda2, simulaciones):\n",
    "    primero_ganador = 0\n",
    "    \n",
    "    for i in tqdm(range(simulaciones)):\n",
    "        # Primera ronda: observación de los jugadores sin tomar en cuenta los encestes\n",
    "        peloton = create_peloton(jugadores)\n",
    "        \n",
    "        # Segunda ronda: aplicamos el proceso de Monte Carlo con los mejores jugadores seleccionados en la observación\n",
    "        mejores_jugadores = np.random.choice(peloton, size=mejores_seleccionados, replace=False)\n",
    "        total_jugadores = np.append(mejor, mejores_jugadores)\n",
    "        vec_ftirar_ronda2 = np.vectorize(ftirar)\n",
    "        vaciertos_ronda2 = vec_ftirar_ronda2(total_jugadores, cantidad_tiros_ronda2)\n",
    "        mejor_ronda2 = np.argmax(vaciertos_ronda2)\n",
    "        \n",
    "        if mejor_ronda2 == 0:\n",
    "            primero_ganador += 1\n",
    "\n",
    "    print(f'el modelo elije al real mejor un {100*round(primero_ganador/simulaciones,4)}% de las veces')\n",
    "    return primero_ganador/simulaciones"
   ]
  },
  {
   "cell_type": "code",
   "execution_count": 36,
   "id": "4dd33c15-3f96-4539-871b-6cf757b78326",
   "metadata": {
    "tags": []
   },
   "outputs": [
    {
     "name": "stderr",
     "output_type": "stream",
     "text": [
      "100%|██████████████████████████████████████████████████████████████████████████| 10000/10000 [00:01<00:00, 6881.36it/s]"
     ]
    },
    {
     "name": "stdout",
     "output_type": "stream",
     "text": [
      "el modelo elije al real mejor un 96.61% de las veces\n"
     ]
    },
    {
     "name": "stderr",
     "output_type": "stream",
     "text": [
      "\n"
     ]
    }
   ],
   "source": [
    "jugadores = 100\n",
    "cantidad_tiros_observacion = 5\n",
    "mejores_seleccionados = 2\n",
    "cantidad_tiros_ronda2 = 100\n",
    "\n",
    "res_9 = cazatalentos_9(jugadores, cantidad_tiros_observacion, mejores_seleccionados, mejor, cantidad_tiros_ronda2, simulaciones)\n",
    "lista_def.append((res_9*81, 'caz_9'))"
   ]
  },
  {
   "cell_type": "code",
   "execution_count": 38,
   "id": "423ed878-d46b-420a-9cfa-ae30ad474f49",
   "metadata": {},
   "outputs": [
    {
     "data": {
      "text/plain": [
       "[(18.108, 'caz_4'),\n",
       " (41.6, 'caz_2'),\n",
       " (51.8585, 'caz_8'),\n",
       " (55.024, 'caz_1'),\n",
       " (70.696, 'caz_6'),\n",
       " (74.68, 'caz_7'),\n",
       " (75.024, 'caz_3'),\n",
       " (78.2541, 'caz_9'),\n",
       " (79.944, 'caz_5')]"
      ]
     },
     "execution_count": 38,
     "metadata": {},
     "output_type": "execute_result"
    }
   ],
   "source": [
    "sorted(lista_def)"
   ]
  },
  {
   "cell_type": "code",
   "execution_count": null,
   "id": "f84c16c5-3700-4282-b467-bb0be8de9a4c",
   "metadata": {},
   "outputs": [],
   "source": []
  }
 ],
 "metadata": {
  "kernelspec": {
   "display_name": "Python 3 (ipykernel)",
   "language": "python",
   "name": "python3"
  },
  "language_info": {
   "codemirror_mode": {
    "name": "ipython",
    "version": 3
   },
   "file_extension": ".py",
   "mimetype": "text/x-python",
   "name": "python",
   "nbconvert_exporter": "python",
   "pygments_lexer": "ipython3",
   "version": "3.10.10"
  }
 },
 "nbformat": 4,
 "nbformat_minor": 5
}
