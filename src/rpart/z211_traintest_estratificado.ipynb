{
 "cells": [
  {
   "cell_type": "code",
   "execution_count": 21,
   "id": "86409510-f921-4268-a015-f6bdd77548f8",
   "metadata": {
    "tags": []
   },
   "outputs": [
    {
     "data": {
      "text/html": [
       "<table class=\"dataframe\">\n",
       "<caption>A matrix: 2 × 6 of type dbl</caption>\n",
       "<thead>\n",
       "\t<tr><th></th><th scope=col>used</th><th scope=col>(Mb)</th><th scope=col>gc trigger</th><th scope=col>(Mb)</th><th scope=col>max used</th><th scope=col>(Mb)</th></tr>\n",
       "</thead>\n",
       "<tbody>\n",
       "\t<tr><th scope=row>Ncells</th><td> 715327</td><td>38.3</td><td> 1403282</td><td> 75.0</td><td>  1337187</td><td>  71.5</td></tr>\n",
       "\t<tr><th scope=row>Vcells</th><td>1402341</td><td>10.7</td><td>71112958</td><td>542.6</td><td>146947290</td><td>1121.2</td></tr>\n",
       "</tbody>\n",
       "</table>\n"
      ],
      "text/latex": [
       "A matrix: 2 × 6 of type dbl\n",
       "\\begin{tabular}{r|llllll}\n",
       "  & used & (Mb) & gc trigger & (Mb) & max used & (Mb)\\\\\n",
       "\\hline\n",
       "\tNcells &  715327 & 38.3 &  1403282 &  75.0 &   1337187 &   71.5\\\\\n",
       "\tVcells & 1402341 & 10.7 & 71112958 & 542.6 & 146947290 & 1121.2\\\\\n",
       "\\end{tabular}\n"
      ],
      "text/markdown": [
       "\n",
       "A matrix: 2 × 6 of type dbl\n",
       "\n",
       "| <!--/--> | used | (Mb) | gc trigger | (Mb) | max used | (Mb) |\n",
       "|---|---|---|---|---|---|---|\n",
       "| Ncells |  715327 | 38.3 |  1403282 |  75.0 |   1337187 |   71.5 |\n",
       "| Vcells | 1402341 | 10.7 | 71112958 | 542.6 | 146947290 | 1121.2 |\n",
       "\n"
      ],
      "text/plain": [
       "       used    (Mb) gc trigger (Mb)  max used  (Mb)  \n",
       "Ncells  715327 38.3  1403282    75.0   1337187   71.5\n",
       "Vcells 1402341 10.7 71112958   542.6 146947290 1121.2"
      ]
     },
     "metadata": {},
     "output_type": "display_data"
    },
    {
     "name": "stdout",
     "output_type": "stream",
     "text": [
      "Testing total:  49403 \n",
      "Testing BAJA+2:  380 \n",
      "Estimulos:  3441 \n",
      "Aciertos (BAJA+2):  219 \n",
      "Semilla:  106427 \n",
      "Ganancia en testing (normalizada):  53190000 \n",
      "\n"
     ]
    }
   ],
   "source": [
    "rm( list=ls() )  #Borro todos los objetos\n",
    "gc()   #Garbage Collection\n",
    "\n",
    "require(\"data.table\")\n",
    "require(\"rpart\")\n",
    "\n",
    "#------------------------------------------------------------------------------\n",
    "#particionar agrega una columna llamada fold a un dataset que consiste en una particion estratificada segun agrupa\n",
    "# particionar( data=dataset, division=c(70,30), agrupa=clase_ternaria, seed=semilla)   crea una particion 70, 30 \n",
    "\n",
    "particionar  <- function( data,  division, agrupa=\"\",  campo=\"fold\", start=1, seed=NA )\n",
    "{\n",
    "  if( !is.na(seed) )   set.seed( seed )\n",
    "\n",
    "  bloque  <- unlist( mapply(  function(x,y) { rep( y, x )} ,   division,  seq( from=start, length.out=length(division) )  ) )  \n",
    "\n",
    "  data[ , (campo) :=  sample( rep( bloque, ceiling(.N/length(bloque))) )[1:.N],\n",
    "          by= agrupa ]\n",
    "}\n",
    "#------------------------------------------------------------------------------\n",
    "#------------------------------------------------------------------------------\n",
    "\n",
    "# Establezco el Working Directory\n",
    "setwd(\".\")\n",
    "\n",
    "# Cargo los datos\n",
    "dataset  <- fread(\"../datasets/dataset_pequeno.csv\")\n",
    "\n",
    "#trabajo solo con los datos con clase, es decir 202107\n",
    "dataset  <- dataset[ clase_ternaria!= \"\" ]\n",
    "\n",
    "#particiono estratificadamente el dataset\n",
    "#Cambiar por la primer semilla de cada uno !\n",
    "\n",
    "# Lista de semillas a probar\n",
    "semillas <- c(102191, 677213, 727817, 311237, 660719, 106427)\n",
    "\n",
    "semilla <- 106427\n",
    "particionar(dataset, division = c(7, 3), agrupa = \"clase_ternaria\", seed = semilla)\n",
    "\n",
    "\n",
    "param_basicos  <- list( \"cp\"=         -1,  #complejidad minima\n",
    "                        \"minsplit\"=  400,  #minima cantidad de registros en un nodo para hacer el split\n",
    "                        \"minbucket\"=  10,  #minima cantidad de registros en una hoja\n",
    "                        \"maxdepth\"=    8 ) #profundidad máxima del arbol\n",
    "\n",
    "#genero el modelo\n",
    "modelo  <- rpart(\"clase_ternaria ~ .\",     #quiero predecir clase_ternaria a partir del resto\n",
    "                 data= dataset[ fold==1],  #fold==1  es training,  el 70% de los datos\n",
    "                 xval= 0,\n",
    "                 control=  param_basicos )  #aqui van los parametros\n",
    "\n",
    "\n",
    "#aplico el modelo a los datos de testing\n",
    "prediccion  <- predict( modelo,   #el modelo que genere recien\n",
    "                        dataset[ fold==2],  #fold==2  es testing, el 30% de los datos\n",
    "                        type= \"prob\") #type= \"prob\"  es que devuelva la probabilidad\n",
    "\n",
    "#prediccion es una matriz con TRES columnas, llamadas \"BAJA+1\", \"BAJA+2\"  y \"CONTINUA\"\n",
    "#cada columna es el vector de probabilidades \n",
    "\n",
    "#agrego una columna que es la de las ganancias\n",
    "dataset[  , ganancia :=  ifelse( clase_ternaria==\"BAJA+2\", 117000, -3000 ) ]\n",
    "\n",
    "#para testing agrego la probabilidad\n",
    "dataset[ fold==2 , prob_baja2 := prediccion[, \"BAJA+2\"] ]\n",
    "\n",
    "#calculo la ganancia en testing  qu es fold==2\n",
    "ganancia_test  <- dataset[ fold==2 & prob_baja2 >  0.025, sum(ganancia) ]\n",
    "\n",
    "#escalo la ganancia como si fuera todo el dataset\n",
    "ganancia_test_normalizada  <-  ganancia_test / 0.3\n",
    "\n",
    "estimulos  <- dataset[ fold==2 & prob_baja2 > 0.025 , .N ]\n",
    "aciertos   <- dataset[ fold==2 & prob_baja2 > 0.025 & clase_ternaria ==\"BAJA+2\", .N ]\n",
    "\n",
    "\n",
    "cat( \"Testing total: \",  dataset[ fold==2, .N ], \"\\n\" )\n",
    "cat( \"Testing BAJA+2: \", dataset[ fold==2 & clase_ternaria ==\"BAJA+2\", .N ], \"\\n\" )  \n",
    "\n",
    "cat( \"Estimulos: \", estimulos, \"\\n\" )\n",
    "cat( \"Aciertos (BAJA+2): \",  aciertos,  \"\\n\" )\n",
    "\n",
    "# Imprimir la semilla actual y la ganancia en testing (normalizada)\n",
    "cat(\"Semilla: \", semilla, \"\\n\")\n",
    "cat(\"Ganancia en testing (normalizada): \", ganancia_test_normalizada, \"\\n\\n\")\n"
   ]
  },
  {
   "cell_type": "code",
   "execution_count": null,
   "id": "d57c40a0-ad2f-4738-82b8-32bdb8fe07ce",
   "metadata": {},
   "outputs": [],
   "source": []
  },
  {
   "cell_type": "code",
   "execution_count": null,
   "id": "1aed02a0-118a-4003-9468-a70638af9049",
   "metadata": {},
   "outputs": [],
   "source": [
    "Semilla:  102191 \n",
    "Ganancia en testing (normalizada):  58760000 "
   ]
  },
  {
   "cell_type": "code",
   "execution_count": null,
   "id": "46e17dbf-a910-4b29-8909-e0a87e5f0721",
   "metadata": {},
   "outputs": [],
   "source": [
    "Semilla:  677213 \n",
    "Ganancia en testing (normalizada):  63180000 "
   ]
  },
  {
   "cell_type": "code",
   "execution_count": null,
   "id": "3549e83b-7e69-4f41-b772-6a7af8b40d13",
   "metadata": {},
   "outputs": [],
   "source": [
    "Semilla:  727817 \n",
    "Ganancia en testing (normalizada):  57200000 "
   ]
  },
  {
   "cell_type": "code",
   "execution_count": null,
   "id": "f664efaf-c331-4eeb-a231-0b963041878a",
   "metadata": {},
   "outputs": [],
   "source": [
    "Semilla:  311237 \n",
    "Ganancia en testing (normalizada):  53940000 "
   ]
  },
  {
   "cell_type": "code",
   "execution_count": null,
   "id": "0ac5a695-7e4b-42cf-bc13-0ed7e34c2d74",
   "metadata": {},
   "outputs": [],
   "source": [
    "Semilla:  660719 \n",
    "Ganancia en testing (normalizada):  50360000"
   ]
  },
  {
   "cell_type": "code",
   "execution_count": null,
   "id": "bc1eb8a1-913e-4c11-b592-1ddb09234acc",
   "metadata": {},
   "outputs": [],
   "source": [
    "Semilla:  106427 \n",
    "Ganancia en testing (normalizada):  53190000 "
   ]
  }
 ],
 "metadata": {
  "kernelspec": {
   "display_name": "R",
   "language": "R",
   "name": "ir"
  },
  "language_info": {
   "codemirror_mode": "r",
   "file_extension": ".r",
   "mimetype": "text/x-r-source",
   "name": "R",
   "pygments_lexer": "r",
   "version": "4.3.0"
  }
 },
 "nbformat": 4,
 "nbformat_minor": 5
}
