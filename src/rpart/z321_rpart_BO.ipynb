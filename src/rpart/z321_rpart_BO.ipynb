{
 "cells": [
  {
   "cell_type": "code",
   "execution_count": null,
   "id": "5caa41b6-59e7-48a6-ae2b-bdbb0e1722ac",
   "metadata": {},
   "outputs": [],
   "source": [
    "semillas <- c(677213, 727817, 311237, 660719, 106427)"
   ]
  },
  {
   "cell_type": "code",
   "execution_count": null,
   "id": "e7557a54-4445-4277-84de-600409f4eaef",
   "metadata": {},
   "outputs": [],
   "source": [
    "# Instalar paquetes faltantes\n",
    "install.packages(\"rlist\")\n",
    "install.packages(\"DiceKriging\")\n",
    "install.packages(\"mlrMBO\")\n",
    "\n",
    "# Cargar paquetes\n",
    "library(data.table)\n",
    "library(rlist)\n",
    "library(rpart)\n",
    "library(parallel)\n",
    "library(DiceKriging)\n",
    "library(mlrMBO)\n"
   ]
  },
  {
   "cell_type": "code",
   "execution_count": 3,
   "id": "1d24fb5c-8b35-4bc7-80d7-ace9f21418ce",
   "metadata": {
    "tags": []
   },
   "outputs": [
    {
     "data": {
      "text/html": [
       "<table class=\"dataframe\">\n",
       "<caption>A matrix: 2 × 6 of type dbl</caption>\n",
       "<thead>\n",
       "\t<tr><th></th><th scope=col>used</th><th scope=col>(Mb)</th><th scope=col>gc trigger</th><th scope=col>(Mb)</th><th scope=col>max used</th><th scope=col>(Mb)</th></tr>\n",
       "</thead>\n",
       "<tbody>\n",
       "\t<tr><th scope=row>Ncells</th><td>2149995</td><td>114.9</td><td>4250637</td><td>227.1</td><td>2975991</td><td>159</td></tr>\n",
       "\t<tr><th scope=row>Vcells</th><td>3741275</td><td> 28.6</td><td>8388608</td><td> 64.0</td><td>8388607</td><td> 64</td></tr>\n",
       "</tbody>\n",
       "</table>\n"
      ],
      "text/latex": [
       "A matrix: 2 × 6 of type dbl\n",
       "\\begin{tabular}{r|llllll}\n",
       "  & used & (Mb) & gc trigger & (Mb) & max used & (Mb)\\\\\n",
       "\\hline\n",
       "\tNcells & 2149995 & 114.9 & 4250637 & 227.1 & 2975991 & 159\\\\\n",
       "\tVcells & 3741275 &  28.6 & 8388608 &  64.0 & 8388607 &  64\\\\\n",
       "\\end{tabular}\n"
      ],
      "text/markdown": [
       "\n",
       "A matrix: 2 × 6 of type dbl\n",
       "\n",
       "| <!--/--> | used | (Mb) | gc trigger | (Mb) | max used | (Mb) |\n",
       "|---|---|---|---|---|---|---|\n",
       "| Ncells | 2149995 | 114.9 | 4250637 | 227.1 | 2975991 | 159 |\n",
       "| Vcells | 3741275 |  28.6 | 8388608 |  64.0 | 8388607 |  64 |\n",
       "\n"
      ],
      "text/plain": [
       "       used    (Mb)  gc trigger (Mb)  max used (Mb)\n",
       "Ncells 2149995 114.9 4250637    227.1 2975991  159 \n",
       "Vcells 3741275  28.6 8388608     64.0 8388607   64 "
      ]
     },
     "metadata": {},
     "output_type": "display_data"
    },
    {
     "name": "stderr",
     "output_type": "stream",
     "text": [
      "Computing y column(s) for design. Not provided.\n",
      "\n"
     ]
    },
    {
     "name": "stdout",
     "output_type": "stream",
     "text": [
      "20230430 135357\t-0.317384413564287\t5740\t2849\t14\t5\t49956000\t1\n",
      "20230430 135418\t-0.682395569476648\t5053\t2424\t9\t5\t50391000\t2\n",
      "20230430 135434\t-0.458169154466304\t4999\t1290\t5\t5\t51231000\t3\n",
      "20230430 135503\t-0.81662905812409\t2050\t56\t12\t5\t54078000\t4\n",
      "20230430 135524\t-0.0170150642457882\t7404\t3304\t11\t5\t49557000\t5\n",
      "20230430 135536\t0.0942951177203213\t6301\t2244\t19\t5\t0\t6\n",
      "20230430 135557\t-0.961971155609353\t3732\t1753\t8\t5\t52605000\t7\n",
      "20230430 135625\t-0.874425867183891\t6649\t265\t15\t5\t49350000\t8\n",
      "20230430 135641\t-0.225711673694604\t7704\t568\t6\t5\t50589000\t9\n",
      "20230430 135706\t-0.704165950244559\t3746\t550\t10\t5\t52911000\t10\n",
      "20230430 135727\t-0.676042545982636\t6822\t2679\t16\t5\t50565000\t11\n",
      "20230430 135750\t-0.215972195282978\t5422\t1621\t11\t5\t50706000\t12\n",
      "20230430 135814\t-0.159611638868227\t7819\t1746\t15\t5\t50589000\t13\n",
      "20230430 135833\t-0.218332983305057\t7195\t1412\t8\t5\t50589000\t14\n",
      "20230430 135854\t-0.718950437987223\t7448\t3663\t20\t5\t50196000\t15\n",
      "20230430 135910\t0.0107251847162844\t2702\t823\t6\t5\t0\t16\n"
     ]
    },
    {
     "name": "stderr",
     "output_type": "stream",
     "text": [
      "[mbo] 0: cp=-0.317; minsplit=5740; minbucket=2849; maxdepth=14 : y = 5e+07 : 22.8 secs : initdesign\n",
      "\n",
      "[mbo] 0: cp=-0.682; minsplit=5053; minbucket=2424; maxdepth=9 : y = 5.04e+07 : 21.2 secs : initdesign\n",
      "\n",
      "[mbo] 0: cp=-0.458; minsplit=4999; minbucket=1290; maxdepth=5 : y = 5.12e+07 : 15.6 secs : initdesign\n",
      "\n",
      "[mbo] 0: cp=-0.817; minsplit=2050; minbucket=56; maxdepth=12 : y = 5.41e+07 : 29.0 secs : initdesign\n",
      "\n",
      "[mbo] 0: cp=-0.017; minsplit=7404; minbucket=3304; maxdepth=11 : y = 4.96e+07 : 21.0 secs : initdesign\n",
      "\n",
      "[mbo] 0: cp=0.0943; minsplit=6301; minbucket=2244; maxdepth=19 : y = 0 : 12.2 secs : initdesign\n",
      "\n",
      "[mbo] 0: cp=-0.962; minsplit=3732; minbucket=1753; maxdepth=8 : y = 5.26e+07 : 20.8 secs : initdesign\n",
      "\n",
      "[mbo] 0: cp=-0.874; minsplit=6649; minbucket=265; maxdepth=15 : y = 4.94e+07 : 28.1 secs : initdesign\n",
      "\n",
      "[mbo] 0: cp=-0.226; minsplit=7704; minbucket=568; maxdepth=6 : y = 5.06e+07 : 16.3 secs : initdesign\n",
      "\n",
      "[mbo] 0: cp=-0.704; minsplit=3746; minbucket=550; maxdepth=10 : y = 5.29e+07 : 24.3 secs : initdesign\n",
      "\n",
      "[mbo] 0: cp=-0.676; minsplit=6822; minbucket=2679; maxdepth=16 : y = 5.06e+07 : 21.7 secs : initdesign\n",
      "\n",
      "[mbo] 0: cp=-0.216; minsplit=5422; minbucket=1621; maxdepth=11 : y = 5.07e+07 : 23.1 secs : initdesign\n",
      "\n",
      "[mbo] 0: cp=-0.16; minsplit=7819; minbucket=1746; maxdepth=15 : y = 5.06e+07 : 23.4 secs : initdesign\n",
      "\n",
      "[mbo] 0: cp=-0.218; minsplit=7195; minbucket=1412; maxdepth=8 : y = 5.06e+07 : 19.8 secs : initdesign\n",
      "\n",
      "[mbo] 0: cp=-0.719; minsplit=7448; minbucket=3663; maxdepth=20 : y = 5.02e+07 : 20.3 secs : initdesign\n",
      "\n",
      "[mbo] 0: cp=0.0107; minsplit=2702; minbucket=823; maxdepth=6 : y = 0 : 16.4 secs : initdesign\n",
      "\n"
     ]
    },
    {
     "name": "stdout",
     "output_type": "stream",
     "text": [
      "20230430 135922\t-0.0831679976360584\t7999\t3985\t3\t5\t49557000\t17\n"
     ]
    },
    {
     "name": "stderr",
     "output_type": "stream",
     "text": [
      "[mbo] 1: cp=-0.0832; minsplit=7999; minbucket=3985; maxdepth=3 : y = 4.96e+07 : 10.8 secs : infill_ei\n",
      "\n"
     ]
    },
    {
     "name": "stdout",
     "output_type": "stream",
     "text": [
      "20230430 135945\t-0.166434592196623\t7986\t3199\t14\t5\t50082000\t18\n"
     ]
    },
    {
     "name": "stderr",
     "output_type": "stream",
     "text": [
      "[mbo] 2: cp=-0.166; minsplit=7986; minbucket=3199; maxdepth=14 : y = 5.01e+07 : 21.1 secs : infill_ei\n",
      "\n"
     ]
    },
    {
     "name": "stdout",
     "output_type": "stream",
     "text": [
      "20230430 140013\t-0.809283901585454\t2618\t1304\t12\t5\t53277000\t19\n"
     ]
    },
    {
     "name": "stderr",
     "output_type": "stream",
     "text": [
      "[mbo] 3: cp=-0.809; minsplit=2618; minbucket=1304; maxdepth=12 : y = 5.33e+07 : 26.4 secs : infill_ei\n",
      "\n"
     ]
    },
    {
     "name": "stdout",
     "output_type": "stream",
     "text": [
      "20230430 140025\t-0.881348671991103\t3360\t13\t3\t5\t50613000\t20\n"
     ]
    },
    {
     "name": "stderr",
     "output_type": "stream",
     "text": [
      "[mbo] 4: cp=-0.881; minsplit=3360; minbucket=13; maxdepth=3 : y = 5.06e+07 : 11.3 secs : infill_ei\n",
      "\n"
     ]
    },
    {
     "name": "stdout",
     "output_type": "stream",
     "text": [
      "20230430 140058\t-0.934512532382535\t1602\t746\t20\t5\t51198000\t21\n"
     ]
    },
    {
     "name": "stderr",
     "output_type": "stream",
     "text": [
      "[mbo] 5: cp=-0.935; minsplit=1602; minbucket=746; maxdepth=20 : y = 5.12e+07 : 31.2 secs : infill_ei\n",
      "\n"
     ]
    },
    {
     "name": "stdout",
     "output_type": "stream",
     "text": [
      "20230430 140135\t-0.724282807990458\t832\t278\t20\t5\t52830000\t22\n"
     ]
    },
    {
     "name": "stderr",
     "output_type": "stream",
     "text": [
      "[mbo] 6: cp=-0.724; minsplit=832; minbucket=278; maxdepth=20 : y = 5.28e+07 : 36.0 secs : infill_ei\n",
      "\n"
     ]
    },
    {
     "name": "stdout",
     "output_type": "stream",
     "text": [
      "20230430 140159\t-0.323117357249609\t7997\t1717\t20\t5\t50589000\t23\n"
     ]
    },
    {
     "name": "stderr",
     "output_type": "stream",
     "text": [
      "[mbo] 7: cp=-0.323; minsplit=7997; minbucket=1717; maxdepth=20 : y = 5.06e+07 : 23.6 secs : infill_ei\n",
      "\n"
     ]
    },
    {
     "name": "stdout",
     "output_type": "stream",
     "text": [
      "20230430 140224\t-0.403363412151475\t7967\t210\t11\t5\t49683000\t24\n"
     ]
    },
    {
     "name": "stderr",
     "output_type": "stream",
     "text": [
      "[mbo] 8: cp=-0.403; minsplit=7967; minbucket=210; maxdepth=11 : y = 4.97e+07 : 23.8 secs : infill_ei\n",
      "\n"
     ]
    },
    {
     "name": "stdout",
     "output_type": "stream",
     "text": [
      "20230430 140249\t-0.874039157839584\t5011\t2503\t20\t5\t50274000\t25\n"
     ]
    },
    {
     "name": "stderr",
     "output_type": "stream",
     "text": [
      "[mbo] 9: cp=-0.874; minsplit=5011; minbucket=2503; maxdepth=20 : y = 5.03e+07 : 23.0 secs : infill_ei\n",
      "\n"
     ]
    },
    {
     "name": "stdout",
     "output_type": "stream",
     "text": [
      "20230430 140333\t-0.548192275164649\t3159\t2\t20\t5\t51519000\t26\n"
     ]
    },
    {
     "name": "stderr",
     "output_type": "stream",
     "text": [
      "[mbo] 10: cp=-0.548; minsplit=3159; minbucket=2; maxdepth=20 : y = 5.15e+07 : 43.6 secs : infill_ei\n",
      "\n"
     ]
    },
    {
     "name": "stdout",
     "output_type": "stream",
     "text": [
      "20230430 140424\t-0.413230556840719\t448\t2\t20\t5\t50424000\t27\n"
     ]
    },
    {
     "name": "stderr",
     "output_type": "stream",
     "text": [
      "[mbo] 11: cp=-0.413; minsplit=448; minbucket=2; maxdepth=20 : y = 5.04e+07 : 49.4 secs : infill_ei\n",
      "\n",
      "Saved the current state after iteration 12 in the file HT321.RDATA.\n",
      "\n"
     ]
    },
    {
     "name": "stdout",
     "output_type": "stream",
     "text": [
      "20230430 140452\t-0.598779041952477\t2828\t1412\t20\t5\t52359000\t28\n"
     ]
    },
    {
     "name": "stderr",
     "output_type": "stream",
     "text": [
      "[mbo] 12: cp=-0.599; minsplit=2828; minbucket=1412; maxdepth=20 : y = 5.24e+07 : 26.5 secs : infill_ei\n",
      "\n"
     ]
    },
    {
     "name": "stdout",
     "output_type": "stream",
     "text": [
      "20230430 140505\t-0.608505413400019\t812\t3\t3\t5\t50613000\t29\n"
     ]
    },
    {
     "name": "stderr",
     "output_type": "stream",
     "text": [
      "[mbo] 13: cp=-0.609; minsplit=812; minbucket=3; maxdepth=3 : y = 5.06e+07 : 11.3 secs : infill_ei\n",
      "\n"
     ]
    },
    {
     "name": "stdout",
     "output_type": "stream",
     "text": [
      "20230430 140537\t-0.515955585727665\t1409\t696\t14\t5\t51948000\t30\n"
     ]
    },
    {
     "name": "stderr",
     "output_type": "stream",
     "text": [
      "[mbo] 14: cp=-0.516; minsplit=1409; minbucket=696; maxdepth=14 : y = 5.19e+07 : 30.6 secs : infill_ei\n",
      "\n"
     ]
    },
    {
     "name": "stdout",
     "output_type": "stream",
     "text": [
      "20230430 140554\t-0.802234437100547\t1140\t558\t5\t5\t53541000\t31\n"
     ]
    },
    {
     "name": "stderr",
     "output_type": "stream",
     "text": [
      "[mbo] 15: cp=-0.802; minsplit=1140; minbucket=558; maxdepth=5 : y = 5.35e+07 : 16.0 secs : infill_ei\n",
      "\n"
     ]
    },
    {
     "name": "stdout",
     "output_type": "stream",
     "text": [
      "20230430 140622\t-0.498668556204557\t4358\t2176\t17\t5\t52476000\t32\n"
     ]
    },
    {
     "name": "stderr",
     "output_type": "stream",
     "text": [
      "[mbo] 16: cp=-0.499; minsplit=4358; minbucket=2176; maxdepth=17 : y = 5.25e+07 : 25.9 secs : infill_ei\n",
      "\n"
     ]
    },
    {
     "name": "stdout",
     "output_type": "stream",
     "text": [
      "20230430 140704\t-0.376374984185774\t4724\t2\t20\t5\t50580000\t33\n"
     ]
    },
    {
     "name": "stderr",
     "output_type": "stream",
     "text": [
      "[mbo] 17: cp=-0.376; minsplit=4724; minbucket=2; maxdepth=20 : y = 5.06e+07 : 41.9 secs : infill_ei\n",
      "\n"
     ]
    },
    {
     "name": "stdout",
     "output_type": "stream",
     "text": [
      "20230430 140728\t-0.999973076221848\t7940\t3960\t12\t5\t49557000\t34\n"
     ]
    },
    {
     "name": "stderr",
     "output_type": "stream",
     "text": [
      "[mbo] 18: cp=-1; minsplit=7940; minbucket=3960; maxdepth=12 : y = 4.96e+07 : 22.3 secs : infill_ei\n",
      "\n"
     ]
    },
    {
     "name": "stdout",
     "output_type": "stream",
     "text": [
      "20230430 140746\t-0.523428996874799\t6681\t3335\t5\t5\t49557000\t35\n"
     ]
    },
    {
     "name": "stderr",
     "output_type": "stream",
     "text": [
      "[mbo] 19: cp=-0.523; minsplit=6681; minbucket=3335; maxdepth=5 : y = 4.96e+07 : 16.2 secs : infill_ei\n",
      "\n"
     ]
    },
    {
     "name": "stdout",
     "output_type": "stream",
     "text": [
      "20230430 140809\t-0.565638403516822\t7991\t1783\t10\t5\t50589000\t36\n"
     ]
    },
    {
     "name": "stderr",
     "output_type": "stream",
     "text": [
      "[mbo] 20: cp=-0.566; minsplit=7991; minbucket=1783; maxdepth=10 : y = 5.06e+07 : 21.9 secs : infill_ei\n",
      "\n"
     ]
    },
    {
     "name": "stdout",
     "output_type": "stream",
     "text": [
      "20230430 140851\t-0.999947002952604\t4746\t1\t20\t5\t49785000\t37\n"
     ]
    },
    {
     "name": "stderr",
     "output_type": "stream",
     "text": [
      "[mbo] 21: cp=-1; minsplit=4746; minbucket=1; maxdepth=20 : y = 4.98e+07 : 40.7 secs : infill_ei\n",
      "\n"
     ]
    },
    {
     "name": "stdout",
     "output_type": "stream",
     "text": [
      "20230430 140916\t-0.747324238019338\t1877\t1\t9\t5\t52233000\t38\n"
     ]
    },
    {
     "name": "stderr",
     "output_type": "stream",
     "text": [
      "[mbo] 22: cp=-0.747; minsplit=1877; minbucket=1; maxdepth=9 : y = 5.22e+07 : 23.9 secs : infill_ei\n",
      "\n"
     ]
    },
    {
     "name": "stdout",
     "output_type": "stream",
     "text": [
      "20230430 140953\t-0.831715501061305\t8\t4\t13\t5\t41514000\t39\n"
     ]
    },
    {
     "name": "stderr",
     "output_type": "stream",
     "text": [
      "[mbo] 23: cp=-0.832; minsplit=8; minbucket=4; maxdepth=13 : y = 4.15e+07 : 35.3 secs : infill_ei\n",
      "\n"
     ]
    },
    {
     "name": "stdout",
     "output_type": "stream",
     "text": [
      "20230430 141030\t-0.789328656446684\t3999\t126\t20\t5\t50583000\t40\n"
     ]
    },
    {
     "name": "stderr",
     "output_type": "stream",
     "text": [
      "[mbo] 24: cp=-0.789; minsplit=3999; minbucket=126; maxdepth=20 : y = 5.06e+07 : 36.0 secs : infill_ei\n",
      "\n"
     ]
    },
    {
     "name": "stdout",
     "output_type": "stream",
     "text": [
      "20230430 141103\t-0.680975325793806\t1755\t602\t20\t5\t53049000\t41\n"
     ]
    },
    {
     "name": "stderr",
     "output_type": "stream",
     "text": [
      "[mbo] 25: cp=-0.681; minsplit=1755; minbucket=602; maxdepth=20 : y = 5.3e+07 : 31.6 secs : infill_ei\n",
      "\n"
     ]
    },
    {
     "name": "stdout",
     "output_type": "stream",
     "text": [
      "20230430 141130\t-0.592494746216846\t5402\t345\t13\t5\t49221000\t42\n"
     ]
    },
    {
     "name": "stderr",
     "output_type": "stream",
     "text": [
      "[mbo] 26: cp=-0.592; minsplit=5402; minbucket=345; maxdepth=13 : y = 4.92e+07 : 26.5 secs : infill_ei\n",
      "\n"
     ]
    },
    {
     "name": "stdout",
     "output_type": "stream",
     "text": [
      "20230430 141152\t-0.0511291852787095\t7996\t3881\t15\t5\t49557000\t43\n"
     ]
    },
    {
     "name": "stderr",
     "output_type": "stream",
     "text": [
      "[mbo] 27: cp=-0.0511; minsplit=7996; minbucket=3881; maxdepth=15 : y = 4.96e+07 : 21.1 secs : infill_ei\n",
      "\n"
     ]
    },
    {
     "name": "stdout",
     "output_type": "stream",
     "text": [
      "20230430 141205\t-0.813685503919535\t8000\t2745\t3\t5\t49557000\t44\n"
     ]
    },
    {
     "name": "stderr",
     "output_type": "stream",
     "text": [
      "[mbo] 28: cp=-0.814; minsplit=8000; minbucket=2745; maxdepth=3 : y = 4.96e+07 : 11.6 secs : infill_ei\n",
      "\n"
     ]
    },
    {
     "name": "stdout",
     "output_type": "stream",
     "text": [
      "20230430 141218\t-0.812761164296194\t2064\t667\t3\t5\t51117000\t45\n"
     ]
    },
    {
     "name": "stderr",
     "output_type": "stream",
     "text": [
      "[mbo] 29: cp=-0.813; minsplit=2064; minbucket=667; maxdepth=3 : y = 5.11e+07 : 11.4 secs : infill_ei\n",
      "\n"
     ]
    },
    {
     "name": "stdout",
     "output_type": "stream",
     "text": [
      "20230430 141247\t-0.917003121455917\t3522\t477\t13\t5\t52959000\t46\n"
     ]
    },
    {
     "name": "stderr",
     "output_type": "stream",
     "text": [
      "[mbo] 30: cp=-0.917; minsplit=3522; minbucket=477; maxdepth=13 : y = 5.3e+07 : 28.0 secs : infill_ei\n",
      "\n"
     ]
    },
    {
     "name": "stdout",
     "output_type": "stream",
     "text": [
      "20230430 141309\t-0.999982486478147\t1673\t92\t7\t5\t52542000\t47\n"
     ]
    },
    {
     "name": "stderr",
     "output_type": "stream",
     "text": [
      "[mbo] 31: cp=-1; minsplit=1673; minbucket=92; maxdepth=7 : y = 5.25e+07 : 20.7 secs : infill_ei\n",
      "\n"
     ]
    },
    {
     "name": "stdout",
     "output_type": "stream",
     "text": [
      "20230430 141335\t-0.408946864694665\t3652\t1736\t11\t5\t52635000\t48\n"
     ]
    },
    {
     "name": "stderr",
     "output_type": "stream",
     "text": [
      "[mbo] 32: cp=-0.409; minsplit=3652; minbucket=1736; maxdepth=11 : y = 5.26e+07 : 25.1 secs : infill_ei\n",
      "\n"
     ]
    },
    {
     "name": "stdout",
     "output_type": "stream",
     "text": [
      "20230430 141354\t-0.999859906664225\t6098\t1192\t6\t5\t50823000\t49\n"
     ]
    },
    {
     "name": "stderr",
     "output_type": "stream",
     "text": [
      "[mbo] 33: cp=-1; minsplit=6098; minbucket=1192; maxdepth=6 : y = 5.08e+07 : 17.5 secs : infill_ei\n",
      "\n"
     ]
    },
    {
     "name": "stdout",
     "output_type": "stream",
     "text": [
      "20230430 141429\t-0.600051381547847\t1039\t511\t20\t5\t51381000\t50\n"
     ]
    },
    {
     "name": "stderr",
     "output_type": "stream",
     "text": [
      "[mbo] 34: cp=-0.6; minsplit=1039; minbucket=511; maxdepth=20 : y = 5.14e+07 : 33.4 secs : infill_ei\n",
      "\n",
      "Saved the current state after iteration 35 in the file HT321.RDATA.\n",
      "\n"
     ]
    },
    {
     "name": "stdout",
     "output_type": "stream",
     "text": [
      "20230430 141503\t-0.794646878562052\t1470\t713\t17\t5\t51363000\t51\n"
     ]
    },
    {
     "name": "stderr",
     "output_type": "stream",
     "text": [
      "[mbo] 35: cp=-0.795; minsplit=1470; minbucket=713; maxdepth=17 : y = 5.14e+07 : 32.1 secs : infill_ei\n",
      "\n"
     ]
    },
    {
     "name": "stdout",
     "output_type": "stream",
     "text": [
      "20230430 141529\t-0.875816184559691\t2438\t163\t10\t5\t51444000\t52\n"
     ]
    },
    {
     "name": "stderr",
     "output_type": "stream",
     "text": [
      "[mbo] 36: cp=-0.876; minsplit=2438; minbucket=163; maxdepth=10 : y = 5.14e+07 : 25.2 secs : infill_ei\n",
      "\n"
     ]
    },
    {
     "name": "stdout",
     "output_type": "stream",
     "text": [
      "20230430 141557\t-0.70044058114017\t1041\t262\t10\t5\t52461000\t53\n"
     ]
    },
    {
     "name": "stderr",
     "output_type": "stream",
     "text": [
      "[mbo] 37: cp=-0.7; minsplit=1041; minbucket=262; maxdepth=10 : y = 5.25e+07 : 26.6 secs : infill_ei\n",
      "\n"
     ]
    },
    {
     "name": "stdout",
     "output_type": "stream",
     "text": [
      "20230430 141628\t-0.81341686505101\t3370\t1\t12\t5\t51936000\t54\n"
     ]
    },
    {
     "name": "stderr",
     "output_type": "stream",
     "text": [
      "[mbo] 38: cp=-0.813; minsplit=3370; minbucket=1; maxdepth=12 : y = 5.19e+07 : 29.0 secs : infill_ei\n",
      "\n"
     ]
    },
    {
     "name": "stdout",
     "output_type": "stream",
     "text": [
      "20230430 141653\t-0.945122089600829\t8000\t1752\t20\t5\t50589000\t55\n"
     ]
    },
    {
     "name": "stderr",
     "output_type": "stream",
     "text": [
      "[mbo] 39: cp=-0.945; minsplit=8000; minbucket=1752; maxdepth=20 : y = 5.06e+07 : 24.1 secs : infill_ei\n",
      "\n"
     ]
    },
    {
     "name": "stdout",
     "output_type": "stream",
     "text": [
      "20230430 141720\t-0.531980602850136\t3858\t1664\t12\t5\t52722000\t56\n"
     ]
    },
    {
     "name": "stderr",
     "output_type": "stream",
     "text": [
      "[mbo] 40: cp=-0.532; minsplit=3858; minbucket=1664; maxdepth=12 : y = 5.27e+07 : 25.4 secs : infill_ei\n",
      "\n"
     ]
    },
    {
     "name": "stdout",
     "output_type": "stream",
     "text": [
      "20230430 141732\t-0.686889603151306\t7995\t7\t3\t5\t49626000\t57\n"
     ]
    },
    {
     "name": "stderr",
     "output_type": "stream",
     "text": [
      "[mbo] 41: cp=-0.687; minsplit=7995; minbucket=7; maxdepth=3 : y = 4.96e+07 : 11.0 secs : infill_ei\n",
      "\n"
     ]
    },
    {
     "name": "stdout",
     "output_type": "stream",
     "text": [
      "20230430 141755\t-0.074972227765847\t7995\t2888\t10\t5\t50184000\t58\n"
     ]
    },
    {
     "name": "stderr",
     "output_type": "stream",
     "text": [
      "[mbo] 42: cp=-0.075; minsplit=7995; minbucket=2888; maxdepth=10 : y = 5.02e+07 : 21.8 secs : infill_ei\n",
      "\n"
     ]
    },
    {
     "name": "stdout",
     "output_type": "stream",
     "text": [
      "20230430 141822\t-0.708844305933131\t3676\t1587\t20\t5\t52791000\t59\n"
     ]
    },
    {
     "name": "stderr",
     "output_type": "stream",
     "text": [
      "[mbo] 43: cp=-0.709; minsplit=3676; minbucket=1587; maxdepth=20 : y = 5.28e+07 : 26.5 secs : infill_ei\n",
      "\n"
     ]
    },
    {
     "name": "stdout",
     "output_type": "stream",
     "text": [
      "20230430 141839\t-0.919687575098277\t6759\t3376\t5\t5\t49557000\t60\n"
     ]
    },
    {
     "name": "stderr",
     "output_type": "stream",
     "text": [
      "[mbo] 44: cp=-0.92; minsplit=6759; minbucket=3376; maxdepth=5 : y = 4.96e+07 : 15.6 secs : infill_ei\n",
      "\n"
     ]
    },
    {
     "name": "stdout",
     "output_type": "stream",
     "text": [
      "20230430 141909\t-0.242579541043634\t7574\t4\t14\t5\t49806000\t61\n"
     ]
    },
    {
     "name": "stderr",
     "output_type": "stream",
     "text": [
      "[mbo] 45: cp=-0.243; minsplit=7574; minbucket=4; maxdepth=14 : y = 4.98e+07 : 28.2 secs : infill_ei\n",
      "\n"
     ]
    },
    {
     "name": "stdout",
     "output_type": "stream",
     "text": [
      "20230430 141937\t-0.450467078257579\t2736\t1362\t20\t5\t53232000\t62\n"
     ]
    },
    {
     "name": "stderr",
     "output_type": "stream",
     "text": [
      "[mbo] 46: cp=-0.45; minsplit=2736; minbucket=1362; maxdepth=20 : y = 5.32e+07 : 27.5 secs : infill_ei\n",
      "\n"
     ]
    },
    {
     "name": "stdout",
     "output_type": "stream",
     "text": [
      "20230430 142005\t-0.415489856343037\t4350\t1225\t14\t5\t52962000\t63\n"
     ]
    },
    {
     "name": "stderr",
     "output_type": "stream",
     "text": [
      "[mbo] 47: cp=-0.415; minsplit=4350; minbucket=1225; maxdepth=14 : y = 5.3e+07 : 26.8 secs : infill_ei\n",
      "\n"
     ]
    },
    {
     "name": "stdout",
     "output_type": "stream",
     "text": [
      "20230430 142027\t-0.458205034108151\t7992\t3833\t20\t5\t49557000\t64\n"
     ]
    },
    {
     "name": "stderr",
     "output_type": "stream",
     "text": [
      "[mbo] 48: cp=-0.458; minsplit=7992; minbucket=3833; maxdepth=20 : y = 4.96e+07 : 20.7 secs : infill_ei\n",
      "\n"
     ]
    },
    {
     "name": "stdout",
     "output_type": "stream",
     "text": [
      "20230430 142053\t-0.50716538054462\t7729\t1118\t20\t5\t50589000\t65\n"
     ]
    },
    {
     "name": "stderr",
     "output_type": "stream",
     "text": [
      "[mbo] 49: cp=-0.507; minsplit=7729; minbucket=1118; maxdepth=20 : y = 5.06e+07 : 25.0 secs : infill_ei\n",
      "\n"
     ]
    },
    {
     "name": "stdout",
     "output_type": "stream",
     "text": [
      "20230430 142120\t-0.999844389728974\t3976\t1985\t13\t5\t52716000\t66\n"
     ]
    },
    {
     "name": "stderr",
     "output_type": "stream",
     "text": [
      "[mbo] 50: cp=-1; minsplit=3976; minbucket=1985; maxdepth=13 : y = 5.27e+07 : 25.3 secs : infill_ei\n",
      "\n"
     ]
    },
    {
     "name": "stdout",
     "output_type": "stream",
     "text": [
      "20230430 142132\t-0.99970721242064\t4177\t9\t3\t5\t50613000\t67\n"
     ]
    },
    {
     "name": "stderr",
     "output_type": "stream",
     "text": [
      "[mbo] 51: cp=-1; minsplit=4177; minbucket=9; maxdepth=3 : y = 5.06e+07 : 11.0 secs : infill_ei\n",
      "\n"
     ]
    },
    {
     "name": "stdout",
     "output_type": "stream",
     "text": [
      "20230430 142159\t-0.935021848302498\t4607\t1409\t12\t5\t52845000\t68\n"
     ]
    },
    {
     "name": "stderr",
     "output_type": "stream",
     "text": [
      "[mbo] 52: cp=-0.935; minsplit=4607; minbucket=1409; maxdepth=12 : y = 5.28e+07 : 25.0 secs : infill_ei\n",
      "\n"
     ]
    },
    {
     "name": "stdout",
     "output_type": "stream",
     "text": [
      "20230430 142211\t-0.445821466453389\t763\t335\t3\t5\t51117000\t69\n"
     ]
    },
    {
     "name": "stderr",
     "output_type": "stream",
     "text": [
      "[mbo] 53: cp=-0.446; minsplit=763; minbucket=335; maxdepth=3 : y = 5.11e+07 : 11.4 secs : infill_ei\n",
      "\n"
     ]
    },
    {
     "name": "stdout",
     "output_type": "stream",
     "text": [
      "20230430 142258\t-0.713440888372283\t2286\t3\t20\t5\t51519000\t70\n"
     ]
    },
    {
     "name": "stderr",
     "output_type": "stream",
     "text": [
      "[mbo] 54: cp=-0.713; minsplit=2286; minbucket=3; maxdepth=20 : y = 5.15e+07 : 45.4 secs : infill_ei\n",
      "\n"
     ]
    },
    {
     "name": "stdout",
     "output_type": "stream",
     "text": [
      "20230430 142326\t-0.652655009042073\t3894\t1216\t13\t5\t52962000\t71\n"
     ]
    },
    {
     "name": "stderr",
     "output_type": "stream",
     "text": [
      "[mbo] 55: cp=-0.653; minsplit=3894; minbucket=1216; maxdepth=13 : y = 5.3e+07 : 26.6 secs : infill_ei\n",
      "\n"
     ]
    },
    {
     "name": "stdout",
     "output_type": "stream",
     "text": [
      "20230430 142356\t-0.806297119357741\t1809\t547\t12\t5\t52281000\t72\n"
     ]
    },
    {
     "name": "stderr",
     "output_type": "stream",
     "text": [
      "[mbo] 56: cp=-0.806; minsplit=1809; minbucket=547; maxdepth=12 : y = 5.23e+07 : 28.5 secs : infill_ei\n",
      "\n"
     ]
    },
    {
     "name": "stdout",
     "output_type": "stream",
     "text": [
      "20230430 142427\t-0.957399109965063\t2655\t1\t12\t5\t51915000\t73\n"
     ]
    },
    {
     "name": "stderr",
     "output_type": "stream",
     "text": [
      "[mbo] 57: cp=-0.957; minsplit=2655; minbucket=1; maxdepth=12 : y = 5.19e+07 : 29.8 secs : infill_ei\n",
      "\n"
     ]
    },
    {
     "name": "stdout",
     "output_type": "stream",
     "text": [
      "20230430 142454\t-0.922223369095662\t3761\t1700\t20\t5\t52680000\t74\n"
     ]
    },
    {
     "name": "stderr",
     "output_type": "stream",
     "text": [
      "[mbo] 58: cp=-0.922; minsplit=3761; minbucket=1700; maxdepth=20 : y = 5.27e+07 : 26.1 secs : infill_ei\n",
      "\n",
      "Saved the current state after iteration 59 in the file HT321.RDATA.\n",
      "\n"
     ]
    },
    {
     "name": "stdout",
     "output_type": "stream",
     "text": [
      "20230430 142513\t-0.490048875543216\t3725\t2\t6\t5\t51216000\t75\n"
     ]
    },
    {
     "name": "stderr",
     "output_type": "stream",
     "text": [
      "[mbo] 59: cp=-0.49; minsplit=3725; minbucket=2; maxdepth=6 : y = 5.12e+07 : 17.7 secs : infill_ei\n",
      "\n"
     ]
    },
    {
     "name": "stdout",
     "output_type": "stream",
     "text": [
      "20230430 142528\t-0.932151437997597\t8000\t79\t5\t5\t49758000\t76\n"
     ]
    },
    {
     "name": "stderr",
     "output_type": "stream",
     "text": [
      "[mbo] 60: cp=-0.932; minsplit=8000; minbucket=79; maxdepth=5 : y = 4.98e+07 : 14.3 secs : infill_ei\n",
      "\n"
     ]
    },
    {
     "name": "stdout",
     "output_type": "stream",
     "text": [
      "20230430 142541\t-0.321908528963171\t4450\t685\t3\t5\t50544000\t77\n"
     ]
    },
    {
     "name": "stderr",
     "output_type": "stream",
     "text": [
      "[mbo] 61: cp=-0.322; minsplit=4450; minbucket=685; maxdepth=3 : y = 5.05e+07 : 11.2 secs : infill_ei\n",
      "\n"
     ]
    },
    {
     "name": "stdout",
     "output_type": "stream",
     "text": [
      "20230430 142604\t-0.320272875495403\t7450\t3705\t10\t5\t50211000\t78\n"
     ]
    },
    {
     "name": "stderr",
     "output_type": "stream",
     "text": [
      "[mbo] 62: cp=-0.32; minsplit=7450; minbucket=3705; maxdepth=10 : y = 5.02e+07 : 21.2 secs : infill_ei\n",
      "\n"
     ]
    },
    {
     "name": "stdout",
     "output_type": "stream",
     "text": [
      "20230430 142621\t-0.818620231661239\t1150\t3\t5\t5\t52392000\t79\n"
     ]
    },
    {
     "name": "stderr",
     "output_type": "stream",
     "text": [
      "[mbo] 63: cp=-0.819; minsplit=1150; minbucket=3; maxdepth=5 : y = 5.24e+07 : 16.2 secs : infill_ei\n",
      "\n"
     ]
    },
    {
     "name": "stdout",
     "output_type": "stream",
     "text": [
      "20230430 142642\t-0.691241573787599\t2161\t1078\t6\t5\t52911000\t80\n"
     ]
    },
    {
     "name": "stderr",
     "output_type": "stream",
     "text": [
      "[mbo] 64: cp=-0.691; minsplit=2161; minbucket=1078; maxdepth=6 : y = 5.29e+07 : 18.5 secs : infill_ei\n",
      "\n"
     ]
    },
    {
     "name": "stdout",
     "output_type": "stream",
     "text": [
      "20230430 142712\t-0.658688803510931\t2147\t15\t12\t5\t52242000\t81\n"
     ]
    },
    {
     "name": "stderr",
     "output_type": "stream",
     "text": [
      "[mbo] 65: cp=-0.659; minsplit=2147; minbucket=15; maxdepth=12 : y = 5.22e+07 : 29.4 secs : infill_ei\n",
      "\n"
     ]
    },
    {
     "name": "stdout",
     "output_type": "stream",
     "text": [
      "20230430 142729\t-0.758353864789072\t3975\t1487\t5\t5\t52845000\t82\n"
     ]
    },
    {
     "name": "stderr",
     "output_type": "stream",
     "text": [
      "[mbo] 66: cp=-0.758; minsplit=3975; minbucket=1487; maxdepth=5 : y = 5.28e+07 : 15.2 secs : infill_ei\n",
      "\n"
     ]
    },
    {
     "name": "stdout",
     "output_type": "stream",
     "text": [
      "20230430 142746\t-0.773236797846854\t983\t17\t5\t5\t52737000\t83\n"
     ]
    },
    {
     "name": "stderr",
     "output_type": "stream",
     "text": [
      "[mbo] 67: cp=-0.773; minsplit=983; minbucket=17; maxdepth=5 : y = 5.27e+07 : 15.6 secs : infill_ei\n",
      "\n"
     ]
    },
    {
     "name": "stdout",
     "output_type": "stream",
     "text": [
      "20230430 142803\t-0.998417533756733\t2071\t1034\t5\t5\t53265000\t84\n"
     ]
    },
    {
     "name": "stderr",
     "output_type": "stream",
     "text": [
      "[mbo] 68: cp=-0.998; minsplit=2071; minbucket=1034; maxdepth=5 : y = 5.33e+07 : 15.9 secs : infill_ei\n",
      "\n"
     ]
    },
    {
     "name": "stdout",
     "output_type": "stream",
     "text": [
      "20230430 142828\t-0.999832532851892\t7398\t1563\t13\t5\t50589000\t85\n"
     ]
    },
    {
     "name": "stderr",
     "output_type": "stream",
     "text": [
      "[mbo] 69: cp=-1; minsplit=7398; minbucket=1563; maxdepth=13 : y = 5.06e+07 : 23.6 secs : infill_ei\n",
      "\n"
     ]
    },
    {
     "name": "stdout",
     "output_type": "stream",
     "text": [
      "20230430 142904\t-0.487337961323701\t2000\t185\t20\t5\t52464000\t86\n"
     ]
    },
    {
     "name": "stderr",
     "output_type": "stream",
     "text": [
      "[mbo] 70: cp=-0.487; minsplit=2000; minbucket=185; maxdepth=20 : y = 5.25e+07 : 34.5 secs : infill_ei\n",
      "\n"
     ]
    },
    {
     "name": "stdout",
     "output_type": "stream",
     "text": [
      "20230430 142916\t-0.363531940694457\t7465\t862\t3\t5\t49557000\t87\n"
     ]
    },
    {
     "name": "stderr",
     "output_type": "stream",
     "text": [
      "[mbo] 71: cp=-0.364; minsplit=7465; minbucket=862; maxdepth=3 : y = 4.96e+07 : 11.1 secs : infill_ei\n",
      "\n"
     ]
    },
    {
     "name": "stdout",
     "output_type": "stream",
     "text": [
      "20230430 142944\t-0.493915692739465\t3642\t1346\t20\t5\t52962000\t88\n"
     ]
    },
    {
     "name": "stderr",
     "output_type": "stream",
     "text": [
      "[mbo] 72: cp=-0.494; minsplit=3642; minbucket=1346; maxdepth=20 : y = 5.3e+07 : 25.8 secs : infill_ei\n",
      "\n"
     ]
    },
    {
     "name": "stdout",
     "output_type": "stream",
     "text": [
      "20230430 143012\t-0.687268728756981\t3056\t1528\t14\t5\t52689000\t89\n"
     ]
    },
    {
     "name": "stderr",
     "output_type": "stream",
     "text": [
      "[mbo] 73: cp=-0.687; minsplit=3056; minbucket=1528; maxdepth=14 : y = 5.27e+07 : 26.4 secs : infill_ei\n",
      "\n"
     ]
    },
    {
     "name": "stdout",
     "output_type": "stream",
     "text": [
      "20230430 143042\t-0.998801808013238\t2075\t1020\t20\t5\t51942000\t90\n"
     ]
    },
    {
     "name": "stderr",
     "output_type": "stream",
     "text": [
      "[mbo] 74: cp=-0.999; minsplit=2075; minbucket=1020; maxdepth=20 : y = 5.19e+07 : 28.4 secs : infill_ei\n",
      "\n"
     ]
    },
    {
     "name": "stdout",
     "output_type": "stream",
     "text": [
      "20230430 143103\t-0.318285983798589\t5303\t2651\t7\t5\t50238000\t91\n"
     ]
    },
    {
     "name": "stderr",
     "output_type": "stream",
     "text": [
      "[mbo] 75: cp=-0.318; minsplit=5303; minbucket=2651; maxdepth=7 : y = 5.02e+07 : 18.9 secs : infill_ei\n",
      "\n"
     ]
    },
    {
     "name": "stdout",
     "output_type": "stream",
     "text": [
      "20230430 143146\t-0.821767363763391\t2326\t4\t20\t5\t51078000\t92\n"
     ]
    },
    {
     "name": "stderr",
     "output_type": "stream",
     "text": [
      "[mbo] 76: cp=-0.822; minsplit=2326; minbucket=4; maxdepth=20 : y = 5.11e+07 : 42.4 secs : infill_ei\n",
      "\n"
     ]
    },
    {
     "name": "stdout",
     "output_type": "stream",
     "text": [
      "20230430 143201\t-0.996869978508578\t871\t425\t4\t5\t53316000\t93\n"
     ]
    },
    {
     "name": "stderr",
     "output_type": "stream",
     "text": [
      "[mbo] 77: cp=-0.997; minsplit=871; minbucket=425; maxdepth=4 : y = 5.33e+07 : 13.5 secs : infill_ei\n",
      "\n"
     ]
    },
    {
     "name": "stdout",
     "output_type": "stream",
     "text": [
      "20230430 143219\t-0.714663338868104\t960\t480\t5\t5\t54396000\t94\n"
     ]
    },
    {
     "name": "stderr",
     "output_type": "stream",
     "text": [
      "[mbo] 78: cp=-0.715; minsplit=960; minbucket=480; maxdepth=5 : y = 5.44e+07 : 15.9 secs : infill_ei\n",
      "\n"
     ]
    },
    {
     "name": "stdout",
     "output_type": "stream",
     "text": [
      "20230430 143240\t-0.118062133468747\t7484\t3741\t11\t5\t50133000\t95\n"
     ]
    },
    {
     "name": "stderr",
     "output_type": "stream",
     "text": [
      "[mbo] 79: cp=-0.118; minsplit=7484; minbucket=3741; maxdepth=11 : y = 5.01e+07 : 20.1 secs : infill_ei\n",
      "\n"
     ]
    },
    {
     "name": "stdout",
     "output_type": "stream",
     "text": [
      "20230430 143314\t-0.343578045554158\t1307\t651\t20\t5\t52077000\t96\n"
     ]
    },
    {
     "name": "stderr",
     "output_type": "stream",
     "text": [
      "[mbo] 80: cp=-0.344; minsplit=1307; minbucket=651; maxdepth=20 : y = 5.21e+07 : 31.8 secs : infill_ei\n",
      "\n"
     ]
    },
    {
     "name": "stdout",
     "output_type": "stream",
     "text": [
      "20230430 143339\t-0.314192409453327\t4871\t609\t11\t5\t51858000\t97\n"
     ]
    },
    {
     "name": "stderr",
     "output_type": "stream",
     "text": [
      "[mbo] 81: cp=-0.314; minsplit=4871; minbucket=609; maxdepth=11 : y = 5.19e+07 : 24.1 secs : infill_ei\n",
      "\n"
     ]
    },
    {
     "name": "stdout",
     "output_type": "stream",
     "text": [
      "20230430 143351\t-0.289592627600206\t5642\t5\t3\t5\t49626000\t98\n"
     ]
    },
    {
     "name": "stderr",
     "output_type": "stream",
     "text": [
      "[mbo] 82: cp=-0.29; minsplit=5642; minbucket=5; maxdepth=3 : y = 4.96e+07 : 10.5 secs : infill_ei\n",
      "\n"
     ]
    },
    {
     "name": "stdout",
     "output_type": "stream",
     "text": [
      "20230430 143408\t-0.676506150395125\t7998\t3995\t5\t5\t49557000\t99\n"
     ]
    },
    {
     "name": "stderr",
     "output_type": "stream",
     "text": [
      "[mbo] 83: cp=-0.677; minsplit=7998; minbucket=3995; maxdepth=5 : y = 4.96e+07 : 14.7 secs : infill_ei\n",
      "\n"
     ]
    },
    {
     "name": "stdout",
     "output_type": "stream",
     "text": [
      "20230430 143433\t-0.720847081121274\t8000\t1274\t15\t5\t50589000\t100\n"
     ]
    },
    {
     "name": "stderr",
     "output_type": "stream",
     "text": [
      "[mbo] 84: cp=-0.721; minsplit=8000; minbucket=1274; maxdepth=15 : y = 5.06e+07 : 23.8 secs : infill_ei\n",
      "\n"
     ]
    },
    {
     "name": "stdout",
     "output_type": "stream",
     "text": [
      "20230430 143450\t-0.682336701791112\t4314\t127\t5\t5\t51672000\t101\n"
     ]
    },
    {
     "name": "stderr",
     "output_type": "stream",
     "text": [
      "[mbo] 85: cp=-0.682; minsplit=4314; minbucket=127; maxdepth=5 : y = 5.17e+07 : 15.6 secs : infill_ei\n",
      "\n"
     ]
    },
    {
     "name": "stdout",
     "output_type": "stream",
     "text": [
      "20230430 143517\t-0.911010866447426\t3874\t1288\t12\t5\t52962000\t102\n"
     ]
    },
    {
     "name": "stderr",
     "output_type": "stream",
     "text": [
      "[mbo] 86: cp=-0.911; minsplit=3874; minbucket=1288; maxdepth=12 : y = 5.3e+07 : 24.8 secs : infill_ei\n",
      "\n",
      "Saved the current state after iteration 87 in the file HT321.RDATA.\n",
      "\n"
     ]
    },
    {
     "name": "stdout",
     "output_type": "stream",
     "text": [
      "20230430 143540\t-0.998119497159071\t6246\t3119\t20\t5\t49713000\t103\n"
     ]
    },
    {
     "name": "stderr",
     "output_type": "stream",
     "text": [
      "[mbo] 87: cp=-0.998; minsplit=6246; minbucket=3119; maxdepth=20 : y = 4.97e+07 : 21.4 secs : infill_ei\n",
      "\n"
     ]
    },
    {
     "name": "stdout",
     "output_type": "stream",
     "text": [
      "20230430 143609\t-0.394338851030935\t2149\t1070\t16\t5\t52584000\t104\n"
     ]
    },
    {
     "name": "stderr",
     "output_type": "stream",
     "text": [
      "[mbo] 88: cp=-0.394; minsplit=2149; minbucket=1070; maxdepth=16 : y = 5.26e+07 : 27.7 secs : infill_ei\n",
      "\n"
     ]
    },
    {
     "name": "stdout",
     "output_type": "stream",
     "text": [
      "20230430 143636\t-0.348053088325146\t3960\t1877\t17\t5\t51957000\t105\n"
     ]
    },
    {
     "name": "stderr",
     "output_type": "stream",
     "text": [
      "[mbo] 89: cp=-0.348; minsplit=3960; minbucket=1877; maxdepth=17 : y = 5.2e+07 : 25.1 secs : infill_ei\n",
      "\n"
     ]
    },
    {
     "name": "stdout",
     "output_type": "stream",
     "text": [
      "20230430 143648\t-0.740690920900173\t6842\t1253\t3\t5\t49557000\t106\n"
     ]
    },
    {
     "name": "stderr",
     "output_type": "stream",
     "text": [
      "[mbo] 90: cp=-0.741; minsplit=6842; minbucket=1253; maxdepth=3 : y = 4.96e+07 : 11.0 secs : infill_ei\n",
      "\n"
     ]
    },
    {
     "name": "stdout",
     "output_type": "stream",
     "text": [
      "20230430 143719\t-0.725722260821317\t2059\t1029\t19\t5\t52179000\t107\n"
     ]
    },
    {
     "name": "stderr",
     "output_type": "stream",
     "text": [
      "[mbo] 91: cp=-0.726; minsplit=2059; minbucket=1029; maxdepth=19 : y = 5.22e+07 : 29.2 secs : infill_ei\n",
      "\n"
     ]
    },
    {
     "name": "stdout",
     "output_type": "stream",
     "text": [
      "20230430 143746\t-0.667123567127133\t4462\t1380\t20\t5\t52845000\t108\n"
     ]
    },
    {
     "name": "stderr",
     "output_type": "stream",
     "text": [
      "[mbo] 92: cp=-0.667; minsplit=4462; minbucket=1380; maxdepth=20 : y = 5.28e+07 : 25.7 secs : infill_ei\n",
      "\n"
     ]
    },
    {
     "name": "stdout",
     "output_type": "stream",
     "text": [
      "20230430 143807\t-0.0101295955852963\t7999\t3994\t8\t5\t49557000\t109\n"
     ]
    },
    {
     "name": "stderr",
     "output_type": "stream",
     "text": [
      "[mbo] 93: cp=-0.0101; minsplit=7999; minbucket=3994; maxdepth=8 : y = 4.96e+07 : 19.4 secs : infill_ei\n",
      "\n"
     ]
    },
    {
     "name": "stdout",
     "output_type": "stream",
     "text": [
      "20230430 143835\t-0.938897735865712\t4249\t1473\t16\t5\t52845000\t110\n"
     ]
    },
    {
     "name": "stderr",
     "output_type": "stream",
     "text": [
      "[mbo] 94: cp=-0.939; minsplit=4249; minbucket=1473; maxdepth=16 : y = 5.28e+07 : 26.2 secs : infill_ei\n",
      "\n"
     ]
    },
    {
     "name": "stdout",
     "output_type": "stream",
     "text": [
      "20230430 143859\t-0.408274251794865\t7616\t2243\t15\t5\t50565000\t111\n"
     ]
    },
    {
     "name": "stderr",
     "output_type": "stream",
     "text": [
      "[mbo] 95: cp=-0.408; minsplit=7616; minbucket=2243; maxdepth=15 : y = 5.06e+07 : 23.3 secs : infill_ei\n",
      "\n"
     ]
    },
    {
     "name": "stdout",
     "output_type": "stream",
     "text": [
      "20230430 143913\t-0.673014098837391\t3684\t1841\t3\t5\t50544000\t112\n"
     ]
    },
    {
     "name": "stderr",
     "output_type": "stream",
     "text": [
      "[mbo] 96: cp=-0.673; minsplit=3684; minbucket=1841; maxdepth=3 : y = 5.05e+07 : 11.5 secs : infill_ei\n",
      "\n"
     ]
    },
    {
     "name": "stdout",
     "output_type": "stream",
     "text": [
      "20230430 143925\t-0.0436229416159477\t7996\t207\t3\t5\t49557000\t113\n"
     ]
    },
    {
     "name": "stderr",
     "output_type": "stream",
     "text": [
      "[mbo] 97: cp=-0.0436; minsplit=7996; minbucket=207; maxdepth=3 : y = 4.96e+07 : 11.3 secs : infill_ei\n",
      "\n"
     ]
    },
    {
     "name": "stdout",
     "output_type": "stream",
     "text": [
      "20230430 143957\t-0.38184902601332\t2855\t168\t14\t5\t51855000\t114\n"
     ]
    },
    {
     "name": "stderr",
     "output_type": "stream",
     "text": [
      "[mbo] 98: cp=-0.382; minsplit=2855; minbucket=168; maxdepth=14 : y = 5.19e+07 : 30.5 secs : infill_ei\n",
      "\n"
     ]
    },
    {
     "name": "stdout",
     "output_type": "stream",
     "text": [
      "20230430 144020\t-0.824423717555402\t7995\t3997\t14\t5\t49557000\t115\n"
     ]
    },
    {
     "name": "stderr",
     "output_type": "stream",
     "text": [
      "[mbo] 99: cp=-0.824; minsplit=7995; minbucket=3997; maxdepth=14 : y = 4.96e+07 : 20.4 secs : infill_ei\n",
      "\n"
     ]
    },
    {
     "name": "stdout",
     "output_type": "stream",
     "text": [
      "20230430 144040\t-0.668786765169118\t1202\t471\t6\t5\t54504000\t116\n"
     ]
    },
    {
     "name": "stderr",
     "output_type": "stream",
     "text": [
      "[mbo] 100: cp=-0.669; minsplit=1202; minbucket=471; maxdepth=6 : y = 5.45e+07 : 18.4 secs : infill_ei\n",
      "\n",
      "Saved the final state in the file HT321.RDATA\n",
      "\n"
     ]
    }
   ],
   "source": [
    "#Optimizacion Bayesiana de hiperparametros de  rpart\n",
    "\n",
    "#limpio la memoria\n",
    "rm( list=ls() )  #remove all objects\n",
    "gc()             #garbage collection\n",
    "\n",
    "require(\"data.table\")\n",
    "require(\"rlist\")\n",
    "\n",
    "require(\"rpart\")\n",
    "require(\"parallel\")\n",
    "\n",
    "#paquetes necesarios para la Bayesian Optimization\n",
    "require(\"DiceKriging\")\n",
    "require(\"mlrMBO\")\n",
    "\n",
    "\n",
    "#Defino la  Optimizacion Bayesiana\n",
    "\n",
    "kBO_iter  <- 100   #cantidad de iteraciones de la Optimizacion Bayesiana\n",
    "\n",
    "hs  <- makeParamSet(\n",
    "          makeNumericParam(\"cp\"       , lower= -1   , upper=    0.1),\n",
    "          makeIntegerParam(\"minsplit\" , lower=  1L  , upper= 8000L),  #la letra L al final significa ENTERO\n",
    "          makeIntegerParam(\"minbucket\", lower=  1L  , upper= 4000L),\n",
    "          makeIntegerParam(\"maxdepth\" , lower=  3L  , upper=   20L),\n",
    "          forbidden = quote( minbucket > 0.5*minsplit ) )             # minbuket NO PUEDE ser mayor que la mitad de minsplit\n",
    "\n",
    "ksemilla_azar  <- 677213   #cambiar por la primer semilla\n",
    "\n",
    "#------------------------------------------------------------------------------\n",
    "#graba a un archivo los componentes de lista\n",
    "#para el primer registro, escribe antes los titulos\n",
    "\n",
    "loguear  <- function( reg, arch=NA, folder=\"./work/\", ext=\".txt\", verbose=TRUE )\n",
    "{\n",
    "  archivo  <- arch\n",
    "  if( is.na(arch) )  archivo  <- paste0( folder, substitute( reg), ext )\n",
    "\n",
    "  if( !file.exists( archivo ) )  #Escribo los titulos\n",
    "  {\n",
    "    linea  <- paste0( \"fecha\\t\", \n",
    "                      paste( list.names(reg), collapse=\"\\t\" ), \"\\n\" )\n",
    "\n",
    "    cat( linea, file=archivo )\n",
    "  }\n",
    "\n",
    "  linea  <- paste0( format(Sys.time(), \"%Y%m%d %H%M%S\"),  \"\\t\",     #la fecha y hora\n",
    "                    gsub( \", \", \"\\t\", toString( reg ) ),  \"\\n\" )\n",
    "\n",
    "  cat( linea, file=archivo, append=TRUE )  #grabo al archivo\n",
    "\n",
    "  if( verbose )  cat( linea )   #imprimo por pantalla\n",
    "}\n",
    "#------------------------------------------------------------------------------\n",
    "#particionar agrega una columna llamada fold a un dataset que consiste en una particion estratificada segun agrupa\n",
    "# particionar( data=dataset, division=c(70,30), agrupa=clase_ternaria, seed=semilla)   crea una particion 70, 30 \n",
    "# particionar( data=dataset, division=c(1,1,1,1,1), agrupa=clase_ternaria, seed=semilla)   divide el dataset en 5 particiones\n",
    "\n",
    "particionar  <- function( data, division, agrupa=\"\", campo=\"fold\", start=1, seed=NA )\n",
    "{\n",
    "  if( !is.na( seed)  )   set.seed( seed )\n",
    "\n",
    "  bloque  <- unlist( mapply(  function(x,y) { rep( y, x ) }, division, seq( from=start, length.out=length(division) )  ) )\n",
    "\n",
    "  data[ , (campo) :=  sample( rep( bloque, ceiling(.N/length(bloque))) )[1:.N],\n",
    "           by= agrupa ]\n",
    "}\n",
    "#------------------------------------------------------------------------------\n",
    "#fold_test  tiene el numero de fold que voy a usar para testear, entreno en el resto de los folds\n",
    "#param tiene los hiperparametros del arbol\n",
    "\n",
    "ArbolSimple  <- function( fold_test, data, param )\n",
    "{\n",
    "  #genero el modelo\n",
    "  modelo  <- rpart(\"clase_ternaria ~ .\", \n",
    "                   data= data[ fold != fold_test, ],  #entreno en todo MENOS el fold_test que uso para testing\n",
    "                   xval= 0,\n",
    "                   control= param )\n",
    "\n",
    "  #aplico el modelo a los datos de testing\n",
    "  prediccion  <- predict( modelo, \n",
    "                          data[ fold==fold_test, ],  #aplico el modelo sobre los datos de testing\n",
    "                          type= \"prob\")   #quiero que me devuelva probabilidades\n",
    "\n",
    "  prob_baja2  <- prediccion[, \"BAJA+2\"]  #esta es la probabilidad de baja\n",
    "\n",
    "  #calculo la ganancia\n",
    "  ganancia_testing  <- data[ fold==fold_test ][ prob_baja2 > 1/40,  \n",
    "                                                sum( ifelse( clase_ternaria==\"BAJA+2\", 117000, -3000 ) )] \n",
    "\n",
    "  return( ganancia_testing )  #esta es la ganancia sobre el fold de testing, NO esta normalizada\n",
    "}\n",
    "#------------------------------------------------------------------------------\n",
    "\n",
    "ArbolesCrossValidation  <- function( data, param, qfolds, pagrupa, semilla )\n",
    "{\n",
    "  divi  <- rep( 1, qfolds )  # generalmente  c(1, 1, 1, 1, 1 )  cinco unos\n",
    "\n",
    "  particionar( data, divi, seed=semilla, agrupa=pagrupa )  #particiono en dataset en folds\n",
    "\n",
    "  ganancias  <- mcmapply( ArbolSimple, \n",
    "                          seq(qfolds), # 1 2 3 4 5\n",
    "                          MoreArgs= list( data, param), \n",
    "                          SIMPLIFY= FALSE,\n",
    "                          mc.cores= 1 )   #se puede subir a qfolds si posee Linux o Mac OS\n",
    "\n",
    "  data[ , fold := NULL ]\n",
    "\n",
    "  #devuelvo la primer ganancia y el promedio\n",
    "  ganancia_promedio  <- mean( unlist( ganancias ) )   #promedio las ganancias\n",
    "  ganancia_promedio_normalizada  <- ganancia_promedio * qfolds  #aqui normalizo la ganancia\n",
    "  \n",
    "  return( ganancia_promedio_normalizada )\n",
    "}\n",
    "#------------------------------------------------------------------------------\n",
    "#esta funcion solo puede recibir los parametros que se estan optimizando\n",
    "#el resto de los parametros, lamentablemente se pasan como variables globales\n",
    "\n",
    "EstimarGanancia  <- function( x )\n",
    "{\n",
    "   GLOBAL_iteracion  <<-  GLOBAL_iteracion + 1\n",
    "\n",
    "   xval_folds  <- 5\n",
    "   ganancia  <- ArbolesCrossValidation( dataset,\n",
    "                                        param= x, #los hiperparametros del arbol\n",
    "                                        qfolds= xval_folds,  #la cantidad de folds\n",
    "                                        pagrupa= \"clase_ternaria\",\n",
    "                                        semilla= ksemilla_azar )\n",
    "\n",
    "   #logueo \n",
    "   xx  <- x\n",
    "   xx$xval_folds  <-  xval_folds\n",
    "   xx$ganancia  <- ganancia\n",
    "   xx$iteracion <- GLOBAL_iteracion\n",
    "   loguear( xx,  arch= archivo_log )\n",
    "\n",
    "   return( ganancia )\n",
    "}\n",
    "#------------------------------------------------------------------------------\n",
    "#Aqui empieza el programa\n",
    "\n",
    "setwd(\".\")   #Establezco el Working Directory\n",
    "\n",
    "#cargo los datos\n",
    "dataset  <- fread(\"../datasets/dataset_pequeno.csv\")\n",
    "#trabajo solo con los datos con clase, es decir 202107\n",
    "dataset  <- dataset[ clase_ternaria!= \"\" ]\n",
    "\n",
    "\n",
    "#creo la carpeta donde va el experimento\n",
    "# HT  representa  Hiperparameter Tuning\n",
    "dir.create( \"./exp/\",  showWarnings = FALSE ) \n",
    "dir.create( \"./exp/HT3210/\", showWarnings = FALSE )\n",
    "setwd(\"./exp/HT3210/\")   #Establezco el Working Directory DEL EXPERIMENTO\n",
    "\n",
    "\n",
    "archivo_log  <- \"HT321.txt\"\n",
    "archivo_BO   <- \"HT321.RDATA\"\n",
    "\n",
    "#leo si ya existe el log, para retomar en caso que se se corte el programa\n",
    "GLOBAL_iteracion  <- 0\n",
    "\n",
    "if( file.exists(archivo_log) )\n",
    "{\n",
    " tabla_log  <- fread( archivo_log )\n",
    " GLOBAL_iteracion  <- nrow( tabla_log )\n",
    "}\n",
    "\n",
    "\n",
    "\n",
    "#Aqui comienza la configuracion de la Bayesian Optimization\n",
    "\n",
    "funcion_optimizar  <- EstimarGanancia\n",
    "\n",
    "configureMlr( show.learner.output= FALSE)\n",
    "\n",
    "#configuro la busqueda bayesiana,  los hiperparametros que se van a optimizar\n",
    "#por favor, no desesperarse por lo complejo\n",
    "obj.fun  <- makeSingleObjectiveFunction(\n",
    "              fn=       funcion_optimizar,\n",
    "              minimize= FALSE,   #estoy Maximizando la ganancia\n",
    "              noisy=    TRUE,\n",
    "              par.set=  hs,\n",
    "              has.simple.signature = FALSE\n",
    "             )\n",
    "\n",
    "ctrl  <- makeMBOControl( save.on.disk.at.time= 600,  save.file.path= archivo_BO)\n",
    "ctrl  <- setMBOControlTermination(ctrl, iters= kBO_iter )\n",
    "ctrl  <- setMBOControlInfill(ctrl, crit= makeMBOInfillCritEI())\n",
    "\n",
    "surr.km  <- makeLearner(\"regr.km\", predict.type= \"se\", covtype= \"matern3_2\", control= list(trace= TRUE))\n",
    "\n",
    "#inicio la optimizacion bayesiana\n",
    "if( !file.exists( archivo_BO ) ) {\n",
    "\n",
    "  run  <- mbo( fun=     obj.fun, \n",
    "               learner= surr.km,\n",
    "               control= ctrl)\n",
    "\n",
    "} else  run  <- mboContinue( archivo_BO )   #retomo en caso que ya exista\n",
    "\n"
   ]
  },
  {
   "cell_type": "code",
   "execution_count": null,
   "id": "23882fec-b176-48f1-b54a-44f6ac182f0b",
   "metadata": {},
   "outputs": [],
   "source": []
  }
 ],
 "metadata": {
  "kernelspec": {
   "display_name": "R",
   "language": "R",
   "name": "ir"
  },
  "language_info": {
   "codemirror_mode": "r",
   "file_extension": ".r",
   "mimetype": "text/x-r-source",
   "name": "R",
   "pygments_lexer": "r",
   "version": "4.3.0"
  }
 },
 "nbformat": 4,
 "nbformat_minor": 5
}
